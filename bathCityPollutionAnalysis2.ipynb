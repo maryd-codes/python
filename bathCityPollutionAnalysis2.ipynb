{
 "cells": [
  {
   "cell_type": "markdown",
   "metadata": {},
   "source": [
    "# Revisiting \"Tableau in the time of corona\"\n",
    "\n",
    "Previous post here: https://www.linkedin.com/pulse/tableau-time-corona-mary-dy/"
   ]
  },
  {
   "cell_type": "code",
   "execution_count": 1,
   "metadata": {},
   "outputs": [],
   "source": [
    "import numpy as np\n",
    "import pandas as pd\n",
    "import matplotlib.pyplot as plt\n",
    "import seaborn as sns"
   ]
  },
  {
   "cell_type": "markdown",
   "metadata": {},
   "source": [
    "## Working with 2019 data"
   ]
  },
  {
   "cell_type": "code",
   "execution_count": 16,
   "metadata": {},
   "outputs": [
    {
     "data": {
      "text/html": [
       "<div>\n",
       "<style scoped>\n",
       "    .dataframe tbody tr th:only-of-type {\n",
       "        vertical-align: middle;\n",
       "    }\n",
       "\n",
       "    .dataframe tbody tr th {\n",
       "        vertical-align: top;\n",
       "    }\n",
       "\n",
       "    .dataframe thead th {\n",
       "        text-align: right;\n",
       "    }\n",
       "</style>\n",
       "<table border=\"1\" class=\"dataframe\">\n",
       "  <thead>\n",
       "    <tr style=\"text-align: right;\">\n",
       "      <th></th>\n",
       "      <th>Date</th>\n",
       "      <th>Time</th>\n",
       "      <th>Nitrogen dioxide</th>\n",
       "      <th>Status</th>\n",
       "      <th>Nitrogen oxides as nitrogen dioxide</th>\n",
       "      <th>Status.1</th>\n",
       "    </tr>\n",
       "  </thead>\n",
       "  <tbody>\n",
       "    <tr>\n",
       "      <th>0</th>\n",
       "      <td>2019-01-01</td>\n",
       "      <td>01:00:00</td>\n",
       "      <td>33.23608</td>\n",
       "      <td>V ugm-3</td>\n",
       "      <td>61.18806</td>\n",
       "      <td>V ugm-3</td>\n",
       "    </tr>\n",
       "    <tr>\n",
       "      <th>1</th>\n",
       "      <td>2019-01-01</td>\n",
       "      <td>02:00:00</td>\n",
       "      <td>33.72772</td>\n",
       "      <td>V ugm-3</td>\n",
       "      <td>57.8806</td>\n",
       "      <td>V ugm-3</td>\n",
       "    </tr>\n",
       "    <tr>\n",
       "      <th>2</th>\n",
       "      <td>2019-01-01</td>\n",
       "      <td>03:00:00</td>\n",
       "      <td>36.44534</td>\n",
       "      <td>V ugm-3</td>\n",
       "      <td>66.09019</td>\n",
       "      <td>V ugm-3</td>\n",
       "    </tr>\n",
       "    <tr>\n",
       "      <th>3</th>\n",
       "      <td>2019-01-01</td>\n",
       "      <td>04:00:00</td>\n",
       "      <td>34.67313</td>\n",
       "      <td>V ugm-3</td>\n",
       "      <td>61.77868</td>\n",
       "      <td>V ugm-3</td>\n",
       "    </tr>\n",
       "    <tr>\n",
       "      <th>4</th>\n",
       "      <td>2019-01-01</td>\n",
       "      <td>05:00:00</td>\n",
       "      <td>30.41936</td>\n",
       "      <td>V ugm-3</td>\n",
       "      <td>48.25352</td>\n",
       "      <td>V ugm-3</td>\n",
       "    </tr>\n",
       "  </tbody>\n",
       "</table>\n",
       "</div>"
      ],
      "text/plain": [
       "         Date      Time Nitrogen dioxide   Status  \\\n",
       "0  2019-01-01  01:00:00         33.23608  V ugm-3   \n",
       "1  2019-01-01  02:00:00         33.72772  V ugm-3   \n",
       "2  2019-01-01  03:00:00         36.44534  V ugm-3   \n",
       "3  2019-01-01  04:00:00         34.67313  V ugm-3   \n",
       "4  2019-01-01  05:00:00         30.41936  V ugm-3   \n",
       "\n",
       "  Nitrogen oxides as nitrogen dioxide Status.1  \n",
       "0                            61.18806  V ugm-3  \n",
       "1                             57.8806  V ugm-3  \n",
       "2                            66.09019  V ugm-3  \n",
       "3                            61.77868  V ugm-3  \n",
       "4                            48.25352  V ugm-3  "
      ]
     },
     "execution_count": 16,
     "metadata": {},
     "output_type": "execute_result"
    }
   ],
   "source": [
    "df2019 = pd.read_csv(\"data/no2_bathRoadside_2019_short.csv\")\n",
    "df2019.head()"
   ]
  },
  {
   "cell_type": "code",
   "execution_count": 17,
   "metadata": {},
   "outputs": [
    {
     "name": "stdout",
     "output_type": "stream",
     "text": [
      "<class 'pandas.core.frame.DataFrame'>\n",
      "RangeIndex: 3624 entries, 0 to 3623\n",
      "Data columns (total 6 columns):\n",
      " #   Column                               Non-Null Count  Dtype \n",
      "---  ------                               --------------  ----- \n",
      " 0   Date                                 3624 non-null   object\n",
      " 1   Time                                 3624 non-null   object\n",
      " 2   Nitrogen dioxide                     3624 non-null   object\n",
      " 3   Status                               3624 non-null   object\n",
      " 4   Nitrogen oxides as nitrogen dioxide  3624 non-null   object\n",
      " 5   Status.1                             3624 non-null   object\n",
      "dtypes: object(6)\n",
      "memory usage: 170.0+ KB\n"
     ]
    }
   ],
   "source": [
    "df2019.info()"
   ]
  },
  {
   "cell_type": "markdown",
   "metadata": {},
   "source": [
    "* No missing values\n",
    "* Date column is object rather than time series --> convert\n",
    "* Date column is in YYYY-MM-DD format\n",
    "* Time column not necessary for initial purposes --> discard or exclude\n",
    "* Nitrogen dioxide column is object rather than numeric --> convert\n",
    "* Status and Status.1 column not necessary for purposes, but remember that the unit measurement is ugm3\n",
    "* Nitrogen oxides column --> probably exclude for simplicity, but possibly add values to Nitrogen dioxide. Convert dtype from object to numeric first, if including in analysis. Will be excluded for initial purposes\n",
    "\n",
    "#### Clean 2019 end product: \n",
    "* Exclude all other columns for now\n",
    "* Date column as datetime values\n",
    "* Time as is; will be excluded in following aggregations\n",
    "* Nitrogen dioxide as numeric values\n",
    "\n",
    "#### Work with clean 2019 to aggregate and plot NO2 levels."
   ]
  },
  {
   "cell_type": "code",
   "execution_count": 18,
   "metadata": {},
   "outputs": [
    {
     "data": {
      "text/html": [
       "<div>\n",
       "<style scoped>\n",
       "    .dataframe tbody tr th:only-of-type {\n",
       "        vertical-align: middle;\n",
       "    }\n",
       "\n",
       "    .dataframe tbody tr th {\n",
       "        vertical-align: top;\n",
       "    }\n",
       "\n",
       "    .dataframe thead th {\n",
       "        text-align: right;\n",
       "    }\n",
       "</style>\n",
       "<table border=\"1\" class=\"dataframe\">\n",
       "  <thead>\n",
       "    <tr style=\"text-align: right;\">\n",
       "      <th></th>\n",
       "      <th>Date</th>\n",
       "      <th>Time</th>\n",
       "      <th>Nitrogen dioxide</th>\n",
       "    </tr>\n",
       "  </thead>\n",
       "  <tbody>\n",
       "    <tr>\n",
       "      <th>0</th>\n",
       "      <td>2019-01-01</td>\n",
       "      <td>01:00:00</td>\n",
       "      <td>33.23608</td>\n",
       "    </tr>\n",
       "    <tr>\n",
       "      <th>1</th>\n",
       "      <td>2019-01-01</td>\n",
       "      <td>02:00:00</td>\n",
       "      <td>33.72772</td>\n",
       "    </tr>\n",
       "    <tr>\n",
       "      <th>2</th>\n",
       "      <td>2019-01-01</td>\n",
       "      <td>03:00:00</td>\n",
       "      <td>36.44534</td>\n",
       "    </tr>\n",
       "    <tr>\n",
       "      <th>3</th>\n",
       "      <td>2019-01-01</td>\n",
       "      <td>04:00:00</td>\n",
       "      <td>34.67313</td>\n",
       "    </tr>\n",
       "    <tr>\n",
       "      <th>4</th>\n",
       "      <td>2019-01-01</td>\n",
       "      <td>05:00:00</td>\n",
       "      <td>30.41936</td>\n",
       "    </tr>\n",
       "  </tbody>\n",
       "</table>\n",
       "</div>"
      ],
      "text/plain": [
       "         Date      Time Nitrogen dioxide\n",
       "0  2019-01-01  01:00:00         33.23608\n",
       "1  2019-01-01  02:00:00         33.72772\n",
       "2  2019-01-01  03:00:00         36.44534\n",
       "3  2019-01-01  04:00:00         34.67313\n",
       "4  2019-01-01  05:00:00         30.41936"
      ]
     },
     "execution_count": 18,
     "metadata": {},
     "output_type": "execute_result"
    }
   ],
   "source": [
    "clean2019 = df2019[[\"Date\", \"Time\", \"Nitrogen dioxide\"]]\n",
    "clean2019.head()"
   ]
  },
  {
   "cell_type": "code",
   "execution_count": 21,
   "metadata": {},
   "outputs": [
    {
     "name": "stdout",
     "output_type": "stream",
     "text": [
      "<class 'pandas.core.frame.DataFrame'>\n",
      "RangeIndex: 3624 entries, 0 to 3623\n",
      "Data columns (total 3 columns):\n",
      " #   Column            Non-Null Count  Dtype         \n",
      "---  ------            --------------  -----         \n",
      " 0   Date              3624 non-null   datetime64[ns]\n",
      " 1   Time              3624 non-null   object        \n",
      " 2   Nitrogen dioxide  3624 non-null   object        \n",
      "dtypes: datetime64[ns](1), object(2)\n",
      "memory usage: 85.1+ KB\n"
     ]
    },
    {
     "name": "stderr",
     "output_type": "stream",
     "text": [
      "C:\\Users\\marydy\\anaconda3\\lib\\site-packages\\ipykernel_launcher.py:1: SettingWithCopyWarning: \n",
      "A value is trying to be set on a copy of a slice from a DataFrame.\n",
      "Try using .loc[row_indexer,col_indexer] = value instead\n",
      "\n",
      "See the caveats in the documentation: https://pandas.pydata.org/pandas-docs/stable/user_guide/indexing.html#returning-a-view-versus-a-copy\n",
      "  \"\"\"Entry point for launching an IPython kernel.\n"
     ]
    }
   ],
   "source": [
    "clean2019[\"Date\"] = pd.to_datetime(clean2019[\"Date\"])\n",
    "clean2019.info()"
   ]
  },
  {
   "cell_type": "code",
   "execution_count": 22,
   "metadata": {},
   "outputs": [
    {
     "name": "stdout",
     "output_type": "stream",
     "text": [
      "<class 'pandas.core.frame.DataFrame'>\n",
      "RangeIndex: 3624 entries, 0 to 3623\n",
      "Data columns (total 3 columns):\n",
      " #   Column            Non-Null Count  Dtype         \n",
      "---  ------            --------------  -----         \n",
      " 0   Date              3624 non-null   datetime64[ns]\n",
      " 1   Time              3624 non-null   object        \n",
      " 2   Nitrogen dioxide  3557 non-null   float64       \n",
      "dtypes: datetime64[ns](1), float64(1), object(1)\n",
      "memory usage: 85.1+ KB\n"
     ]
    },
    {
     "name": "stderr",
     "output_type": "stream",
     "text": [
      "C:\\Users\\marydy\\anaconda3\\lib\\site-packages\\ipykernel_launcher.py:1: SettingWithCopyWarning: \n",
      "A value is trying to be set on a copy of a slice from a DataFrame.\n",
      "Try using .loc[row_indexer,col_indexer] = value instead\n",
      "\n",
      "See the caveats in the documentation: https://pandas.pydata.org/pandas-docs/stable/user_guide/indexing.html#returning-a-view-versus-a-copy\n",
      "  \"\"\"Entry point for launching an IPython kernel.\n"
     ]
    }
   ],
   "source": [
    "clean2019[\"Nitrogen dioxide\"] = pd.to_numeric(clean2019[\"Nitrogen dioxide\"], errors=\"coerce\")\n",
    "clean2019.info()"
   ]
  },
  {
   "cell_type": "code",
   "execution_count": 23,
   "metadata": {},
   "outputs": [
    {
     "data": {
      "text/plain": [
       "67"
      ]
     },
     "execution_count": 23,
     "metadata": {},
     "output_type": "execute_result"
    }
   ],
   "source": [
    "# missing values popped up in Nitrogen dioxide column\n",
    "clean2019[\"Nitrogen dioxide\"].isna().sum()"
   ]
  },
  {
   "cell_type": "code",
   "execution_count": 30,
   "metadata": {},
   "outputs": [
    {
     "name": "stdout",
     "output_type": "stream",
     "text": [
      "<class 'pandas.core.frame.DataFrame'>\n",
      "RangeIndex: 3624 entries, 0 to 3623\n",
      "Data columns (total 3 columns):\n",
      " #   Column            Non-Null Count  Dtype         \n",
      "---  ------            --------------  -----         \n",
      " 0   Date              3624 non-null   datetime64[ns]\n",
      " 1   Time              3624 non-null   object        \n",
      " 2   Nitrogen dioxide  3624 non-null   float64       \n",
      "dtypes: datetime64[ns](1), float64(1), object(1)\n",
      "memory usage: 85.1+ KB\n"
     ]
    },
    {
     "name": "stderr",
     "output_type": "stream",
     "text": [
      "C:\\Users\\marydy\\anaconda3\\lib\\site-packages\\pandas\\core\\generic.py:6245: SettingWithCopyWarning: \n",
      "A value is trying to be set on a copy of a slice from a DataFrame\n",
      "\n",
      "See the caveats in the documentation: https://pandas.pydata.org/pandas-docs/stable/user_guide/indexing.html#returning-a-view-versus-a-copy\n",
      "  self._update_inplace(new_data)\n"
     ]
    }
   ],
   "source": [
    "clean2019[\"Nitrogen dioxide\"].fillna(0, inplace=True)\n",
    "clean2019.info()\n",
    "# no more missing values"
   ]
  },
  {
   "cell_type": "code",
   "execution_count": 147,
   "metadata": {},
   "outputs": [
    {
     "name": "stderr",
     "output_type": "stream",
     "text": [
      "C:\\Users\\marydy\\anaconda3\\lib\\site-packages\\ipykernel_launcher.py:1: SettingWithCopyWarning: \n",
      "A value is trying to be set on a copy of a slice from a DataFrame.\n",
      "Try using .loc[row_indexer,col_indexer] = value instead\n",
      "\n",
      "See the caveats in the documentation: https://pandas.pydata.org/pandas-docs/stable/user_guide/indexing.html#returning-a-view-versus-a-copy\n",
      "  \"\"\"Entry point for launching an IPython kernel.\n"
     ]
    },
    {
     "data": {
      "text/html": [
       "<div>\n",
       "<style scoped>\n",
       "    .dataframe tbody tr th:only-of-type {\n",
       "        vertical-align: middle;\n",
       "    }\n",
       "\n",
       "    .dataframe tbody tr th {\n",
       "        vertical-align: top;\n",
       "    }\n",
       "\n",
       "    .dataframe thead th {\n",
       "        text-align: right;\n",
       "    }\n",
       "</style>\n",
       "<table border=\"1\" class=\"dataframe\">\n",
       "  <thead>\n",
       "    <tr style=\"text-align: right;\">\n",
       "      <th></th>\n",
       "      <th>Date</th>\n",
       "      <th>Time</th>\n",
       "      <th>Nitrogen dioxide</th>\n",
       "      <th>year</th>\n",
       "    </tr>\n",
       "  </thead>\n",
       "  <tbody>\n",
       "    <tr>\n",
       "      <th>0</th>\n",
       "      <td>2019-01-01</td>\n",
       "      <td>01:00:00</td>\n",
       "      <td>33.23608</td>\n",
       "      <td>2019</td>\n",
       "    </tr>\n",
       "    <tr>\n",
       "      <th>1</th>\n",
       "      <td>2019-01-01</td>\n",
       "      <td>02:00:00</td>\n",
       "      <td>33.72772</td>\n",
       "      <td>2019</td>\n",
       "    </tr>\n",
       "    <tr>\n",
       "      <th>2</th>\n",
       "      <td>2019-01-01</td>\n",
       "      <td>03:00:00</td>\n",
       "      <td>36.44534</td>\n",
       "      <td>2019</td>\n",
       "    </tr>\n",
       "    <tr>\n",
       "      <th>3</th>\n",
       "      <td>2019-01-01</td>\n",
       "      <td>04:00:00</td>\n",
       "      <td>34.67313</td>\n",
       "      <td>2019</td>\n",
       "    </tr>\n",
       "    <tr>\n",
       "      <th>4</th>\n",
       "      <td>2019-01-01</td>\n",
       "      <td>05:00:00</td>\n",
       "      <td>30.41936</td>\n",
       "      <td>2019</td>\n",
       "    </tr>\n",
       "  </tbody>\n",
       "</table>\n",
       "</div>"
      ],
      "text/plain": [
       "        Date      Time  Nitrogen dioxide  year\n",
       "0 2019-01-01  01:00:00          33.23608  2019\n",
       "1 2019-01-01  02:00:00          33.72772  2019\n",
       "2 2019-01-01  03:00:00          36.44534  2019\n",
       "3 2019-01-01  04:00:00          34.67313  2019\n",
       "4 2019-01-01  05:00:00          30.41936  2019"
      ]
     },
     "execution_count": 147,
     "metadata": {},
     "output_type": "execute_result"
    }
   ],
   "source": [
    "clean2019[\"year\"] = clean2019.Date.dt.year # add year column for use in later concatenations\n",
    "clean2019.head()"
   ]
  },
  {
   "cell_type": "code",
   "execution_count": 150,
   "metadata": {},
   "outputs": [
    {
     "data": {
      "text/plain": [
       "<matplotlib.axes._subplots.AxesSubplot at 0x167c78534c8>"
      ]
     },
     "execution_count": 150,
     "metadata": {},
     "output_type": "execute_result"
    },
    {
     "data": {
      "image/png": "[encoded data removed]",
      "text/plain": [
       "<Figure size 432x288 with 1 Axes>"
      ]
     },
     "metadata": {
      "needs_background": "light"
     },
     "output_type": "display_data"
    }
   ],
   "source": [
    "groupDay19 = clean2019.groupby([\"Date\"]).mean() # some hours were originally \"No data\", so some days do not have a full reading. Presenting total levels of NO2 skews numbers\n",
    "groupDay19[\"Nitrogen dioxide\"].plot()\n",
    "# Note: how to make this expository?"
   ]
  },
  {
   "cell_type": "code",
   "execution_count": 152,
   "metadata": {},
   "outputs": [
    {
     "data": {
      "image/png": "[encoded data removed]",
      "text/plain": [
       "<Figure size 432x288 with 1 Axes>"
      ]
     },
     "metadata": {
      "needs_background": "light"
     },
     "output_type": "display_data"
    }
   ],
   "source": [
    "groupMth19 = groupDay19.groupby(groupDay19.index.month).mean() # some days do not have a full reading. Presenting total levels of NO2 skews numbers\n",
    "groupMth19[\"Nitrogen dioxide\"].plot.bar().set(title=\"Average NO2 emissions at the Bath Roadside monitoring site (Jan to May 2019)\",\n",
    "     xlabel=\"Month\",\n",
    "     ylabel=\"Measured NO2 emissions\");\n",
    "# Note: how to make this expository?"
   ]
  },
  {
   "cell_type": "markdown",
   "metadata": {},
   "source": [
    "#### In 2019, February was the month with the highest average NO2 pollution measured in Bath."
   ]
  },
  {
   "cell_type": "markdown",
   "metadata": {},
   "source": [
    "## Working with 2020 data"
   ]
  },
  {
   "cell_type": "code",
   "execution_count": 55,
   "metadata": {},
   "outputs": [
    {
     "data": {
      "text/html": [
       "<div>\n",
       "<style scoped>\n",
       "    .dataframe tbody tr th:only-of-type {\n",
       "        vertical-align: middle;\n",
       "    }\n",
       "\n",
       "    .dataframe tbody tr th {\n",
       "        vertical-align: top;\n",
       "    }\n",
       "\n",
       "    .dataframe thead th {\n",
       "        text-align: right;\n",
       "    }\n",
       "</style>\n",
       "<table border=\"1\" class=\"dataframe\">\n",
       "  <thead>\n",
       "    <tr style=\"text-align: right;\">\n",
       "      <th></th>\n",
       "      <th>Date</th>\n",
       "      <th>time</th>\n",
       "      <th>Nitric oxide</th>\n",
       "      <th>status</th>\n",
       "      <th>unit</th>\n",
       "      <th>Nitrogen dioxide</th>\n",
       "      <th>status.1</th>\n",
       "      <th>unit.1</th>\n",
       "      <th>Nitrogen oxides as nitrogen dioxide</th>\n",
       "      <th>status.2</th>\n",
       "      <th>unit.2</th>\n",
       "    </tr>\n",
       "  </thead>\n",
       "  <tbody>\n",
       "    <tr>\n",
       "      <th>0</th>\n",
       "      <td>01-01-2020</td>\n",
       "      <td>01:00</td>\n",
       "      <td>4.94166</td>\n",
       "      <td>P</td>\n",
       "      <td>ugm-3</td>\n",
       "      <td>27.36253</td>\n",
       "      <td>P</td>\n",
       "      <td>ugm-3</td>\n",
       "      <td>34.93963</td>\n",
       "      <td>P</td>\n",
       "      <td>ugm-3</td>\n",
       "    </tr>\n",
       "    <tr>\n",
       "      <th>1</th>\n",
       "      <td>01-01-2020</td>\n",
       "      <td>02:00</td>\n",
       "      <td>4.84929</td>\n",
       "      <td>P</td>\n",
       "      <td>ugm-3</td>\n",
       "      <td>18.12881</td>\n",
       "      <td>P</td>\n",
       "      <td>ugm-3</td>\n",
       "      <td>25.56428</td>\n",
       "      <td>P</td>\n",
       "      <td>ugm-3</td>\n",
       "    </tr>\n",
       "    <tr>\n",
       "      <th>2</th>\n",
       "      <td>01-01-2020</td>\n",
       "      <td>03:00</td>\n",
       "      <td>10.84163</td>\n",
       "      <td>P</td>\n",
       "      <td>ugm-3</td>\n",
       "      <td>24.41802</td>\n",
       "      <td>P</td>\n",
       "      <td>ugm-3</td>\n",
       "      <td>41.04162</td>\n",
       "      <td>P</td>\n",
       "      <td>ugm-3</td>\n",
       "    </tr>\n",
       "    <tr>\n",
       "      <th>3</th>\n",
       "      <td>01-01-2020</td>\n",
       "      <td>04:00</td>\n",
       "      <td>8.79800</td>\n",
       "      <td>P</td>\n",
       "      <td>ugm-3</td>\n",
       "      <td>19.59939</td>\n",
       "      <td>P</td>\n",
       "      <td>ugm-3</td>\n",
       "      <td>33.08947</td>\n",
       "      <td>P</td>\n",
       "      <td>ugm-3</td>\n",
       "    </tr>\n",
       "    <tr>\n",
       "      <th>4</th>\n",
       "      <td>01-01-2020</td>\n",
       "      <td>05:00</td>\n",
       "      <td>8.38235</td>\n",
       "      <td>P</td>\n",
       "      <td>ugm-3</td>\n",
       "      <td>15.96711</td>\n",
       "      <td>P</td>\n",
       "      <td>ugm-3</td>\n",
       "      <td>28.81986</td>\n",
       "      <td>P</td>\n",
       "      <td>ugm-3</td>\n",
       "    </tr>\n",
       "  </tbody>\n",
       "</table>\n",
       "</div>"
      ],
      "text/plain": [
       "         Date   time  Nitric oxide status   unit  Nitrogen dioxide status.1  \\\n",
       "0  01-01-2020  01:00       4.94166      P  ugm-3          27.36253        P   \n",
       "1  01-01-2020  02:00       4.84929      P  ugm-3          18.12881        P   \n",
       "2  01-01-2020  03:00      10.84163      P  ugm-3          24.41802        P   \n",
       "3  01-01-2020  04:00       8.79800      P  ugm-3          19.59939        P   \n",
       "4  01-01-2020  05:00       8.38235      P  ugm-3          15.96711        P   \n",
       "\n",
       "  unit.1  Nitrogen oxides as nitrogen dioxide status.2 unit.2  \n",
       "0  ugm-3                             34.93963        P  ugm-3  \n",
       "1  ugm-3                             25.56428        P  ugm-3  \n",
       "2  ugm-3                             41.04162        P  ugm-3  \n",
       "3  ugm-3                             33.08947        P  ugm-3  \n",
       "4  ugm-3                             28.81986        P  ugm-3  "
      ]
     },
     "execution_count": 55,
     "metadata": {},
     "output_type": "execute_result"
    }
   ],
   "source": [
    "df2020 = pd.read_csv(\"data/BHA4_2020.csv\", skiprows=4)\n",
    "df2020.head()"
   ]
  },
  {
   "cell_type": "code",
   "execution_count": 56,
   "metadata": {},
   "outputs": [
    {
     "name": "stdout",
     "output_type": "stream",
     "text": [
      "<class 'pandas.core.frame.DataFrame'>\n",
      "RangeIndex: 3648 entries, 0 to 3647\n",
      "Data columns (total 11 columns):\n",
      " #   Column                               Non-Null Count  Dtype  \n",
      "---  ------                               --------------  -----  \n",
      " 0   Date                                 3648 non-null   object \n",
      " 1   time                                 3648 non-null   object \n",
      " 2   Nitric oxide                         3603 non-null   float64\n",
      " 3   status                               3603 non-null   object \n",
      " 4   unit                                 3603 non-null   object \n",
      " 5   Nitrogen dioxide                     3603 non-null   float64\n",
      " 6   status.1                             3603 non-null   object \n",
      " 7   unit.1                               3603 non-null   object \n",
      " 8   Nitrogen oxides as nitrogen dioxide  3603 non-null   float64\n",
      " 9   status.2                             3603 non-null   object \n",
      " 10  unit.2                               3603 non-null   object \n",
      "dtypes: float64(3), object(8)\n",
      "memory usage: 313.6+ KB\n"
     ]
    }
   ],
   "source": [
    "df2020.info()"
   ]
  },
  {
   "cell_type": "markdown",
   "metadata": {},
   "source": [
    "* Some missing values\n",
    "* Date column is object rather than time series --> convert\n",
    "* Date column is in DD-MM-YYYY format; NOTE DIFFERENT FROM clean2019!\n",
    "* Time column not necessary for initial purposes --> discard or exclude\n",
    "* Nitric oxide column not necessary for initial purposes --> discard or exclude\n",
    "* Nitrogen dioxide column is already a float dtype\n",
    "* Status and unit columns not necessary for purposes, but remember that the unit measurement is ugm3\n",
    "* Nitrogen oxides column --> probably exclude for simplicity, but possibly add values to Nitrogen dioxide. no conversion needed, if including in analysis. Will be excluded for initial purposes\n",
    "\n",
    "#### Clean 2020 end product: \n",
    "* Exclude all other columns for now; keep:\n",
    "* Date column as datetime values --> force format into YYYY-MM-DD so similar to clean2019!\n",
    "* Time as is; will be excluded in following aggregations\n",
    "\n",
    "#### Work with clean 2020 to aggregate and plot NO2 levels."
   ]
  },
  {
   "cell_type": "code",
   "execution_count": 57,
   "metadata": {},
   "outputs": [
    {
     "data": {
      "text/html": [
       "<div>\n",
       "<style scoped>\n",
       "    .dataframe tbody tr th:only-of-type {\n",
       "        vertical-align: middle;\n",
       "    }\n",
       "\n",
       "    .dataframe tbody tr th {\n",
       "        vertical-align: top;\n",
       "    }\n",
       "\n",
       "    .dataframe thead th {\n",
       "        text-align: right;\n",
       "    }\n",
       "</style>\n",
       "<table border=\"1\" class=\"dataframe\">\n",
       "  <thead>\n",
       "    <tr style=\"text-align: right;\">\n",
       "      <th></th>\n",
       "      <th>Date</th>\n",
       "      <th>time</th>\n",
       "      <th>Nitrogen dioxide</th>\n",
       "    </tr>\n",
       "  </thead>\n",
       "  <tbody>\n",
       "    <tr>\n",
       "      <th>0</th>\n",
       "      <td>01-01-2020</td>\n",
       "      <td>01:00</td>\n",
       "      <td>27.36253</td>\n",
       "    </tr>\n",
       "    <tr>\n",
       "      <th>1</th>\n",
       "      <td>01-01-2020</td>\n",
       "      <td>02:00</td>\n",
       "      <td>18.12881</td>\n",
       "    </tr>\n",
       "    <tr>\n",
       "      <th>2</th>\n",
       "      <td>01-01-2020</td>\n",
       "      <td>03:00</td>\n",
       "      <td>24.41802</td>\n",
       "    </tr>\n",
       "    <tr>\n",
       "      <th>3</th>\n",
       "      <td>01-01-2020</td>\n",
       "      <td>04:00</td>\n",
       "      <td>19.59939</td>\n",
       "    </tr>\n",
       "    <tr>\n",
       "      <th>4</th>\n",
       "      <td>01-01-2020</td>\n",
       "      <td>05:00</td>\n",
       "      <td>15.96711</td>\n",
       "    </tr>\n",
       "    <tr>\n",
       "      <th>...</th>\n",
       "      <td>...</td>\n",
       "      <td>...</td>\n",
       "      <td>...</td>\n",
       "    </tr>\n",
       "    <tr>\n",
       "      <th>3643</th>\n",
       "      <td>31-05-2020</td>\n",
       "      <td>20:00</td>\n",
       "      <td>15.30000</td>\n",
       "    </tr>\n",
       "    <tr>\n",
       "      <th>3644</th>\n",
       "      <td>31-05-2020</td>\n",
       "      <td>21:00</td>\n",
       "      <td>11.47500</td>\n",
       "    </tr>\n",
       "    <tr>\n",
       "      <th>3645</th>\n",
       "      <td>31-05-2020</td>\n",
       "      <td>22:00</td>\n",
       "      <td>13.19625</td>\n",
       "    </tr>\n",
       "    <tr>\n",
       "      <th>3646</th>\n",
       "      <td>31-05-2020</td>\n",
       "      <td>23:00</td>\n",
       "      <td>11.66625</td>\n",
       "    </tr>\n",
       "    <tr>\n",
       "      <th>3647</th>\n",
       "      <td>31-05-2020</td>\n",
       "      <td>24:00</td>\n",
       "      <td>8.41500</td>\n",
       "    </tr>\n",
       "  </tbody>\n",
       "</table>\n",
       "<p>3648 rows × 3 columns</p>\n",
       "</div>"
      ],
      "text/plain": [
       "            Date   time  Nitrogen dioxide\n",
       "0     01-01-2020  01:00          27.36253\n",
       "1     01-01-2020  02:00          18.12881\n",
       "2     01-01-2020  03:00          24.41802\n",
       "3     01-01-2020  04:00          19.59939\n",
       "4     01-01-2020  05:00          15.96711\n",
       "...          ...    ...               ...\n",
       "3643  31-05-2020  20:00          15.30000\n",
       "3644  31-05-2020  21:00          11.47500\n",
       "3645  31-05-2020  22:00          13.19625\n",
       "3646  31-05-2020  23:00          11.66625\n",
       "3647  31-05-2020  24:00           8.41500\n",
       "\n",
       "[3648 rows x 3 columns]"
      ]
     },
     "execution_count": 57,
     "metadata": {},
     "output_type": "execute_result"
    }
   ],
   "source": [
    "clean2020 = df2020[[\"Date\", \"time\", \"Nitrogen dioxide\"]]\n",
    "clean2020"
   ]
  },
  {
   "cell_type": "code",
   "execution_count": 58,
   "metadata": {},
   "outputs": [
    {
     "name": "stdout",
     "output_type": "stream",
     "text": [
      "<class 'pandas.core.frame.DataFrame'>\n",
      "RangeIndex: 3648 entries, 0 to 3647\n",
      "Data columns (total 3 columns):\n",
      " #   Column            Non-Null Count  Dtype  \n",
      "---  ------            --------------  -----  \n",
      " 0   Date              3648 non-null   object \n",
      " 1   time              3648 non-null   object \n",
      " 2   Nitrogen dioxide  3603 non-null   float64\n",
      "dtypes: float64(1), object(2)\n",
      "memory usage: 85.6+ KB\n"
     ]
    }
   ],
   "source": [
    "clean2020.info()"
   ]
  },
  {
   "cell_type": "code",
   "execution_count": 61,
   "metadata": {},
   "outputs": [
    {
     "name": "stdout",
     "output_type": "stream",
     "text": [
      "<class 'pandas.core.frame.DataFrame'>\n",
      "RangeIndex: 3648 entries, 0 to 3647\n",
      "Data columns (total 3 columns):\n",
      " #   Column            Non-Null Count  Dtype  \n",
      "---  ------            --------------  -----  \n",
      " 0   Date              3648 non-null   object \n",
      " 1   time              3648 non-null   object \n",
      " 2   Nitrogen dioxide  3648 non-null   float64\n",
      "dtypes: float64(1), object(2)\n",
      "memory usage: 85.6+ KB\n"
     ]
    },
    {
     "name": "stderr",
     "output_type": "stream",
     "text": [
      "C:\\Users\\marydy\\anaconda3\\lib\\site-packages\\pandas\\core\\generic.py:6245: SettingWithCopyWarning: \n",
      "A value is trying to be set on a copy of a slice from a DataFrame\n",
      "\n",
      "See the caveats in the documentation: https://pandas.pydata.org/pandas-docs/stable/user_guide/indexing.html#returning-a-view-versus-a-copy\n",
      "  self._update_inplace(new_data)\n"
     ]
    }
   ],
   "source": [
    "# missing values in Nitrogen dioxide column\n",
    "clean2020[\"Nitrogen dioxide\"].fillna(0, inplace=True)\n",
    "clean2020.info()"
   ]
  },
  {
   "cell_type": "code",
   "execution_count": 67,
   "metadata": {},
   "outputs": [
    {
     "name": "stdout",
     "output_type": "stream",
     "text": [
      "<class 'pandas.core.frame.DataFrame'>\n",
      "RangeIndex: 3648 entries, 0 to 3647\n",
      "Data columns (total 3 columns):\n",
      " #   Column            Non-Null Count  Dtype         \n",
      "---  ------            --------------  -----         \n",
      " 0   Date              3648 non-null   datetime64[ns]\n",
      " 1   time              3648 non-null   object        \n",
      " 2   Nitrogen dioxide  3648 non-null   float64       \n",
      "dtypes: datetime64[ns](1), float64(1), object(1)\n",
      "memory usage: 85.6+ KB\n"
     ]
    },
    {
     "name": "stderr",
     "output_type": "stream",
     "text": [
      "C:\\Users\\marydy\\anaconda3\\lib\\site-packages\\ipykernel_launcher.py:1: SettingWithCopyWarning: \n",
      "A value is trying to be set on a copy of a slice from a DataFrame.\n",
      "Try using .loc[row_indexer,col_indexer] = value instead\n",
      "\n",
      "See the caveats in the documentation: https://pandas.pydata.org/pandas-docs/stable/user_guide/indexing.html#returning-a-view-versus-a-copy\n",
      "  \"\"\"Entry point for launching an IPython kernel.\n"
     ]
    }
   ],
   "source": [
    "clean2020[\"Date\"] = pd.to_datetime(clean2020[\"Date\"], dayfirst=True)\n",
    "clean2020.info()"
   ]
  },
  {
   "cell_type": "code",
   "execution_count": 154,
   "metadata": {},
   "outputs": [
    {
     "name": "stderr",
     "output_type": "stream",
     "text": [
      "C:\\Users\\marydy\\anaconda3\\lib\\site-packages\\ipykernel_launcher.py:1: SettingWithCopyWarning: \n",
      "A value is trying to be set on a copy of a slice from a DataFrame.\n",
      "Try using .loc[row_indexer,col_indexer] = value instead\n",
      "\n",
      "See the caveats in the documentation: https://pandas.pydata.org/pandas-docs/stable/user_guide/indexing.html#returning-a-view-versus-a-copy\n",
      "  \"\"\"Entry point for launching an IPython kernel.\n"
     ]
    },
    {
     "data": {
      "text/html": [
       "<div>\n",
       "<style scoped>\n",
       "    .dataframe tbody tr th:only-of-type {\n",
       "        vertical-align: middle;\n",
       "    }\n",
       "\n",
       "    .dataframe tbody tr th {\n",
       "        vertical-align: top;\n",
       "    }\n",
       "\n",
       "    .dataframe thead th {\n",
       "        text-align: right;\n",
       "    }\n",
       "</style>\n",
       "<table border=\"1\" class=\"dataframe\">\n",
       "  <thead>\n",
       "    <tr style=\"text-align: right;\">\n",
       "      <th></th>\n",
       "      <th>Date</th>\n",
       "      <th>time</th>\n",
       "      <th>Nitrogen dioxide</th>\n",
       "      <th>year</th>\n",
       "    </tr>\n",
       "  </thead>\n",
       "  <tbody>\n",
       "    <tr>\n",
       "      <th>0</th>\n",
       "      <td>2020-01-01</td>\n",
       "      <td>01:00</td>\n",
       "      <td>27.36253</td>\n",
       "      <td>2020</td>\n",
       "    </tr>\n",
       "    <tr>\n",
       "      <th>1</th>\n",
       "      <td>2020-01-01</td>\n",
       "      <td>02:00</td>\n",
       "      <td>18.12881</td>\n",
       "      <td>2020</td>\n",
       "    </tr>\n",
       "    <tr>\n",
       "      <th>2</th>\n",
       "      <td>2020-01-01</td>\n",
       "      <td>03:00</td>\n",
       "      <td>24.41802</td>\n",
       "      <td>2020</td>\n",
       "    </tr>\n",
       "    <tr>\n",
       "      <th>3</th>\n",
       "      <td>2020-01-01</td>\n",
       "      <td>04:00</td>\n",
       "      <td>19.59939</td>\n",
       "      <td>2020</td>\n",
       "    </tr>\n",
       "    <tr>\n",
       "      <th>4</th>\n",
       "      <td>2020-01-01</td>\n",
       "      <td>05:00</td>\n",
       "      <td>15.96711</td>\n",
       "      <td>2020</td>\n",
       "    </tr>\n",
       "  </tbody>\n",
       "</table>\n",
       "</div>"
      ],
      "text/plain": [
       "        Date   time  Nitrogen dioxide  year\n",
       "0 2020-01-01  01:00          27.36253  2020\n",
       "1 2020-01-01  02:00          18.12881  2020\n",
       "2 2020-01-01  03:00          24.41802  2020\n",
       "3 2020-01-01  04:00          19.59939  2020\n",
       "4 2020-01-01  05:00          15.96711  2020"
      ]
     },
     "execution_count": 154,
     "metadata": {},
     "output_type": "execute_result"
    }
   ],
   "source": [
    "clean2020[\"year\"] = clean2020.Date.dt.year # add year column for use in later concatenations\n",
    "clean2020.head()"
   ]
  },
  {
   "cell_type": "code",
   "execution_count": 156,
   "metadata": {},
   "outputs": [
    {
     "data": {
      "image/png": "[encoded data removed]",
      "text/plain": [
       "<Figure size 432x288 with 1 Axes>"
      ]
     },
     "metadata": {
      "needs_background": "light"
     },
     "output_type": "display_data"
    }
   ],
   "source": [
    "groupDay20 = clean2020.groupby([\"Date\"]).mean()\n",
    "groupDay20[\"Nitrogen dioxide\"].plot();"
   ]
  },
  {
   "cell_type": "code",
   "execution_count": 157,
   "metadata": {},
   "outputs": [
    {
     "data": {
      "image/png": "[encoded data removed]",
      "text/plain": [
       "<Figure size 432x288 with 1 Axes>"
      ]
     },
     "metadata": {
      "needs_background": "light"
     },
     "output_type": "display_data"
    }
   ],
   "source": [
    "groupMth20 = groupDay20.groupby(groupDay20.index.month).mean() # some days do not have a full reading. Presenting total levels of NO2 skews numbers\n",
    "groupMth20[\"Nitrogen dioxide\"].plot.bar().set(title=\"Average NO2 emissions at the Bath A4 Roadside monitoring site (Jan to May 2020)\",\n",
    "     xlabel=\"Month\",\n",
    "     ylabel=\"Measured NO2 emissions\");\n",
    "# Note: how to make this expository?"
   ]
  },
  {
   "cell_type": "markdown",
   "metadata": {},
   "source": [
    "#### In 2020, *January* was the month with the highest average NO2 pollution detected in Bath."
   ]
  },
  {
   "cell_type": "markdown",
   "metadata": {},
   "source": [
    "# What's the difference between the years?"
   ]
  },
  {
   "cell_type": "markdown",
   "metadata": {},
   "source": [
    "#### Year to date (January to May)"
   ]
  },
  {
   "cell_type": "code",
   "execution_count": 138,
   "metadata": {},
   "outputs": [],
   "source": [
    "import altair as alt"
   ]
  },
  {
   "cell_type": "code",
   "execution_count": 177,
   "metadata": {},
   "outputs": [
    {
     "data": {
      "text/html": [
       "<div>\n",
       "<style scoped>\n",
       "    .dataframe tbody tr th:only-of-type {\n",
       "        vertical-align: middle;\n",
       "    }\n",
       "\n",
       "    .dataframe tbody tr th {\n",
       "        vertical-align: top;\n",
       "    }\n",
       "\n",
       "    .dataframe thead th {\n",
       "        text-align: right;\n",
       "    }\n",
       "</style>\n",
       "<table border=\"1\" class=\"dataframe\">\n",
       "  <thead>\n",
       "    <tr style=\"text-align: right;\">\n",
       "      <th></th>\n",
       "      <th>NO2 lvl 2020</th>\n",
       "      <th>year</th>\n",
       "    </tr>\n",
       "    <tr>\n",
       "      <th>Date</th>\n",
       "      <th></th>\n",
       "      <th></th>\n",
       "    </tr>\n",
       "  </thead>\n",
       "  <tbody>\n",
       "    <tr>\n",
       "      <th>1</th>\n",
       "      <td>39.262113</td>\n",
       "      <td>2020</td>\n",
       "    </tr>\n",
       "    <tr>\n",
       "      <th>2</th>\n",
       "      <td>29.328675</td>\n",
       "      <td>2020</td>\n",
       "    </tr>\n",
       "    <tr>\n",
       "      <th>3</th>\n",
       "      <td>28.536797</td>\n",
       "      <td>2020</td>\n",
       "    </tr>\n",
       "    <tr>\n",
       "      <th>4</th>\n",
       "      <td>19.341834</td>\n",
       "      <td>2020</td>\n",
       "    </tr>\n",
       "    <tr>\n",
       "      <th>5</th>\n",
       "      <td>16.189415</td>\n",
       "      <td>2020</td>\n",
       "    </tr>\n",
       "  </tbody>\n",
       "</table>\n",
       "</div>"
      ],
      "text/plain": [
       "      NO2 lvl 2020  year\n",
       "Date                    \n",
       "1        39.262113  2020\n",
       "2        29.328675  2020\n",
       "3        28.536797  2020\n",
       "4        19.341834  2020\n",
       "5        16.189415  2020"
      ]
     },
     "execution_count": 177,
     "metadata": {},
     "output_type": "execute_result"
    }
   ],
   "source": [
    "groupMth20.rename(columns={\"Nitrogen dioxide\":\"NO2 lvl 2020\"})\n",
    "groupMth20"
   ]
  },
  {
   "cell_type": "code",
   "execution_count": 182,
   "metadata": {},
   "outputs": [
    {
     "data": {
      "text/html": [
       "<div>\n",
       "<style scoped>\n",
       "    .dataframe tbody tr th:only-of-type {\n",
       "        vertical-align: middle;\n",
       "    }\n",
       "\n",
       "    .dataframe tbody tr th {\n",
       "        vertical-align: top;\n",
       "    }\n",
       "\n",
       "    .dataframe thead th {\n",
       "        text-align: right;\n",
       "    }\n",
       "</style>\n",
       "<table border=\"1\" class=\"dataframe\">\n",
       "  <thead>\n",
       "    <tr style=\"text-align: right;\">\n",
       "      <th></th>\n",
       "      <th>NO2 lvl 2019</th>\n",
       "      <th>year</th>\n",
       "    </tr>\n",
       "    <tr>\n",
       "      <th>Date</th>\n",
       "      <th></th>\n",
       "      <th></th>\n",
       "    </tr>\n",
       "  </thead>\n",
       "  <tbody>\n",
       "    <tr>\n",
       "      <th>1</th>\n",
       "      <td>45.704779</td>\n",
       "      <td>2019</td>\n",
       "    </tr>\n",
       "    <tr>\n",
       "      <th>2</th>\n",
       "      <td>49.304280</td>\n",
       "      <td>2019</td>\n",
       "    </tr>\n",
       "    <tr>\n",
       "      <th>3</th>\n",
       "      <td>43.046216</td>\n",
       "      <td>2019</td>\n",
       "    </tr>\n",
       "    <tr>\n",
       "      <th>4</th>\n",
       "      <td>37.355302</td>\n",
       "      <td>2019</td>\n",
       "    </tr>\n",
       "    <tr>\n",
       "      <th>5</th>\n",
       "      <td>36.074275</td>\n",
       "      <td>2019</td>\n",
       "    </tr>\n",
       "  </tbody>\n",
       "</table>\n",
       "</div>"
      ],
      "text/plain": [
       "      NO2 lvl 2019  year\n",
       "Date                    \n",
       "1        45.704779  2019\n",
       "2        49.304280  2019\n",
       "3        43.046216  2019\n",
       "4        37.355302  2019\n",
       "5        36.074275  2019"
      ]
     },
     "execution_count": 182,
     "metadata": {},
     "output_type": "execute_result"
    }
   ],
   "source": [
    "groupMth19.rename(columns={\"NO2 lvl 2020\":\"NO2 lvl 2019\"}, inplace=True)\n",
    "groupMth19"
   ]
  },
  {
   "cell_type": "code",
   "execution_count": 187,
   "metadata": {},
   "outputs": [
    {
     "data": {
      "text/html": [
       "<div>\n",
       "<style scoped>\n",
       "    .dataframe tbody tr th:only-of-type {\n",
       "        vertical-align: middle;\n",
       "    }\n",
       "\n",
       "    .dataframe tbody tr th {\n",
       "        vertical-align: top;\n",
       "    }\n",
       "\n",
       "    .dataframe thead th {\n",
       "        text-align: right;\n",
       "    }\n",
       "</style>\n",
       "<table border=\"1\" class=\"dataframe\">\n",
       "  <thead>\n",
       "    <tr style=\"text-align: right;\">\n",
       "      <th></th>\n",
       "      <th>NO2 lvl 2020</th>\n",
       "      <th>NO2 lvl 2019</th>\n",
       "    </tr>\n",
       "    <tr>\n",
       "      <th>Date</th>\n",
       "      <th></th>\n",
       "      <th></th>\n",
       "    </tr>\n",
       "  </thead>\n",
       "  <tbody>\n",
       "    <tr>\n",
       "      <th>1</th>\n",
       "      <td>39.262113</td>\n",
       "      <td>45.704779</td>\n",
       "    </tr>\n",
       "    <tr>\n",
       "      <th>2</th>\n",
       "      <td>29.328675</td>\n",
       "      <td>49.304280</td>\n",
       "    </tr>\n",
       "    <tr>\n",
       "      <th>3</th>\n",
       "      <td>28.536797</td>\n",
       "      <td>43.046216</td>\n",
       "    </tr>\n",
       "    <tr>\n",
       "      <th>4</th>\n",
       "      <td>19.341834</td>\n",
       "      <td>37.355302</td>\n",
       "    </tr>\n",
       "    <tr>\n",
       "      <th>5</th>\n",
       "      <td>16.189415</td>\n",
       "      <td>36.074275</td>\n",
       "    </tr>\n",
       "  </tbody>\n",
       "</table>\n",
       "</div>"
      ],
      "text/plain": [
       "      NO2 lvl 2020  NO2 lvl 2019\n",
       "Date                            \n",
       "1        39.262113     45.704779\n",
       "2        29.328675     49.304280\n",
       "3        28.536797     43.046216\n",
       "4        19.341834     37.355302\n",
       "5        16.189415     36.074275"
      ]
     },
     "execution_count": 187,
     "metadata": {},
     "output_type": "execute_result"
    }
   ],
   "source": [
    "dfyoy = pd.concat([groupMth20, groupMth19], axis=1).drop([\"year\"], axis=1)\n",
    "dfyoy"
   ]
  },
  {
   "cell_type": "code",
   "execution_count": 195,
   "metadata": {},
   "outputs": [
    {
     "data": {
      "text/html": [
       "<div>\n",
       "<style scoped>\n",
       "    .dataframe tbody tr th:only-of-type {\n",
       "        vertical-align: middle;\n",
       "    }\n",
       "\n",
       "    .dataframe tbody tr th {\n",
       "        vertical-align: top;\n",
       "    }\n",
       "\n",
       "    .dataframe thead th {\n",
       "        text-align: right;\n",
       "    }\n",
       "</style>\n",
       "<table border=\"1\" class=\"dataframe\">\n",
       "  <thead>\n",
       "    <tr style=\"text-align: right;\">\n",
       "      <th></th>\n",
       "      <th>NO2 lvl 2020</th>\n",
       "      <th>NO2 lvl 2019</th>\n",
       "      <th>diff</th>\n",
       "      <th>pcdiff</th>\n",
       "    </tr>\n",
       "    <tr>\n",
       "      <th>Date</th>\n",
       "      <th></th>\n",
       "      <th></th>\n",
       "      <th></th>\n",
       "      <th></th>\n",
       "    </tr>\n",
       "  </thead>\n",
       "  <tbody>\n",
       "    <tr>\n",
       "      <th>1</th>\n",
       "      <td>39.262113</td>\n",
       "      <td>45.704779</td>\n",
       "      <td>-6.442666</td>\n",
       "      <td>-14.096263</td>\n",
       "    </tr>\n",
       "    <tr>\n",
       "      <th>2</th>\n",
       "      <td>29.328675</td>\n",
       "      <td>49.304280</td>\n",
       "      <td>-19.975606</td>\n",
       "      <td>-40.514952</td>\n",
       "    </tr>\n",
       "    <tr>\n",
       "      <th>3</th>\n",
       "      <td>28.536797</td>\n",
       "      <td>43.046216</td>\n",
       "      <td>-14.509419</td>\n",
       "      <td>-33.706608</td>\n",
       "    </tr>\n",
       "    <tr>\n",
       "      <th>4</th>\n",
       "      <td>19.341834</td>\n",
       "      <td>37.355302</td>\n",
       "      <td>-18.013468</td>\n",
       "      <td>-48.221984</td>\n",
       "    </tr>\n",
       "    <tr>\n",
       "      <th>5</th>\n",
       "      <td>16.189415</td>\n",
       "      <td>36.074275</td>\n",
       "      <td>-19.884860</td>\n",
       "      <td>-55.121994</td>\n",
       "    </tr>\n",
       "  </tbody>\n",
       "</table>\n",
       "</div>"
      ],
      "text/plain": [
       "      NO2 lvl 2020  NO2 lvl 2019       diff     pcdiff\n",
       "Date                                                  \n",
       "1        39.262113     45.704779  -6.442666 -14.096263\n",
       "2        29.328675     49.304280 -19.975606 -40.514952\n",
       "3        28.536797     43.046216 -14.509419 -33.706608\n",
       "4        19.341834     37.355302 -18.013468 -48.221984\n",
       "5        16.189415     36.074275 -19.884860 -55.121994"
      ]
     },
     "execution_count": 195,
     "metadata": {},
     "output_type": "execute_result"
    }
   ],
   "source": [
    "dfyoy[\"diff\"] = dfyoy[\"NO2 lvl 2020\"] - dfyoy[\"NO2 lvl 2019\"]\n",
    "dfyoy[\"pcdiff\"] = (dfyoy[\"diff\"] / dfyoy[\"NO2 lvl 2019\"])*100\n",
    "dfyoy"
   ]
  },
  {
   "cell_type": "code",
   "execution_count": 201,
   "metadata": {},
   "outputs": [
    {
     "data": {
      "text/html": [
       "<div>\n",
       "<style scoped>\n",
       "    .dataframe tbody tr th:only-of-type {\n",
       "        vertical-align: middle;\n",
       "    }\n",
       "\n",
       "    .dataframe tbody tr th {\n",
       "        vertical-align: top;\n",
       "    }\n",
       "\n",
       "    .dataframe thead th {\n",
       "        text-align: right;\n",
       "    }\n",
       "</style>\n",
       "<table border=\"1\" class=\"dataframe\">\n",
       "  <thead>\n",
       "    <tr style=\"text-align: right;\">\n",
       "      <th></th>\n",
       "      <th>NO2 lvl 2020</th>\n",
       "      <th>NO2 lvl 2019</th>\n",
       "      <th>diff</th>\n",
       "      <th>pcdiff</th>\n",
       "    </tr>\n",
       "  </thead>\n",
       "  <tbody>\n",
       "    <tr>\n",
       "      <th>count</th>\n",
       "      <td>5.000000</td>\n",
       "      <td>5.000000</td>\n",
       "      <td>5.000000</td>\n",
       "      <td>5.000000</td>\n",
       "    </tr>\n",
       "    <tr>\n",
       "      <th>mean</th>\n",
       "      <td>26.531767</td>\n",
       "      <td>42.296971</td>\n",
       "      <td>-15.765204</td>\n",
       "      <td>-38.332360</td>\n",
       "    </tr>\n",
       "    <tr>\n",
       "      <th>std</th>\n",
       "      <td>9.118168</td>\n",
       "      <td>5.577162</td>\n",
       "      <td>5.662165</td>\n",
       "      <td>15.757904</td>\n",
       "    </tr>\n",
       "    <tr>\n",
       "      <th>min</th>\n",
       "      <td>16.189415</td>\n",
       "      <td>36.074275</td>\n",
       "      <td>-19.975606</td>\n",
       "      <td>-55.121994</td>\n",
       "    </tr>\n",
       "    <tr>\n",
       "      <th>25%</th>\n",
       "      <td>19.341834</td>\n",
       "      <td>37.355302</td>\n",
       "      <td>-19.884860</td>\n",
       "      <td>-48.221984</td>\n",
       "    </tr>\n",
       "    <tr>\n",
       "      <th>50%</th>\n",
       "      <td>28.536797</td>\n",
       "      <td>43.046216</td>\n",
       "      <td>-18.013468</td>\n",
       "      <td>-40.514952</td>\n",
       "    </tr>\n",
       "    <tr>\n",
       "      <th>75%</th>\n",
       "      <td>29.328675</td>\n",
       "      <td>45.704779</td>\n",
       "      <td>-14.509419</td>\n",
       "      <td>-33.706608</td>\n",
       "    </tr>\n",
       "    <tr>\n",
       "      <th>max</th>\n",
       "      <td>39.262113</td>\n",
       "      <td>49.304280</td>\n",
       "      <td>-6.442666</td>\n",
       "      <td>-14.096263</td>\n",
       "    </tr>\n",
       "  </tbody>\n",
       "</table>\n",
       "</div>"
      ],
      "text/plain": [
       "       NO2 lvl 2020  NO2 lvl 2019       diff     pcdiff\n",
       "count      5.000000      5.000000   5.000000   5.000000\n",
       "mean      26.531767     42.296971 -15.765204 -38.332360\n",
       "std        9.118168      5.577162   5.662165  15.757904\n",
       "min       16.189415     36.074275 -19.975606 -55.121994\n",
       "25%       19.341834     37.355302 -19.884860 -48.221984\n",
       "50%       28.536797     43.046216 -18.013468 -40.514952\n",
       "75%       29.328675     45.704779 -14.509419 -33.706608\n",
       "max       39.262113     49.304280  -6.442666 -14.096263"
      ]
     },
     "execution_count": 201,
     "metadata": {},
     "output_type": "execute_result"
    }
   ],
   "source": [
    "dfyoy.describe()"
   ]
  },
  {
   "cell_type": "markdown",
   "metadata": {},
   "source": [
    "### The average NO2 emissions detected in Bath dropped approximately 38% in the first five months of 2020 compared to the same period in 2019.\n",
    "The largest drop in emissions occurred in May, with approximately 55% less emissions in 2020 than in 2019."
   ]
  },
  {
   "cell_type": "markdown",
   "metadata": {},
   "source": [
    "# Future plans:\n",
    "\n",
    "Visualise, visualise, visualise. If I was working on this in Excel, I would generate:\n",
    "* highest level aggregate: a year-on-year barchart of the year-to-date averages. Annotations to include average numbers and percent change.\n",
    "* next level aggregate: by year-on-year by month. Same annotations\n",
    "* daily detail: year-on-year line chart by day, highlighting major events in the lockdown timeline."
   ]
  },
  {
   "cell_type": "markdown",
   "metadata": {},
   "source": [
    "# Learning takeaway: \n",
    "The learning curve is steeep. This whole thing took me a day. If I was working in Excel, it would've taken probably an hour tops including a brief writeup."
   ]
  },
  {
   "cell_type": "code",
   "execution_count": null,
   "metadata": {},
   "outputs": [],
   "source": []
  }
 ],
 "metadata": {
  "kernelspec": {
   "display_name": "Python 3",
   "language": "python",
   "name": "python3"
  },
  "language_info": {
   "codemirror_mode": {
    "name": "ipython",
    "version": 3
   },
   "file_extension": ".py",
   "mimetype": "text/x-python",
   "name": "python",
   "nbconvert_exporter": "python",
   "pygments_lexer": "ipython3",
   "version": "3.7.6"
  }
 },
 "nbformat": 4,
 "nbformat_minor": 4
}
