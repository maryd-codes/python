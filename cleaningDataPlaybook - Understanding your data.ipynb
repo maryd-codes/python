{
 "cells": [
  {
   "cell_type": "code",
   "execution_count": 1,
   "metadata": {},
   "outputs": [],
   "source": [
    "import pandas as pd"
   ]
  },
  {
   "cell_type": "code",
   "execution_count": 7,
   "metadata": {},
   "outputs": [
    {
     "data": {
      "text/plain": [
       "id                      int64\n",
       "accession_number       object\n",
       "artist                 object\n",
       "artistRole             object\n",
       "artistId                int64\n",
       "title                  object\n",
       "dateText               object\n",
       "medium                 object\n",
       "creditLine             object\n",
       "year                  float64\n",
       "acquisitionYear         int64\n",
       "dimensions             object\n",
       "width                   int64\n",
       "height                  int64\n",
       "depth                 float64\n",
       "units                  object\n",
       "inscription           float64\n",
       "thumbnailCopyright    float64\n",
       "thumbnailUrl           object\n",
       "url                    object\n",
       "dtype: object"
      ]
     },
     "execution_count": 7,
     "metadata": {},
     "output_type": "execute_result"
    }
   ],
   "source": [
    "data = pd.read_csv('data/artwork_sample.csv')\n",
    "data.head(3)\n",
    "data.dtypes"
   ]
  },
  {
   "cell_type": "markdown",
   "metadata": {},
   "source": [
    "If there are bad values in some of the rows, read_csv has to set the data type to `object` (i.e. string).\n",
    "\n",
    "Check the data types to see if they make sense. If not, e.g. if a year column is cast as `object` then there are likely missing or incorrect values."
   ]
  },
  {
   "cell_type": "code",
   "execution_count": 11,
   "metadata": {},
   "outputs": [],
   "source": [
    "data.acquisitionYear = data.acquisitionYear.astype(float)"
   ]
  },
  {
   "cell_type": "code",
   "execution_count": 12,
   "metadata": {},
   "outputs": [
    {
     "data": {
      "text/plain": [
       "dtype('float64')"
      ]
     },
     "execution_count": 12,
     "metadata": {},
     "output_type": "execute_result"
    }
   ],
   "source": [
    "data.acquisitionYear.dtype"
   ]
  },
  {
   "cell_type": "code",
   "execution_count": 14,
   "metadata": {},
   "outputs": [
    {
     "data": {
      "text/plain": [
       "id                      int64\n",
       "accession_number       object\n",
       "artist                 object\n",
       "artistRole             object\n",
       "artistId                int64\n",
       "title                  object\n",
       "dateText               object\n",
       "medium                 object\n",
       "creditLine             object\n",
       "year                   object\n",
       "acquisitionYear       float64\n",
       "dimensions             object\n",
       "width                  object\n",
       "height                 object\n",
       "depth                 float64\n",
       "units                  object\n",
       "inscription            object\n",
       "thumbnailCopyright     object\n",
       "thumbnailUrl           object\n",
       "url                    object\n",
       "dtype: object"
      ]
     },
     "execution_count": 14,
     "metadata": {},
     "output_type": "execute_result"
    }
   ],
   "source": [
    "# now working with full dataset\n",
    "fulldf = pd.read_csv('data/artwork_data.csv', low_memory=False)\n",
    "fulldf.head(3)\n",
    "fulldf.dtypes"
   ]
  },
  {
   "cell_type": "code",
   "execution_count": 15,
   "metadata": {},
   "outputs": [
    {
     "ename": "ValueError",
     "evalue": "could not convert string to float: 'mm'",
     "output_type": "error",
     "traceback": [
      "\u001b[1;31m---------------------------------------------------------------------------\u001b[0m",
      "\u001b[1;31mValueError\u001b[0m                                Traceback (most recent call last)",
      "\u001b[1;32m<ipython-input-15-99c9ee63bec2>\u001b[0m in \u001b[0;36m<module>\u001b[1;34m\u001b[0m\n\u001b[1;32m----> 1\u001b[1;33m \u001b[0mfulldf\u001b[0m\u001b[1;33m.\u001b[0m\u001b[0mheight\u001b[0m\u001b[1;33m.\u001b[0m\u001b[0mastype\u001b[0m\u001b[1;33m(\u001b[0m\u001b[0mfloat\u001b[0m\u001b[1;33m)\u001b[0m\u001b[1;33m\u001b[0m\u001b[1;33m\u001b[0m\u001b[0m\n\u001b[0m",
      "\u001b[1;32m~\\Anaconda3\\lib\\site-packages\\pandas\\core\\generic.py\u001b[0m in \u001b[0;36mastype\u001b[1;34m(self, dtype, copy, errors, **kwargs)\u001b[0m\n\u001b[0;32m   5880\u001b[0m             \u001b[1;31m# else, only a single dtype is given\u001b[0m\u001b[1;33m\u001b[0m\u001b[1;33m\u001b[0m\u001b[1;33m\u001b[0m\u001b[0m\n\u001b[0;32m   5881\u001b[0m             new_data = self._data.astype(\n\u001b[1;32m-> 5882\u001b[1;33m                 \u001b[0mdtype\u001b[0m\u001b[1;33m=\u001b[0m\u001b[0mdtype\u001b[0m\u001b[1;33m,\u001b[0m \u001b[0mcopy\u001b[0m\u001b[1;33m=\u001b[0m\u001b[0mcopy\u001b[0m\u001b[1;33m,\u001b[0m \u001b[0merrors\u001b[0m\u001b[1;33m=\u001b[0m\u001b[0merrors\u001b[0m\u001b[1;33m,\u001b[0m \u001b[1;33m**\u001b[0m\u001b[0mkwargs\u001b[0m\u001b[1;33m\u001b[0m\u001b[1;33m\u001b[0m\u001b[0m\n\u001b[0m\u001b[0;32m   5883\u001b[0m             )\n\u001b[0;32m   5884\u001b[0m             \u001b[1;32mreturn\u001b[0m \u001b[0mself\u001b[0m\u001b[1;33m.\u001b[0m\u001b[0m_constructor\u001b[0m\u001b[1;33m(\u001b[0m\u001b[0mnew_data\u001b[0m\u001b[1;33m)\u001b[0m\u001b[1;33m.\u001b[0m\u001b[0m__finalize__\u001b[0m\u001b[1;33m(\u001b[0m\u001b[0mself\u001b[0m\u001b[1;33m)\u001b[0m\u001b[1;33m\u001b[0m\u001b[1;33m\u001b[0m\u001b[0m\n",
      "\u001b[1;32m~\\Anaconda3\\lib\\site-packages\\pandas\\core\\internals\\managers.py\u001b[0m in \u001b[0;36mastype\u001b[1;34m(self, dtype, **kwargs)\u001b[0m\n\u001b[0;32m    579\u001b[0m \u001b[1;33m\u001b[0m\u001b[0m\n\u001b[0;32m    580\u001b[0m     \u001b[1;32mdef\u001b[0m \u001b[0mastype\u001b[0m\u001b[1;33m(\u001b[0m\u001b[0mself\u001b[0m\u001b[1;33m,\u001b[0m \u001b[0mdtype\u001b[0m\u001b[1;33m,\u001b[0m \u001b[1;33m**\u001b[0m\u001b[0mkwargs\u001b[0m\u001b[1;33m)\u001b[0m\u001b[1;33m:\u001b[0m\u001b[1;33m\u001b[0m\u001b[1;33m\u001b[0m\u001b[0m\n\u001b[1;32m--> 581\u001b[1;33m         \u001b[1;32mreturn\u001b[0m \u001b[0mself\u001b[0m\u001b[1;33m.\u001b[0m\u001b[0mapply\u001b[0m\u001b[1;33m(\u001b[0m\u001b[1;34m\"astype\"\u001b[0m\u001b[1;33m,\u001b[0m \u001b[0mdtype\u001b[0m\u001b[1;33m=\u001b[0m\u001b[0mdtype\u001b[0m\u001b[1;33m,\u001b[0m \u001b[1;33m**\u001b[0m\u001b[0mkwargs\u001b[0m\u001b[1;33m)\u001b[0m\u001b[1;33m\u001b[0m\u001b[1;33m\u001b[0m\u001b[0m\n\u001b[0m\u001b[0;32m    582\u001b[0m \u001b[1;33m\u001b[0m\u001b[0m\n\u001b[0;32m    583\u001b[0m     \u001b[1;32mdef\u001b[0m \u001b[0mconvert\u001b[0m\u001b[1;33m(\u001b[0m\u001b[0mself\u001b[0m\u001b[1;33m,\u001b[0m \u001b[1;33m**\u001b[0m\u001b[0mkwargs\u001b[0m\u001b[1;33m)\u001b[0m\u001b[1;33m:\u001b[0m\u001b[1;33m\u001b[0m\u001b[1;33m\u001b[0m\u001b[0m\n",
      "\u001b[1;32m~\\Anaconda3\\lib\\site-packages\\pandas\\core\\internals\\managers.py\u001b[0m in \u001b[0;36mapply\u001b[1;34m(self, f, axes, filter, do_integrity_check, consolidate, **kwargs)\u001b[0m\n\u001b[0;32m    436\u001b[0m                     \u001b[0mkwargs\u001b[0m\u001b[1;33m[\u001b[0m\u001b[0mk\u001b[0m\u001b[1;33m]\u001b[0m \u001b[1;33m=\u001b[0m \u001b[0mobj\u001b[0m\u001b[1;33m.\u001b[0m\u001b[0mreindex\u001b[0m\u001b[1;33m(\u001b[0m\u001b[0mb_items\u001b[0m\u001b[1;33m,\u001b[0m \u001b[0maxis\u001b[0m\u001b[1;33m=\u001b[0m\u001b[0maxis\u001b[0m\u001b[1;33m,\u001b[0m \u001b[0mcopy\u001b[0m\u001b[1;33m=\u001b[0m\u001b[0malign_copy\u001b[0m\u001b[1;33m)\u001b[0m\u001b[1;33m\u001b[0m\u001b[1;33m\u001b[0m\u001b[0m\n\u001b[0;32m    437\u001b[0m \u001b[1;33m\u001b[0m\u001b[0m\n\u001b[1;32m--> 438\u001b[1;33m             \u001b[0mapplied\u001b[0m \u001b[1;33m=\u001b[0m \u001b[0mgetattr\u001b[0m\u001b[1;33m(\u001b[0m\u001b[0mb\u001b[0m\u001b[1;33m,\u001b[0m \u001b[0mf\u001b[0m\u001b[1;33m)\u001b[0m\u001b[1;33m(\u001b[0m\u001b[1;33m**\u001b[0m\u001b[0mkwargs\u001b[0m\u001b[1;33m)\u001b[0m\u001b[1;33m\u001b[0m\u001b[1;33m\u001b[0m\u001b[0m\n\u001b[0m\u001b[0;32m    439\u001b[0m             \u001b[0mresult_blocks\u001b[0m \u001b[1;33m=\u001b[0m \u001b[0m_extend_blocks\u001b[0m\u001b[1;33m(\u001b[0m\u001b[0mapplied\u001b[0m\u001b[1;33m,\u001b[0m \u001b[0mresult_blocks\u001b[0m\u001b[1;33m)\u001b[0m\u001b[1;33m\u001b[0m\u001b[1;33m\u001b[0m\u001b[0m\n\u001b[0;32m    440\u001b[0m \u001b[1;33m\u001b[0m\u001b[0m\n",
      "\u001b[1;32m~\\Anaconda3\\lib\\site-packages\\pandas\\core\\internals\\blocks.py\u001b[0m in \u001b[0;36mastype\u001b[1;34m(self, dtype, copy, errors, values, **kwargs)\u001b[0m\n\u001b[0;32m    557\u001b[0m \u001b[1;33m\u001b[0m\u001b[0m\n\u001b[0;32m    558\u001b[0m     \u001b[1;32mdef\u001b[0m \u001b[0mastype\u001b[0m\u001b[1;33m(\u001b[0m\u001b[0mself\u001b[0m\u001b[1;33m,\u001b[0m \u001b[0mdtype\u001b[0m\u001b[1;33m,\u001b[0m \u001b[0mcopy\u001b[0m\u001b[1;33m=\u001b[0m\u001b[1;32mFalse\u001b[0m\u001b[1;33m,\u001b[0m \u001b[0merrors\u001b[0m\u001b[1;33m=\u001b[0m\u001b[1;34m\"raise\"\u001b[0m\u001b[1;33m,\u001b[0m \u001b[0mvalues\u001b[0m\u001b[1;33m=\u001b[0m\u001b[1;32mNone\u001b[0m\u001b[1;33m,\u001b[0m \u001b[1;33m**\u001b[0m\u001b[0mkwargs\u001b[0m\u001b[1;33m)\u001b[0m\u001b[1;33m:\u001b[0m\u001b[1;33m\u001b[0m\u001b[1;33m\u001b[0m\u001b[0m\n\u001b[1;32m--> 559\u001b[1;33m         \u001b[1;32mreturn\u001b[0m \u001b[0mself\u001b[0m\u001b[1;33m.\u001b[0m\u001b[0m_astype\u001b[0m\u001b[1;33m(\u001b[0m\u001b[0mdtype\u001b[0m\u001b[1;33m,\u001b[0m \u001b[0mcopy\u001b[0m\u001b[1;33m=\u001b[0m\u001b[0mcopy\u001b[0m\u001b[1;33m,\u001b[0m \u001b[0merrors\u001b[0m\u001b[1;33m=\u001b[0m\u001b[0merrors\u001b[0m\u001b[1;33m,\u001b[0m \u001b[0mvalues\u001b[0m\u001b[1;33m=\u001b[0m\u001b[0mvalues\u001b[0m\u001b[1;33m,\u001b[0m \u001b[1;33m**\u001b[0m\u001b[0mkwargs\u001b[0m\u001b[1;33m)\u001b[0m\u001b[1;33m\u001b[0m\u001b[1;33m\u001b[0m\u001b[0m\n\u001b[0m\u001b[0;32m    560\u001b[0m \u001b[1;33m\u001b[0m\u001b[0m\n\u001b[0;32m    561\u001b[0m     \u001b[1;32mdef\u001b[0m \u001b[0m_astype\u001b[0m\u001b[1;33m(\u001b[0m\u001b[0mself\u001b[0m\u001b[1;33m,\u001b[0m \u001b[0mdtype\u001b[0m\u001b[1;33m,\u001b[0m \u001b[0mcopy\u001b[0m\u001b[1;33m=\u001b[0m\u001b[1;32mFalse\u001b[0m\u001b[1;33m,\u001b[0m \u001b[0merrors\u001b[0m\u001b[1;33m=\u001b[0m\u001b[1;34m\"raise\"\u001b[0m\u001b[1;33m,\u001b[0m \u001b[0mvalues\u001b[0m\u001b[1;33m=\u001b[0m\u001b[1;32mNone\u001b[0m\u001b[1;33m,\u001b[0m \u001b[1;33m**\u001b[0m\u001b[0mkwargs\u001b[0m\u001b[1;33m)\u001b[0m\u001b[1;33m:\u001b[0m\u001b[1;33m\u001b[0m\u001b[1;33m\u001b[0m\u001b[0m\n",
      "\u001b[1;32m~\\Anaconda3\\lib\\site-packages\\pandas\\core\\internals\\blocks.py\u001b[0m in \u001b[0;36m_astype\u001b[1;34m(self, dtype, copy, errors, values, **kwargs)\u001b[0m\n\u001b[0;32m    641\u001b[0m                     \u001b[1;31m# _astype_nansafe works fine with 1-d only\u001b[0m\u001b[1;33m\u001b[0m\u001b[1;33m\u001b[0m\u001b[1;33m\u001b[0m\u001b[0m\n\u001b[0;32m    642\u001b[0m                     \u001b[0mvals1d\u001b[0m \u001b[1;33m=\u001b[0m \u001b[0mvalues\u001b[0m\u001b[1;33m.\u001b[0m\u001b[0mravel\u001b[0m\u001b[1;33m(\u001b[0m\u001b[1;33m)\u001b[0m\u001b[1;33m\u001b[0m\u001b[1;33m\u001b[0m\u001b[0m\n\u001b[1;32m--> 643\u001b[1;33m                     \u001b[0mvalues\u001b[0m \u001b[1;33m=\u001b[0m \u001b[0mastype_nansafe\u001b[0m\u001b[1;33m(\u001b[0m\u001b[0mvals1d\u001b[0m\u001b[1;33m,\u001b[0m \u001b[0mdtype\u001b[0m\u001b[1;33m,\u001b[0m \u001b[0mcopy\u001b[0m\u001b[1;33m=\u001b[0m\u001b[1;32mTrue\u001b[0m\u001b[1;33m,\u001b[0m \u001b[1;33m**\u001b[0m\u001b[0mkwargs\u001b[0m\u001b[1;33m)\u001b[0m\u001b[1;33m\u001b[0m\u001b[1;33m\u001b[0m\u001b[0m\n\u001b[0m\u001b[0;32m    644\u001b[0m \u001b[1;33m\u001b[0m\u001b[0m\n\u001b[0;32m    645\u001b[0m                 \u001b[1;31m# TODO(extension)\u001b[0m\u001b[1;33m\u001b[0m\u001b[1;33m\u001b[0m\u001b[1;33m\u001b[0m\u001b[0m\n",
      "\u001b[1;32m~\\Anaconda3\\lib\\site-packages\\pandas\\core\\dtypes\\cast.py\u001b[0m in \u001b[0;36mastype_nansafe\u001b[1;34m(arr, dtype, copy, skipna)\u001b[0m\n\u001b[0;32m    727\u001b[0m     \u001b[1;32mif\u001b[0m \u001b[0mcopy\u001b[0m \u001b[1;32mor\u001b[0m \u001b[0mis_object_dtype\u001b[0m\u001b[1;33m(\u001b[0m\u001b[0marr\u001b[0m\u001b[1;33m)\u001b[0m \u001b[1;32mor\u001b[0m \u001b[0mis_object_dtype\u001b[0m\u001b[1;33m(\u001b[0m\u001b[0mdtype\u001b[0m\u001b[1;33m)\u001b[0m\u001b[1;33m:\u001b[0m\u001b[1;33m\u001b[0m\u001b[1;33m\u001b[0m\u001b[0m\n\u001b[0;32m    728\u001b[0m         \u001b[1;31m# Explicit copy, or required since NumPy can't view from / to object.\u001b[0m\u001b[1;33m\u001b[0m\u001b[1;33m\u001b[0m\u001b[1;33m\u001b[0m\u001b[0m\n\u001b[1;32m--> 729\u001b[1;33m         \u001b[1;32mreturn\u001b[0m \u001b[0marr\u001b[0m\u001b[1;33m.\u001b[0m\u001b[0mastype\u001b[0m\u001b[1;33m(\u001b[0m\u001b[0mdtype\u001b[0m\u001b[1;33m,\u001b[0m \u001b[0mcopy\u001b[0m\u001b[1;33m=\u001b[0m\u001b[1;32mTrue\u001b[0m\u001b[1;33m)\u001b[0m\u001b[1;33m\u001b[0m\u001b[1;33m\u001b[0m\u001b[0m\n\u001b[0m\u001b[0;32m    730\u001b[0m \u001b[1;33m\u001b[0m\u001b[0m\n\u001b[0;32m    731\u001b[0m     \u001b[1;32mreturn\u001b[0m \u001b[0marr\u001b[0m\u001b[1;33m.\u001b[0m\u001b[0mview\u001b[0m\u001b[1;33m(\u001b[0m\u001b[0mdtype\u001b[0m\u001b[1;33m)\u001b[0m\u001b[1;33m\u001b[0m\u001b[1;33m\u001b[0m\u001b[0m\n",
      "\u001b[1;31mValueError\u001b[0m: could not convert string to float: 'mm'"
     ]
    }
   ],
   "source": [
    "fulldf.height.astype(float)"
   ]
  },
  {
   "cell_type": "code",
   "execution_count": 16,
   "metadata": {},
   "outputs": [
    {
     "ename": "ValueError",
     "evalue": "Unable to parse string \"mm\" at position 41339",
     "output_type": "error",
     "traceback": [
      "\u001b[1;31m---------------------------------------------------------------------------\u001b[0m",
      "\u001b[1;31mValueError\u001b[0m                                Traceback (most recent call last)",
      "\u001b[1;32mpandas\\_libs\\lib.pyx\u001b[0m in \u001b[0;36mpandas._libs.lib.maybe_convert_numeric\u001b[1;34m()\u001b[0m\n",
      "\u001b[1;31mValueError\u001b[0m: Unable to parse string \"mm\"",
      "\nDuring handling of the above exception, another exception occurred:\n",
      "\u001b[1;31mValueError\u001b[0m                                Traceback (most recent call last)",
      "\u001b[1;32m<ipython-input-16-2a281090024b>\u001b[0m in \u001b[0;36m<module>\u001b[1;34m\u001b[0m\n\u001b[1;32m----> 1\u001b[1;33m \u001b[0mpd\u001b[0m\u001b[1;33m.\u001b[0m\u001b[0mto_numeric\u001b[0m\u001b[1;33m(\u001b[0m\u001b[0mfulldf\u001b[0m\u001b[1;33m.\u001b[0m\u001b[0mheight\u001b[0m\u001b[1;33m)\u001b[0m\u001b[1;33m\u001b[0m\u001b[1;33m\u001b[0m\u001b[0m\n\u001b[0m",
      "\u001b[1;32m~\\Anaconda3\\lib\\site-packages\\pandas\\core\\tools\\numeric.py\u001b[0m in \u001b[0;36mto_numeric\u001b[1;34m(arg, errors, downcast)\u001b[0m\n\u001b[0;32m    149\u001b[0m             \u001b[0mcoerce_numeric\u001b[0m \u001b[1;33m=\u001b[0m \u001b[0merrors\u001b[0m \u001b[1;32mnot\u001b[0m \u001b[1;32min\u001b[0m \u001b[1;33m(\u001b[0m\u001b[1;34m\"ignore\"\u001b[0m\u001b[1;33m,\u001b[0m \u001b[1;34m\"raise\"\u001b[0m\u001b[1;33m)\u001b[0m\u001b[1;33m\u001b[0m\u001b[1;33m\u001b[0m\u001b[0m\n\u001b[0;32m    150\u001b[0m             values = lib.maybe_convert_numeric(\n\u001b[1;32m--> 151\u001b[1;33m                 \u001b[0mvalues\u001b[0m\u001b[1;33m,\u001b[0m \u001b[0mset\u001b[0m\u001b[1;33m(\u001b[0m\u001b[1;33m)\u001b[0m\u001b[1;33m,\u001b[0m \u001b[0mcoerce_numeric\u001b[0m\u001b[1;33m=\u001b[0m\u001b[0mcoerce_numeric\u001b[0m\u001b[1;33m\u001b[0m\u001b[1;33m\u001b[0m\u001b[0m\n\u001b[0m\u001b[0;32m    152\u001b[0m             )\n\u001b[0;32m    153\u001b[0m \u001b[1;33m\u001b[0m\u001b[0m\n",
      "\u001b[1;32mpandas\\_libs\\lib.pyx\u001b[0m in \u001b[0;36mpandas._libs.lib.maybe_convert_numeric\u001b[1;34m()\u001b[0m\n",
      "\u001b[1;31mValueError\u001b[0m: Unable to parse string \"mm\" at position 41339"
     ]
    }
   ],
   "source": [
    "pd.to_numeric(fulldf.height)"
   ]
  },
  {
   "cell_type": "code",
   "execution_count": 17,
   "metadata": {},
   "outputs": [
    {
     "data": {
      "text/plain": [
       "0         419.0\n",
       "1         213.0\n",
       "2         467.0\n",
       "3         394.0\n",
       "4         335.0\n",
       "          ...  \n",
       "69196     305.0\n",
       "69197     305.0\n",
       "69198    2410.0\n",
       "69199       NaN\n",
       "69200     660.0\n",
       "Name: height, Length: 69201, dtype: float64"
      ]
     },
     "execution_count": 17,
     "metadata": {},
     "output_type": "execute_result"
    }
   ],
   "source": [
    "pd.to_numeric(fulldf.height, errors='coerce')"
   ]
  },
  {
   "cell_type": "code",
   "execution_count": 18,
   "metadata": {},
   "outputs": [
    {
     "data": {
      "text/plain": [
       "dtype('O')"
      ]
     },
     "execution_count": 18,
     "metadata": {},
     "output_type": "execute_result"
    }
   ],
   "source": [
    "fulldf.height.dtype\n",
    "# still an object bc command above is \"temporary\""
   ]
  },
  {
   "cell_type": "code",
   "execution_count": 20,
   "metadata": {},
   "outputs": [
    {
     "data": {
      "text/plain": [
       "dtype('float64')"
      ]
     },
     "execution_count": 20,
     "metadata": {},
     "output_type": "execute_result"
    }
   ],
   "source": [
    "fulldf.height = pd.to_numeric(fulldf.height, errors='coerce')\n",
    "fulldf.height.dtype"
   ]
  },
  {
   "cell_type": "markdown",
   "metadata": {},
   "source": [
    "# Aggregating data"
   ]
  },
  {
   "cell_type": "code",
   "execution_count": 22,
   "metadata": {},
   "outputs": [
    {
     "data": {
      "text/plain": [
       "0       NaN\n",
       "1       NaN\n",
       "2    1785.0\n",
       "3       NaN\n",
       "4    1826.0\n",
       "5    1826.0\n",
       "6    1826.0\n",
       "7    1826.0\n",
       "8    1826.0\n",
       "9    1826.0\n",
       "Name: year, dtype: float64"
      ]
     },
     "execution_count": 22,
     "metadata": {},
     "output_type": "execute_result"
    }
   ],
   "source": [
    "data.year"
   ]
  },
  {
   "cell_type": "code",
   "execution_count": 23,
   "metadata": {},
   "outputs": [
    {
     "data": {
      "text/plain": [
       "1785.0"
      ]
     },
     "execution_count": 23,
     "metadata": {},
     "output_type": "execute_result"
    }
   ],
   "source": [
    "# can get summary stats per column\n",
    "data.year.min()"
   ]
  },
  {
   "cell_type": "code",
   "execution_count": 24,
   "metadata": {},
   "outputs": [
    {
     "data": {
      "text/plain": [
       "1826.0"
      ]
     },
     "execution_count": 24,
     "metadata": {},
     "output_type": "execute_result"
    }
   ],
   "source": [
    "data.year.max()"
   ]
  },
  {
   "cell_type": "code",
   "execution_count": 25,
   "metadata": {},
   "outputs": [
    {
     "data": {
      "text/plain": [
       "12741.0"
      ]
     },
     "execution_count": 25,
     "metadata": {},
     "output_type": "execute_result"
    }
   ],
   "source": [
    "data.year.sum()"
   ]
  },
  {
   "cell_type": "code",
   "execution_count": 26,
   "metadata": {},
   "outputs": [
    {
     "data": {
      "text/plain": [
       "1820.142857142857"
      ]
     },
     "execution_count": 26,
     "metadata": {},
     "output_type": "execute_result"
    }
   ],
   "source": [
    "data.year.mean()"
   ]
  },
  {
   "cell_type": "code",
   "execution_count": 28,
   "metadata": {},
   "outputs": [
    {
     "data": {
      "text/plain": [
       "15.496543393378316"
      ]
     },
     "execution_count": 28,
     "metadata": {},
     "output_type": "execute_result"
    }
   ],
   "source": [
    "# standard deviation\n",
    "data.year.std()"
   ]
  },
  {
   "cell_type": "code",
   "execution_count": 31,
   "metadata": {},
   "outputs": [
    {
     "data": {
      "text/html": [
       "<div>\n",
       "<style scoped>\n",
       "    .dataframe tbody tr th:only-of-type {\n",
       "        vertical-align: middle;\n",
       "    }\n",
       "\n",
       "    .dataframe tbody tr th {\n",
       "        vertical-align: top;\n",
       "    }\n",
       "\n",
       "    .dataframe thead th {\n",
       "        text-align: right;\n",
       "    }\n",
       "</style>\n",
       "<table border=\"1\" class=\"dataframe\">\n",
       "  <thead>\n",
       "    <tr style=\"text-align: right;\">\n",
       "      <th></th>\n",
       "      <th>id</th>\n",
       "      <th>accession_number</th>\n",
       "      <th>artist</th>\n",
       "      <th>artistRole</th>\n",
       "      <th>artistId</th>\n",
       "      <th>title</th>\n",
       "      <th>dateText</th>\n",
       "      <th>medium</th>\n",
       "      <th>creditLine</th>\n",
       "      <th>year</th>\n",
       "      <th>acquisitionYear</th>\n",
       "      <th>dimensions</th>\n",
       "      <th>width</th>\n",
       "      <th>height</th>\n",
       "      <th>depth</th>\n",
       "      <th>units</th>\n",
       "      <th>inscription</th>\n",
       "      <th>thumbnailCopyright</th>\n",
       "      <th>thumbnailUrl</th>\n",
       "      <th>url</th>\n",
       "    </tr>\n",
       "  </thead>\n",
       "  <tbody>\n",
       "    <tr>\n",
       "      <td>min</td>\n",
       "      <td>1035.00000</td>\n",
       "      <td>A00001</td>\n",
       "      <td>Blake, Robert</td>\n",
       "      <td>artist</td>\n",
       "      <td>38.000000</td>\n",
       "      <td>A Figure Bowing before a Seated Old Man with h...</td>\n",
       "      <td>1826–7, reprinted 1892</td>\n",
       "      <td>Graphite on paper</td>\n",
       "      <td>Presented by Mrs John Richmond 1922</td>\n",
       "      <td>1785.000000</td>\n",
       "      <td>1919.000000</td>\n",
       "      <td>image: 240 x 338 mm</td>\n",
       "      <td>240.000000</td>\n",
       "      <td>213.000000</td>\n",
       "      <td>NaN</td>\n",
       "      <td>mm</td>\n",
       "      <td>NaN</td>\n",
       "      <td>NaN</td>\n",
       "      <td>http://www.tate.org.uk/art/images/work/A/A00/A...</td>\n",
       "      <td>http://www.tate.org.uk/art/artworks/blake-a-fi...</td>\n",
       "    </tr>\n",
       "    <tr>\n",
       "      <td>max</td>\n",
       "      <td>1044.00000</td>\n",
       "      <td>A00010</td>\n",
       "      <td>Blake, William</td>\n",
       "      <td>artist</td>\n",
       "      <td>39.000000</td>\n",
       "      <td>Two Drawings of Frightened Figures, Probably f...</td>\n",
       "      <td>date not known</td>\n",
       "      <td>Watercolour, ink, chalk and graphite on paper....</td>\n",
       "      <td>Purchased with the assistance of a special gra...</td>\n",
       "      <td>1826.000000</td>\n",
       "      <td>1922.000000</td>\n",
       "      <td>support: 394 x 419 mm</td>\n",
       "      <td>394.000000</td>\n",
       "      <td>467.000000</td>\n",
       "      <td>NaN</td>\n",
       "      <td>mm</td>\n",
       "      <td>NaN</td>\n",
       "      <td>NaN</td>\n",
       "      <td>http://www.tate.org.uk/art/images/work/A/A00/A...</td>\n",
       "      <td>http://www.tate.org.uk/art/artworks/blake-two-...</td>\n",
       "    </tr>\n",
       "    <tr>\n",
       "      <td>mean</td>\n",
       "      <td>1039.50000</td>\n",
       "      <td>NaN</td>\n",
       "      <td>NaN</td>\n",
       "      <td>NaN</td>\n",
       "      <td>38.600000</td>\n",
       "      <td>NaN</td>\n",
       "      <td>NaN</td>\n",
       "      <td>NaN</td>\n",
       "      <td>NaN</td>\n",
       "      <td>1820.142857</td>\n",
       "      <td>1920.200000</td>\n",
       "      <td>NaN</td>\n",
       "      <td>282.100000</td>\n",
       "      <td>351.500000</td>\n",
       "      <td>NaN</td>\n",
       "      <td>NaN</td>\n",
       "      <td>NaN</td>\n",
       "      <td>NaN</td>\n",
       "      <td>NaN</td>\n",
       "      <td>NaN</td>\n",
       "    </tr>\n",
       "    <tr>\n",
       "      <td>std</td>\n",
       "      <td>3.02765</td>\n",
       "      <td>NaN</td>\n",
       "      <td>NaN</td>\n",
       "      <td>NaN</td>\n",
       "      <td>0.516398</td>\n",
       "      <td>NaN</td>\n",
       "      <td>NaN</td>\n",
       "      <td>NaN</td>\n",
       "      <td>NaN</td>\n",
       "      <td>15.496543</td>\n",
       "      <td>1.549193</td>\n",
       "      <td>NaN</td>\n",
       "      <td>55.562677</td>\n",
       "      <td>66.818577</td>\n",
       "      <td>NaN</td>\n",
       "      <td>NaN</td>\n",
       "      <td>NaN</td>\n",
       "      <td>NaN</td>\n",
       "      <td>NaN</td>\n",
       "      <td>NaN</td>\n",
       "    </tr>\n",
       "  </tbody>\n",
       "</table>\n",
       "</div>"
      ],
      "text/plain": [
       "              id accession_number          artist artistRole   artistId  \\\n",
       "min   1035.00000           A00001   Blake, Robert     artist  38.000000   \n",
       "max   1044.00000           A00010  Blake, William     artist  39.000000   \n",
       "mean  1039.50000              NaN             NaN        NaN  38.600000   \n",
       "std      3.02765              NaN             NaN        NaN   0.516398   \n",
       "\n",
       "                                                  title  \\\n",
       "min   A Figure Bowing before a Seated Old Man with h...   \n",
       "max   Two Drawings of Frightened Figures, Probably f...   \n",
       "mean                                                NaN   \n",
       "std                                                 NaN   \n",
       "\n",
       "                    dateText  \\\n",
       "min   1826–7, reprinted 1892   \n",
       "max           date not known   \n",
       "mean                     NaN   \n",
       "std                      NaN   \n",
       "\n",
       "                                                 medium  \\\n",
       "min                                   Graphite on paper   \n",
       "max   Watercolour, ink, chalk and graphite on paper....   \n",
       "mean                                                NaN   \n",
       "std                                                 NaN   \n",
       "\n",
       "                                             creditLine         year  \\\n",
       "min                 Presented by Mrs John Richmond 1922  1785.000000   \n",
       "max   Purchased with the assistance of a special gra...  1826.000000   \n",
       "mean                                                NaN  1820.142857   \n",
       "std                                                 NaN    15.496543   \n",
       "\n",
       "      acquisitionYear             dimensions       width      height  depth  \\\n",
       "min       1919.000000    image: 240 x 338 mm  240.000000  213.000000    NaN   \n",
       "max       1922.000000  support: 394 x 419 mm  394.000000  467.000000    NaN   \n",
       "mean      1920.200000                    NaN  282.100000  351.500000    NaN   \n",
       "std          1.549193                    NaN   55.562677   66.818577    NaN   \n",
       "\n",
       "     units  inscription  thumbnailCopyright  \\\n",
       "min     mm          NaN                 NaN   \n",
       "max     mm          NaN                 NaN   \n",
       "mean   NaN          NaN                 NaN   \n",
       "std    NaN          NaN                 NaN   \n",
       "\n",
       "                                           thumbnailUrl  \\\n",
       "min   http://www.tate.org.uk/art/images/work/A/A00/A...   \n",
       "max   http://www.tate.org.uk/art/images/work/A/A00/A...   \n",
       "mean                                                NaN   \n",
       "std                                                 NaN   \n",
       "\n",
       "                                                    url  \n",
       "min   http://www.tate.org.uk/art/artworks/blake-a-fi...  \n",
       "max   http://www.tate.org.uk/art/artworks/blake-two-...  \n",
       "mean                                                NaN  \n",
       "std                                                 NaN  "
      ]
     },
     "execution_count": 31,
     "metadata": {},
     "output_type": "execute_result"
    }
   ],
   "source": [
    "# another way to do get summary stats\n",
    "data.agg(['min','max','mean','std'])"
   ]
  },
  {
   "cell_type": "code",
   "execution_count": 33,
   "metadata": {},
   "outputs": [
    {
     "data": {
      "text/html": [
       "<div>\n",
       "<style scoped>\n",
       "    .dataframe tbody tr th:only-of-type {\n",
       "        vertical-align: middle;\n",
       "    }\n",
       "\n",
       "    .dataframe tbody tr th {\n",
       "        vertical-align: top;\n",
       "    }\n",
       "\n",
       "    .dataframe thead th {\n",
       "        text-align: right;\n",
       "    }\n",
       "</style>\n",
       "<table border=\"1\" class=\"dataframe\">\n",
       "  <thead>\n",
       "    <tr style=\"text-align: right;\">\n",
       "      <th></th>\n",
       "      <th>id</th>\n",
       "      <th>artistId</th>\n",
       "      <th>year</th>\n",
       "      <th>acquisitionYear</th>\n",
       "      <th>width</th>\n",
       "      <th>height</th>\n",
       "      <th>depth</th>\n",
       "      <th>inscription</th>\n",
       "      <th>thumbnailCopyright</th>\n",
       "    </tr>\n",
       "  </thead>\n",
       "  <tbody>\n",
       "    <tr>\n",
       "      <td>count</td>\n",
       "      <td>10.00000</td>\n",
       "      <td>10.000000</td>\n",
       "      <td>7.000000</td>\n",
       "      <td>10.000000</td>\n",
       "      <td>10.000000</td>\n",
       "      <td>10.000000</td>\n",
       "      <td>0.0</td>\n",
       "      <td>0.0</td>\n",
       "      <td>0.0</td>\n",
       "    </tr>\n",
       "    <tr>\n",
       "      <td>mean</td>\n",
       "      <td>1039.50000</td>\n",
       "      <td>38.600000</td>\n",
       "      <td>1820.142857</td>\n",
       "      <td>1920.200000</td>\n",
       "      <td>282.100000</td>\n",
       "      <td>351.500000</td>\n",
       "      <td>NaN</td>\n",
       "      <td>NaN</td>\n",
       "      <td>NaN</td>\n",
       "    </tr>\n",
       "    <tr>\n",
       "      <td>std</td>\n",
       "      <td>3.02765</td>\n",
       "      <td>0.516398</td>\n",
       "      <td>15.496543</td>\n",
       "      <td>1.549193</td>\n",
       "      <td>55.562677</td>\n",
       "      <td>66.818577</td>\n",
       "      <td>NaN</td>\n",
       "      <td>NaN</td>\n",
       "      <td>NaN</td>\n",
       "    </tr>\n",
       "    <tr>\n",
       "      <td>min</td>\n",
       "      <td>1035.00000</td>\n",
       "      <td>38.000000</td>\n",
       "      <td>1785.000000</td>\n",
       "      <td>1919.000000</td>\n",
       "      <td>240.000000</td>\n",
       "      <td>213.000000</td>\n",
       "      <td>NaN</td>\n",
       "      <td>NaN</td>\n",
       "      <td>NaN</td>\n",
       "    </tr>\n",
       "    <tr>\n",
       "      <td>25%</td>\n",
       "      <td>1037.25000</td>\n",
       "      <td>38.000000</td>\n",
       "      <td>1826.000000</td>\n",
       "      <td>1919.000000</td>\n",
       "      <td>242.250000</td>\n",
       "      <td>335.000000</td>\n",
       "      <td>NaN</td>\n",
       "      <td>NaN</td>\n",
       "      <td>NaN</td>\n",
       "    </tr>\n",
       "    <tr>\n",
       "      <td>50%</td>\n",
       "      <td>1039.50000</td>\n",
       "      <td>39.000000</td>\n",
       "      <td>1826.000000</td>\n",
       "      <td>1919.000000</td>\n",
       "      <td>244.500000</td>\n",
       "      <td>339.000000</td>\n",
       "      <td>NaN</td>\n",
       "      <td>NaN</td>\n",
       "      <td>NaN</td>\n",
       "    </tr>\n",
       "    <tr>\n",
       "      <td>75%</td>\n",
       "      <td>1041.75000</td>\n",
       "      <td>39.000000</td>\n",
       "      <td>1826.000000</td>\n",
       "      <td>1922.000000</td>\n",
       "      <td>316.250000</td>\n",
       "      <td>380.500000</td>\n",
       "      <td>NaN</td>\n",
       "      <td>NaN</td>\n",
       "      <td>NaN</td>\n",
       "    </tr>\n",
       "    <tr>\n",
       "      <td>max</td>\n",
       "      <td>1044.00000</td>\n",
       "      <td>39.000000</td>\n",
       "      <td>1826.000000</td>\n",
       "      <td>1922.000000</td>\n",
       "      <td>394.000000</td>\n",
       "      <td>467.000000</td>\n",
       "      <td>NaN</td>\n",
       "      <td>NaN</td>\n",
       "      <td>NaN</td>\n",
       "    </tr>\n",
       "  </tbody>\n",
       "</table>\n",
       "</div>"
      ],
      "text/plain": [
       "               id   artistId         year  acquisitionYear       width  \\\n",
       "count    10.00000  10.000000     7.000000        10.000000   10.000000   \n",
       "mean   1039.50000  38.600000  1820.142857      1920.200000  282.100000   \n",
       "std       3.02765   0.516398    15.496543         1.549193   55.562677   \n",
       "min    1035.00000  38.000000  1785.000000      1919.000000  240.000000   \n",
       "25%    1037.25000  38.000000  1826.000000      1919.000000  242.250000   \n",
       "50%    1039.50000  39.000000  1826.000000      1919.000000  244.500000   \n",
       "75%    1041.75000  39.000000  1826.000000      1922.000000  316.250000   \n",
       "max    1044.00000  39.000000  1826.000000      1922.000000  394.000000   \n",
       "\n",
       "           height  depth  inscription  thumbnailCopyright  \n",
       "count   10.000000    0.0          0.0                 0.0  \n",
       "mean   351.500000    NaN          NaN                 NaN  \n",
       "std     66.818577    NaN          NaN                 NaN  \n",
       "min    213.000000    NaN          NaN                 NaN  \n",
       "25%    335.000000    NaN          NaN                 NaN  \n",
       "50%    339.000000    NaN          NaN                 NaN  \n",
       "75%    380.500000    NaN          NaN                 NaN  \n",
       "max    467.000000    NaN          NaN                 NaN  "
      ]
     },
     "execution_count": 33,
     "metadata": {},
     "output_type": "execute_result"
    }
   ],
   "source": [
    "# probably better to do it this way though\n",
    "data.describe()"
   ]
  },
  {
   "cell_type": "markdown",
   "metadata": {},
   "source": [
    "# Normalising numeric data\n",
    "\n",
    "Normalization means that we want to adjust the values in the column and change their scale"
   ]
  },
  {
   "cell_type": "code",
   "execution_count": 34,
   "metadata": {},
   "outputs": [
    {
     "data": {
      "text/plain": [
       "0    419\n",
       "1    213\n",
       "2    467\n",
       "3    394\n",
       "4    335\n",
       "Name: height, dtype: int64"
      ]
     },
     "execution_count": 34,
     "metadata": {},
     "output_type": "execute_result"
    }
   ],
   "source": [
    "data.height.head()"
   ]
  },
  {
   "cell_type": "code",
   "execution_count": 36,
   "metadata": {},
   "outputs": [
    {
     "data": {
      "text/plain": [
       "count     10.000000\n",
       "mean     351.500000\n",
       "std       66.818577\n",
       "min      213.000000\n",
       "25%      335.000000\n",
       "50%      339.000000\n",
       "75%      380.500000\n",
       "max      467.000000\n",
       "Name: height, dtype: float64"
      ]
     },
     "execution_count": 36,
     "metadata": {},
     "output_type": "execute_result"
    }
   ],
   "source": [
    "data.height.describe()"
   ]
  },
  {
   "cell_type": "code",
   "execution_count": 37,
   "metadata": {},
   "outputs": [],
   "source": [
    "height = data.height"
   ]
  },
  {
   "cell_type": "code",
   "execution_count": 39,
   "metadata": {},
   "outputs": [
    {
     "data": {
      "text/plain": [
       "0    1.010198\n",
       "1   -2.072777\n",
       "2    1.728561\n",
       "3    0.636051\n",
       "4   -0.246937\n",
       "5   -0.202040\n",
       "6   -0.261903\n",
       "7   -0.172108\n",
       "8   -0.246937\n",
       "9   -0.172108\n",
       "Name: height, dtype: float64"
      ]
     },
     "execution_count": 39,
     "metadata": {},
     "output_type": "execute_result"
    }
   ],
   "source": [
    "# standardisation\n",
    "norm = (height - height.mean())/height.std()\n",
    "norm"
   ]
  },
  {
   "cell_type": "code",
   "execution_count": 40,
   "metadata": {},
   "outputs": [
    {
     "data": {
      "text/plain": [
       "0    0.811024\n",
       "1    0.000000\n",
       "2    1.000000\n",
       "3    0.712598\n",
       "4    0.480315\n",
       "5    0.492126\n",
       "6    0.476378\n",
       "7    0.500000\n",
       "8    0.480315\n",
       "9    0.500000\n",
       "Name: height, dtype: float64"
      ]
     },
     "execution_count": 40,
     "metadata": {},
     "output_type": "execute_result"
    }
   ],
   "source": [
    "# normalise all values bx 0 and 1\n",
    "minmax = (height - height.min())/(height.max()-height.min())\n",
    "minmax"
   ]
  },
  {
   "cell_type": "code",
   "execution_count": 42,
   "metadata": {},
   "outputs": [],
   "source": [
    "data['standardised_height'] = norm\n",
    "# dot notation can't create new columns"
   ]
  },
  {
   "cell_type": "markdown",
   "metadata": {},
   "source": [
    "# Transforming data\n",
    "e.g. changing height values from mm to cm"
   ]
  },
  {
   "cell_type": "code",
   "execution_count": 44,
   "metadata": {},
   "outputs": [
    {
     "data": {
      "text/plain": [
       "0    419\n",
       "1    213\n",
       "2    467\n",
       "3    394\n",
       "4    335\n",
       "5    338\n",
       "6    334\n",
       "7    340\n",
       "8    335\n",
       "9    340\n",
       "Name: height, dtype: int64"
      ]
     },
     "execution_count": 44,
     "metadata": {},
     "output_type": "execute_result"
    }
   ],
   "source": [
    "data.height.transform(lambda x: x)"
   ]
  },
  {
   "cell_type": "code",
   "execution_count": 47,
   "metadata": {},
   "outputs": [
    {
     "data": {
      "text/plain": [
       "0    41.9\n",
       "1    21.3\n",
       "2    46.7\n",
       "3    39.4\n",
       "4    33.5\n",
       "5    33.8\n",
       "6    33.4\n",
       "7    34.0\n",
       "8    33.5\n",
       "9    34.0\n",
       "Name: height, dtype: float64"
      ]
     },
     "execution_count": 47,
     "metadata": {},
     "output_type": "execute_result"
    }
   ],
   "source": [
    "data.height.transform(lambda x: x/10)\n",
    "# .transform applies lambda fxn across whole series"
   ]
  },
  {
   "cell_type": "code",
   "execution_count": 48,
   "metadata": {},
   "outputs": [
    {
     "data": {
      "text/plain": [
       "<pandas.core.groupby.generic.DataFrameGroupBy object at 0x000002072F23E5C8>"
      ]
     },
     "execution_count": 48,
     "metadata": {},
     "output_type": "execute_result"
    }
   ],
   "source": [
    "# .transform is more powerful if combined with .groupby\n",
    "data.groupby('artist') # .groupby creates a temporary dataframe"
   ]
  },
  {
   "cell_type": "code",
   "execution_count": 49,
   "metadata": {},
   "outputs": [
    {
     "data": {
      "text/html": [
       "<div>\n",
       "<style scoped>\n",
       "    .dataframe tbody tr th:only-of-type {\n",
       "        vertical-align: middle;\n",
       "    }\n",
       "\n",
       "    .dataframe tbody tr th {\n",
       "        vertical-align: top;\n",
       "    }\n",
       "\n",
       "    .dataframe thead th {\n",
       "        text-align: right;\n",
       "    }\n",
       "</style>\n",
       "<table border=\"1\" class=\"dataframe\">\n",
       "  <thead>\n",
       "    <tr style=\"text-align: right;\">\n",
       "      <th></th>\n",
       "      <th>id</th>\n",
       "      <th>accession_number</th>\n",
       "      <th>artistRole</th>\n",
       "      <th>artistId</th>\n",
       "      <th>title</th>\n",
       "      <th>dateText</th>\n",
       "      <th>medium</th>\n",
       "      <th>creditLine</th>\n",
       "      <th>year</th>\n",
       "      <th>acquisitionYear</th>\n",
       "      <th>dimensions</th>\n",
       "      <th>width</th>\n",
       "      <th>height</th>\n",
       "      <th>depth</th>\n",
       "      <th>units</th>\n",
       "      <th>inscription</th>\n",
       "      <th>thumbnailCopyright</th>\n",
       "      <th>thumbnailUrl</th>\n",
       "      <th>url</th>\n",
       "      <th>standardised_height</th>\n",
       "    </tr>\n",
       "  </thead>\n",
       "  <tbody>\n",
       "    <tr>\n",
       "      <td>0</td>\n",
       "      <td>4</td>\n",
       "      <td>4</td>\n",
       "      <td>1</td>\n",
       "      <td>1</td>\n",
       "      <td>4</td>\n",
       "      <td>2</td>\n",
       "      <td>3</td>\n",
       "      <td>1</td>\n",
       "      <td>1</td>\n",
       "      <td>1</td>\n",
       "      <td>4</td>\n",
       "      <td>4</td>\n",
       "      <td>4</td>\n",
       "      <td>0</td>\n",
       "      <td>1</td>\n",
       "      <td>0</td>\n",
       "      <td>0</td>\n",
       "      <td>4</td>\n",
       "      <td>4</td>\n",
       "      <td>4</td>\n",
       "    </tr>\n",
       "    <tr>\n",
       "      <td>1</td>\n",
       "      <td>4</td>\n",
       "      <td>4</td>\n",
       "      <td>1</td>\n",
       "      <td>1</td>\n",
       "      <td>4</td>\n",
       "      <td>2</td>\n",
       "      <td>3</td>\n",
       "      <td>1</td>\n",
       "      <td>1</td>\n",
       "      <td>1</td>\n",
       "      <td>4</td>\n",
       "      <td>4</td>\n",
       "      <td>4</td>\n",
       "      <td>0</td>\n",
       "      <td>1</td>\n",
       "      <td>0</td>\n",
       "      <td>0</td>\n",
       "      <td>4</td>\n",
       "      <td>4</td>\n",
       "      <td>4</td>\n",
       "    </tr>\n",
       "    <tr>\n",
       "      <td>2</td>\n",
       "      <td>4</td>\n",
       "      <td>4</td>\n",
       "      <td>1</td>\n",
       "      <td>1</td>\n",
       "      <td>4</td>\n",
       "      <td>2</td>\n",
       "      <td>3</td>\n",
       "      <td>1</td>\n",
       "      <td>1</td>\n",
       "      <td>1</td>\n",
       "      <td>4</td>\n",
       "      <td>4</td>\n",
       "      <td>4</td>\n",
       "      <td>0</td>\n",
       "      <td>1</td>\n",
       "      <td>0</td>\n",
       "      <td>0</td>\n",
       "      <td>4</td>\n",
       "      <td>4</td>\n",
       "      <td>4</td>\n",
       "    </tr>\n",
       "    <tr>\n",
       "      <td>3</td>\n",
       "      <td>4</td>\n",
       "      <td>4</td>\n",
       "      <td>1</td>\n",
       "      <td>1</td>\n",
       "      <td>4</td>\n",
       "      <td>2</td>\n",
       "      <td>3</td>\n",
       "      <td>1</td>\n",
       "      <td>1</td>\n",
       "      <td>1</td>\n",
       "      <td>4</td>\n",
       "      <td>4</td>\n",
       "      <td>4</td>\n",
       "      <td>0</td>\n",
       "      <td>1</td>\n",
       "      <td>0</td>\n",
       "      <td>0</td>\n",
       "      <td>4</td>\n",
       "      <td>4</td>\n",
       "      <td>4</td>\n",
       "    </tr>\n",
       "    <tr>\n",
       "      <td>4</td>\n",
       "      <td>6</td>\n",
       "      <td>6</td>\n",
       "      <td>1</td>\n",
       "      <td>1</td>\n",
       "      <td>6</td>\n",
       "      <td>1</td>\n",
       "      <td>1</td>\n",
       "      <td>1</td>\n",
       "      <td>1</td>\n",
       "      <td>1</td>\n",
       "      <td>6</td>\n",
       "      <td>5</td>\n",
       "      <td>4</td>\n",
       "      <td>0</td>\n",
       "      <td>1</td>\n",
       "      <td>0</td>\n",
       "      <td>0</td>\n",
       "      <td>6</td>\n",
       "      <td>6</td>\n",
       "      <td>4</td>\n",
       "    </tr>\n",
       "    <tr>\n",
       "      <td>5</td>\n",
       "      <td>6</td>\n",
       "      <td>6</td>\n",
       "      <td>1</td>\n",
       "      <td>1</td>\n",
       "      <td>6</td>\n",
       "      <td>1</td>\n",
       "      <td>1</td>\n",
       "      <td>1</td>\n",
       "      <td>1</td>\n",
       "      <td>1</td>\n",
       "      <td>6</td>\n",
       "      <td>5</td>\n",
       "      <td>4</td>\n",
       "      <td>0</td>\n",
       "      <td>1</td>\n",
       "      <td>0</td>\n",
       "      <td>0</td>\n",
       "      <td>6</td>\n",
       "      <td>6</td>\n",
       "      <td>4</td>\n",
       "    </tr>\n",
       "    <tr>\n",
       "      <td>6</td>\n",
       "      <td>6</td>\n",
       "      <td>6</td>\n",
       "      <td>1</td>\n",
       "      <td>1</td>\n",
       "      <td>6</td>\n",
       "      <td>1</td>\n",
       "      <td>1</td>\n",
       "      <td>1</td>\n",
       "      <td>1</td>\n",
       "      <td>1</td>\n",
       "      <td>6</td>\n",
       "      <td>5</td>\n",
       "      <td>4</td>\n",
       "      <td>0</td>\n",
       "      <td>1</td>\n",
       "      <td>0</td>\n",
       "      <td>0</td>\n",
       "      <td>6</td>\n",
       "      <td>6</td>\n",
       "      <td>4</td>\n",
       "    </tr>\n",
       "    <tr>\n",
       "      <td>7</td>\n",
       "      <td>6</td>\n",
       "      <td>6</td>\n",
       "      <td>1</td>\n",
       "      <td>1</td>\n",
       "      <td>6</td>\n",
       "      <td>1</td>\n",
       "      <td>1</td>\n",
       "      <td>1</td>\n",
       "      <td>1</td>\n",
       "      <td>1</td>\n",
       "      <td>6</td>\n",
       "      <td>5</td>\n",
       "      <td>4</td>\n",
       "      <td>0</td>\n",
       "      <td>1</td>\n",
       "      <td>0</td>\n",
       "      <td>0</td>\n",
       "      <td>6</td>\n",
       "      <td>6</td>\n",
       "      <td>4</td>\n",
       "    </tr>\n",
       "    <tr>\n",
       "      <td>8</td>\n",
       "      <td>6</td>\n",
       "      <td>6</td>\n",
       "      <td>1</td>\n",
       "      <td>1</td>\n",
       "      <td>6</td>\n",
       "      <td>1</td>\n",
       "      <td>1</td>\n",
       "      <td>1</td>\n",
       "      <td>1</td>\n",
       "      <td>1</td>\n",
       "      <td>6</td>\n",
       "      <td>5</td>\n",
       "      <td>4</td>\n",
       "      <td>0</td>\n",
       "      <td>1</td>\n",
       "      <td>0</td>\n",
       "      <td>0</td>\n",
       "      <td>6</td>\n",
       "      <td>6</td>\n",
       "      <td>4</td>\n",
       "    </tr>\n",
       "    <tr>\n",
       "      <td>9</td>\n",
       "      <td>6</td>\n",
       "      <td>6</td>\n",
       "      <td>1</td>\n",
       "      <td>1</td>\n",
       "      <td>6</td>\n",
       "      <td>1</td>\n",
       "      <td>1</td>\n",
       "      <td>1</td>\n",
       "      <td>1</td>\n",
       "      <td>1</td>\n",
       "      <td>6</td>\n",
       "      <td>5</td>\n",
       "      <td>4</td>\n",
       "      <td>0</td>\n",
       "      <td>1</td>\n",
       "      <td>0</td>\n",
       "      <td>0</td>\n",
       "      <td>6</td>\n",
       "      <td>6</td>\n",
       "      <td>4</td>\n",
       "    </tr>\n",
       "  </tbody>\n",
       "</table>\n",
       "</div>"
      ],
      "text/plain": [
       "   id  accession_number  artistRole  artistId  title  dateText  medium  \\\n",
       "0   4                 4           1         1      4         2       3   \n",
       "1   4                 4           1         1      4         2       3   \n",
       "2   4                 4           1         1      4         2       3   \n",
       "3   4                 4           1         1      4         2       3   \n",
       "4   6                 6           1         1      6         1       1   \n",
       "5   6                 6           1         1      6         1       1   \n",
       "6   6                 6           1         1      6         1       1   \n",
       "7   6                 6           1         1      6         1       1   \n",
       "8   6                 6           1         1      6         1       1   \n",
       "9   6                 6           1         1      6         1       1   \n",
       "\n",
       "   creditLine  year  acquisitionYear  dimensions  width  height  depth  units  \\\n",
       "0           1     1                1           4      4       4      0      1   \n",
       "1           1     1                1           4      4       4      0      1   \n",
       "2           1     1                1           4      4       4      0      1   \n",
       "3           1     1                1           4      4       4      0      1   \n",
       "4           1     1                1           6      5       4      0      1   \n",
       "5           1     1                1           6      5       4      0      1   \n",
       "6           1     1                1           6      5       4      0      1   \n",
       "7           1     1                1           6      5       4      0      1   \n",
       "8           1     1                1           6      5       4      0      1   \n",
       "9           1     1                1           6      5       4      0      1   \n",
       "\n",
       "   inscription  thumbnailCopyright  thumbnailUrl  url  standardised_height  \n",
       "0            0                   0             4    4                    4  \n",
       "1            0                   0             4    4                    4  \n",
       "2            0                   0             4    4                    4  \n",
       "3            0                   0             4    4                    4  \n",
       "4            0                   0             6    6                    4  \n",
       "5            0                   0             6    6                    4  \n",
       "6            0                   0             6    6                    4  \n",
       "7            0                   0             6    6                    4  \n",
       "8            0                   0             6    6                    4  \n",
       "9            0                   0             6    6                    4  "
      ]
     },
     "execution_count": 49,
     "metadata": {},
     "output_type": "execute_result"
    }
   ],
   "source": [
    "data.groupby('artist').transform('nunique')"
   ]
  },
  {
   "cell_type": "code",
   "execution_count": 50,
   "metadata": {},
   "outputs": [
    {
     "data": {
      "text/plain": [
       "<pandas.core.groupby.generic.SeriesGroupBy object at 0x000002072F250A88>"
      ]
     },
     "execution_count": 50,
     "metadata": {},
     "output_type": "execute_result"
    }
   ],
   "source": [
    "data.groupby('artist')['height']"
   ]
  },
  {
   "cell_type": "code",
   "execution_count": 51,
   "metadata": {},
   "outputs": [
    {
     "data": {
      "text/plain": [
       "0    373.25\n",
       "1    373.25\n",
       "2    373.25\n",
       "3    373.25\n",
       "4    337.00\n",
       "5    337.00\n",
       "6    337.00\n",
       "7    337.00\n",
       "8    337.00\n",
       "9    337.00\n",
       "Name: height, dtype: float64"
      ]
     },
     "execution_count": 51,
     "metadata": {},
     "output_type": "execute_result"
    }
   ],
   "source": [
    "data.groupby('artist')['height'].transform('mean')"
   ]
  },
  {
   "cell_type": "code",
   "execution_count": 52,
   "metadata": {},
   "outputs": [
    {
     "data": {
      "text/plain": [
       "0     Blake, Robert\n",
       "1     Blake, Robert\n",
       "2     Blake, Robert\n",
       "3     Blake, Robert\n",
       "4    Blake, William\n",
       "5    Blake, William\n",
       "6    Blake, William\n",
       "7    Blake, William\n",
       "8    Blake, William\n",
       "9    Blake, William\n",
       "Name: artist, dtype: object"
      ]
     },
     "execution_count": 52,
     "metadata": {},
     "output_type": "execute_result"
    }
   ],
   "source": [
    "data.artist"
   ]
  },
  {
   "cell_type": "markdown",
   "metadata": {},
   "source": [
    "The mean height of artwork by Robert Blake is 373.25mm, while for William Blake it is 337.00mm."
   ]
  },
  {
   "cell_type": "markdown",
   "metadata": {},
   "source": [
    "# Filtering data\n",
    "(working with fulldf here)"
   ]
  },
  {
   "cell_type": "code",
   "execution_count": 53,
   "metadata": {},
   "outputs": [
    {
     "data": {
      "text/html": [
       "<div>\n",
       "<style scoped>\n",
       "    .dataframe tbody tr th:only-of-type {\n",
       "        vertical-align: middle;\n",
       "    }\n",
       "\n",
       "    .dataframe tbody tr th {\n",
       "        vertical-align: top;\n",
       "    }\n",
       "\n",
       "    .dataframe thead th {\n",
       "        text-align: right;\n",
       "    }\n",
       "</style>\n",
       "<table border=\"1\" class=\"dataframe\">\n",
       "  <thead>\n",
       "    <tr style=\"text-align: right;\">\n",
       "      <th></th>\n",
       "      <th>id</th>\n",
       "      <th>artist</th>\n",
       "    </tr>\n",
       "  </thead>\n",
       "  <tbody>\n",
       "    <tr>\n",
       "      <td>0</td>\n",
       "      <td>1035</td>\n",
       "      <td>Blake, Robert</td>\n",
       "    </tr>\n",
       "    <tr>\n",
       "      <td>1</td>\n",
       "      <td>1036</td>\n",
       "      <td>Blake, Robert</td>\n",
       "    </tr>\n",
       "    <tr>\n",
       "      <td>2</td>\n",
       "      <td>1037</td>\n",
       "      <td>Blake, Robert</td>\n",
       "    </tr>\n",
       "    <tr>\n",
       "      <td>3</td>\n",
       "      <td>1038</td>\n",
       "      <td>Blake, Robert</td>\n",
       "    </tr>\n",
       "    <tr>\n",
       "      <td>4</td>\n",
       "      <td>1039</td>\n",
       "      <td>Blake, William</td>\n",
       "    </tr>\n",
       "    <tr>\n",
       "      <td>...</td>\n",
       "      <td>...</td>\n",
       "      <td>...</td>\n",
       "    </tr>\n",
       "    <tr>\n",
       "      <td>69196</td>\n",
       "      <td>122960</td>\n",
       "      <td>P-Orridge, Genesis</td>\n",
       "    </tr>\n",
       "    <tr>\n",
       "      <td>69197</td>\n",
       "      <td>122961</td>\n",
       "      <td>P-Orridge, Genesis</td>\n",
       "    </tr>\n",
       "    <tr>\n",
       "      <td>69198</td>\n",
       "      <td>121181</td>\n",
       "      <td>Hatoum, Mona</td>\n",
       "    </tr>\n",
       "    <tr>\n",
       "      <td>69199</td>\n",
       "      <td>112306</td>\n",
       "      <td>Creed, Martin</td>\n",
       "    </tr>\n",
       "    <tr>\n",
       "      <td>69200</td>\n",
       "      <td>127035</td>\n",
       "      <td>Brunias, Agostino</td>\n",
       "    </tr>\n",
       "  </tbody>\n",
       "</table>\n",
       "<p>69201 rows × 2 columns</p>\n",
       "</div>"
      ],
      "text/plain": [
       "           id              artist\n",
       "0        1035       Blake, Robert\n",
       "1        1036       Blake, Robert\n",
       "2        1037       Blake, Robert\n",
       "3        1038       Blake, Robert\n",
       "4        1039      Blake, William\n",
       "...       ...                 ...\n",
       "69196  122960  P-Orridge, Genesis\n",
       "69197  122961  P-Orridge, Genesis\n",
       "69198  121181        Hatoum, Mona\n",
       "69199  112306       Creed, Martin\n",
       "69200  127035   Brunias, Agostino\n",
       "\n",
       "[69201 rows x 2 columns]"
      ]
     },
     "execution_count": 53,
     "metadata": {},
     "output_type": "execute_result"
    }
   ],
   "source": [
    "fulldf.filter(items=['id','artist'])"
   ]
  },
  {
   "cell_type": "code",
   "execution_count": 54,
   "metadata": {},
   "outputs": [
    {
     "data": {
      "text/html": [
       "<div>\n",
       "<style scoped>\n",
       "    .dataframe tbody tr th:only-of-type {\n",
       "        vertical-align: middle;\n",
       "    }\n",
       "\n",
       "    .dataframe tbody tr th {\n",
       "        vertical-align: top;\n",
       "    }\n",
       "\n",
       "    .dataframe thead th {\n",
       "        text-align: right;\n",
       "    }\n",
       "</style>\n",
       "<table border=\"1\" class=\"dataframe\">\n",
       "  <thead>\n",
       "    <tr style=\"text-align: right;\">\n",
       "      <th></th>\n",
       "      <th>year</th>\n",
       "    </tr>\n",
       "  </thead>\n",
       "  <tbody>\n",
       "    <tr>\n",
       "      <td>0</td>\n",
       "      <td>NaN</td>\n",
       "    </tr>\n",
       "    <tr>\n",
       "      <td>1</td>\n",
       "      <td>NaN</td>\n",
       "    </tr>\n",
       "    <tr>\n",
       "      <td>2</td>\n",
       "      <td>1785</td>\n",
       "    </tr>\n",
       "    <tr>\n",
       "      <td>3</td>\n",
       "      <td>NaN</td>\n",
       "    </tr>\n",
       "    <tr>\n",
       "      <td>4</td>\n",
       "      <td>1826</td>\n",
       "    </tr>\n",
       "    <tr>\n",
       "      <td>...</td>\n",
       "      <td>...</td>\n",
       "    </tr>\n",
       "    <tr>\n",
       "      <td>69196</td>\n",
       "      <td>1975</td>\n",
       "    </tr>\n",
       "    <tr>\n",
       "      <td>69197</td>\n",
       "      <td>1976</td>\n",
       "    </tr>\n",
       "    <tr>\n",
       "      <td>69198</td>\n",
       "      <td>1996</td>\n",
       "    </tr>\n",
       "    <tr>\n",
       "      <td>69199</td>\n",
       "      <td>2000</td>\n",
       "    </tr>\n",
       "    <tr>\n",
       "      <td>69200</td>\n",
       "      <td>1764</td>\n",
       "    </tr>\n",
       "  </tbody>\n",
       "</table>\n",
       "<p>69201 rows × 1 columns</p>\n",
       "</div>"
      ],
      "text/plain": [
       "       year\n",
       "0       NaN\n",
       "1       NaN\n",
       "2      1785\n",
       "3       NaN\n",
       "4      1826\n",
       "...     ...\n",
       "69196  1975\n",
       "69197  1976\n",
       "69198  1996\n",
       "69199  2000\n",
       "69200  1764\n",
       "\n",
       "[69201 rows x 1 columns]"
      ]
     },
     "execution_count": 54,
     "metadata": {},
     "output_type": "execute_result"
    }
   ],
   "source": [
    "fulldf.filter(like='year')"
   ]
  },
  {
   "cell_type": "markdown",
   "metadata": {},
   "source": [
    "But in original dataset, there is also `acquisitionYear`. This wasn't returned bc `like` param is case sensitive."
   ]
  },
  {
   "cell_type": "code",
   "execution_count": 55,
   "metadata": {},
   "outputs": [
    {
     "data": {
      "text/html": [
       "<div>\n",
       "<style scoped>\n",
       "    .dataframe tbody tr th:only-of-type {\n",
       "        vertical-align: middle;\n",
       "    }\n",
       "\n",
       "    .dataframe tbody tr th {\n",
       "        vertical-align: top;\n",
       "    }\n",
       "\n",
       "    .dataframe thead th {\n",
       "        text-align: right;\n",
       "    }\n",
       "</style>\n",
       "<table border=\"1\" class=\"dataframe\">\n",
       "  <thead>\n",
       "    <tr style=\"text-align: right;\">\n",
       "      <th></th>\n",
       "      <th>year</th>\n",
       "      <th>acquisitionYear</th>\n",
       "    </tr>\n",
       "  </thead>\n",
       "  <tbody>\n",
       "    <tr>\n",
       "      <td>0</td>\n",
       "      <td>NaN</td>\n",
       "      <td>1922.0</td>\n",
       "    </tr>\n",
       "    <tr>\n",
       "      <td>1</td>\n",
       "      <td>NaN</td>\n",
       "      <td>1922.0</td>\n",
       "    </tr>\n",
       "    <tr>\n",
       "      <td>2</td>\n",
       "      <td>1785</td>\n",
       "      <td>1922.0</td>\n",
       "    </tr>\n",
       "    <tr>\n",
       "      <td>3</td>\n",
       "      <td>NaN</td>\n",
       "      <td>1922.0</td>\n",
       "    </tr>\n",
       "    <tr>\n",
       "      <td>4</td>\n",
       "      <td>1826</td>\n",
       "      <td>1919.0</td>\n",
       "    </tr>\n",
       "    <tr>\n",
       "      <td>...</td>\n",
       "      <td>...</td>\n",
       "      <td>...</td>\n",
       "    </tr>\n",
       "    <tr>\n",
       "      <td>69196</td>\n",
       "      <td>1975</td>\n",
       "      <td>2013.0</td>\n",
       "    </tr>\n",
       "    <tr>\n",
       "      <td>69197</td>\n",
       "      <td>1976</td>\n",
       "      <td>2013.0</td>\n",
       "    </tr>\n",
       "    <tr>\n",
       "      <td>69198</td>\n",
       "      <td>1996</td>\n",
       "      <td>2013.0</td>\n",
       "    </tr>\n",
       "    <tr>\n",
       "      <td>69199</td>\n",
       "      <td>2000</td>\n",
       "      <td>2013.0</td>\n",
       "    </tr>\n",
       "    <tr>\n",
       "      <td>69200</td>\n",
       "      <td>1764</td>\n",
       "      <td>2013.0</td>\n",
       "    </tr>\n",
       "  </tbody>\n",
       "</table>\n",
       "<p>69201 rows × 2 columns</p>\n",
       "</div>"
      ],
      "text/plain": [
       "       year  acquisitionYear\n",
       "0       NaN           1922.0\n",
       "1       NaN           1922.0\n",
       "2      1785           1922.0\n",
       "3       NaN           1922.0\n",
       "4      1826           1919.0\n",
       "...     ...              ...\n",
       "69196  1975           2013.0\n",
       "69197  1976           2013.0\n",
       "69198  1996           2013.0\n",
       "69199  2000           2013.0\n",
       "69200  1764           2013.0\n",
       "\n",
       "[69201 rows x 2 columns]"
      ]
     },
     "execution_count": 55,
     "metadata": {},
     "output_type": "execute_result"
    }
   ],
   "source": [
    "# to also return acquisitionYear, use regex\n",
    "fulldf.filter(regex='(?i)year')"
   ]
  },
  {
   "cell_type": "code",
   "execution_count": 57,
   "metadata": {},
   "outputs": [
    {
     "data": {
      "text/html": [
       "<div>\n",
       "<style scoped>\n",
       "    .dataframe tbody tr th:only-of-type {\n",
       "        vertical-align: middle;\n",
       "    }\n",
       "\n",
       "    .dataframe tbody tr th {\n",
       "        vertical-align: top;\n",
       "    }\n",
       "\n",
       "    .dataframe thead th {\n",
       "        text-align: right;\n",
       "    }\n",
       "</style>\n",
       "<table border=\"1\" class=\"dataframe\">\n",
       "  <thead>\n",
       "    <tr style=\"text-align: right;\">\n",
       "      <th></th>\n",
       "      <th>id</th>\n",
       "      <th>accession_number</th>\n",
       "      <th>artist</th>\n",
       "      <th>artistRole</th>\n",
       "      <th>artistId</th>\n",
       "      <th>title</th>\n",
       "      <th>dateText</th>\n",
       "      <th>medium</th>\n",
       "      <th>creditLine</th>\n",
       "      <th>year</th>\n",
       "      <th>acquisitionYear</th>\n",
       "      <th>dimensions</th>\n",
       "      <th>width</th>\n",
       "      <th>height</th>\n",
       "      <th>depth</th>\n",
       "      <th>units</th>\n",
       "      <th>inscription</th>\n",
       "      <th>thumbnailCopyright</th>\n",
       "      <th>thumbnailUrl</th>\n",
       "      <th>url</th>\n",
       "    </tr>\n",
       "  </thead>\n",
       "  <tbody>\n",
       "    <tr>\n",
       "      <td>1000</td>\n",
       "      <td>14704</td>\n",
       "      <td>A01004</td>\n",
       "      <td>Turner, Joseph Mallord William</td>\n",
       "      <td>artist</td>\n",
       "      <td>558</td>\n",
       "      <td>Hedging and Ditching</td>\n",
       "      <td>1812</td>\n",
       "      <td>Etching and engraving on paper</td>\n",
       "      <td>Presented by A. Acland Allen through the Art F...</td>\n",
       "      <td>1812</td>\n",
       "      <td>1925.0</td>\n",
       "      <td>image: 184 x 259 mm</td>\n",
       "      <td>184</td>\n",
       "      <td>259.0</td>\n",
       "      <td>NaN</td>\n",
       "      <td>mm</td>\n",
       "      <td>NaN</td>\n",
       "      <td>NaN</td>\n",
       "      <td>http://www.tate.org.uk/art/images/work/A/A01/A...</td>\n",
       "      <td>http://www.tate.org.uk/art/artworks/turner-hed...</td>\n",
       "    </tr>\n",
       "    <tr>\n",
       "      <td>1001</td>\n",
       "      <td>14705</td>\n",
       "      <td>A01005</td>\n",
       "      <td>Turner, Joseph Mallord William</td>\n",
       "      <td>artist</td>\n",
       "      <td>558</td>\n",
       "      <td>Hedging and Ditching, engraved by J.C. Easling</td>\n",
       "      <td>1812</td>\n",
       "      <td>Etching and mezzotint on paper</td>\n",
       "      <td>Presented by A. Acland Allen through the Art F...</td>\n",
       "      <td>1812</td>\n",
       "      <td>1925.0</td>\n",
       "      <td>image: 186 x 262 mm</td>\n",
       "      <td>186</td>\n",
       "      <td>262.0</td>\n",
       "      <td>NaN</td>\n",
       "      <td>mm</td>\n",
       "      <td>NaN</td>\n",
       "      <td>NaN</td>\n",
       "      <td>http://www.tate.org.uk/art/images/work/A/A01/A...</td>\n",
       "      <td>http://www.tate.org.uk/art/artworks/turner-hed...</td>\n",
       "    </tr>\n",
       "    <tr>\n",
       "      <td>1002</td>\n",
       "      <td>14706</td>\n",
       "      <td>A01006</td>\n",
       "      <td>Turner, Joseph Mallord William</td>\n",
       "      <td>artist</td>\n",
       "      <td>558</td>\n",
       "      <td>River Wye</td>\n",
       "      <td>1812</td>\n",
       "      <td>Print on paper</td>\n",
       "      <td>Presented by A. Acland Allen through the Art F...</td>\n",
       "      <td>1812</td>\n",
       "      <td>1925.0</td>\n",
       "      <td>image: 183 x 264 mm</td>\n",
       "      <td>183</td>\n",
       "      <td>264.0</td>\n",
       "      <td>NaN</td>\n",
       "      <td>mm</td>\n",
       "      <td>NaN</td>\n",
       "      <td>NaN</td>\n",
       "      <td>http://www.tate.org.uk/art/images/work/A/A01/A...</td>\n",
       "      <td>http://www.tate.org.uk/art/artworks/turner-riv...</td>\n",
       "    </tr>\n",
       "    <tr>\n",
       "      <td>1003</td>\n",
       "      <td>14707</td>\n",
       "      <td>A01007</td>\n",
       "      <td>Turner, Joseph Mallord William</td>\n",
       "      <td>artist</td>\n",
       "      <td>558</td>\n",
       "      <td>River Wye, engraved by W. Annis</td>\n",
       "      <td>1812</td>\n",
       "      <td>Etching and mezzotint on paper</td>\n",
       "      <td>Presented by A. Acland Allen through the Art F...</td>\n",
       "      <td>1812</td>\n",
       "      <td>1925.0</td>\n",
       "      <td>image: 184 x 265 mm</td>\n",
       "      <td>184</td>\n",
       "      <td>265.0</td>\n",
       "      <td>NaN</td>\n",
       "      <td>mm</td>\n",
       "      <td>NaN</td>\n",
       "      <td>NaN</td>\n",
       "      <td>http://www.tate.org.uk/art/images/work/A/A01/A...</td>\n",
       "      <td>http://www.tate.org.uk/art/artworks/turner-riv...</td>\n",
       "    </tr>\n",
       "    <tr>\n",
       "      <td>1004</td>\n",
       "      <td>14708</td>\n",
       "      <td>A01008</td>\n",
       "      <td>Turner, Joseph Mallord William</td>\n",
       "      <td>artist</td>\n",
       "      <td>558</td>\n",
       "      <td>Chain of Alps from Grenoble to Chamberi</td>\n",
       "      <td>1812</td>\n",
       "      <td>Etching and engraving on paper</td>\n",
       "      <td>Presented by A. Acland Allen through the Art F...</td>\n",
       "      <td>1812</td>\n",
       "      <td>1925.0</td>\n",
       "      <td>image: 178 x 259 mm</td>\n",
       "      <td>178</td>\n",
       "      <td>259.0</td>\n",
       "      <td>NaN</td>\n",
       "      <td>mm</td>\n",
       "      <td>NaN</td>\n",
       "      <td>NaN</td>\n",
       "      <td>http://www.tate.org.uk/art/images/work/A/A01/A...</td>\n",
       "      <td>http://www.tate.org.uk/art/artworks/turner-cha...</td>\n",
       "    </tr>\n",
       "    <tr>\n",
       "      <td>1005</td>\n",
       "      <td>14709</td>\n",
       "      <td>A01009</td>\n",
       "      <td>Turner, Joseph Mallord William</td>\n",
       "      <td>artist</td>\n",
       "      <td>558</td>\n",
       "      <td>Chain of Alps from Grenoble to Chamberi, engra...</td>\n",
       "      <td>1812</td>\n",
       "      <td>Etching and mezzotint on paper</td>\n",
       "      <td>Presented by A. Acland Allen through the Art F...</td>\n",
       "      <td>1812</td>\n",
       "      <td>1925.0</td>\n",
       "      <td>image: 178 x 261 mm</td>\n",
       "      <td>178</td>\n",
       "      <td>261.0</td>\n",
       "      <td>NaN</td>\n",
       "      <td>mm</td>\n",
       "      <td>NaN</td>\n",
       "      <td>NaN</td>\n",
       "      <td>http://www.tate.org.uk/art/images/work/A/A01/A...</td>\n",
       "      <td>http://www.tate.org.uk/art/artworks/turner-cha...</td>\n",
       "    </tr>\n",
       "    <tr>\n",
       "      <td>1006</td>\n",
       "      <td>14710</td>\n",
       "      <td>A01010</td>\n",
       "      <td>Turner, Joseph Mallord William</td>\n",
       "      <td>artist</td>\n",
       "      <td>558</td>\n",
       "      <td>Mer de Glace</td>\n",
       "      <td>1812</td>\n",
       "      <td>Etching and engraving on paper</td>\n",
       "      <td>Presented by A. Acland Allen through the Art F...</td>\n",
       "      <td>1812</td>\n",
       "      <td>1925.0</td>\n",
       "      <td>image: 178 x 253 mm</td>\n",
       "      <td>178</td>\n",
       "      <td>253.0</td>\n",
       "      <td>NaN</td>\n",
       "      <td>mm</td>\n",
       "      <td>NaN</td>\n",
       "      <td>NaN</td>\n",
       "      <td>http://www.tate.org.uk/art/images/work/A/A01/A...</td>\n",
       "      <td>http://www.tate.org.uk/art/artworks/turner-mer...</td>\n",
       "    </tr>\n",
       "    <tr>\n",
       "      <td>1007</td>\n",
       "      <td>14711</td>\n",
       "      <td>A01011</td>\n",
       "      <td>Turner, Joseph Mallord William</td>\n",
       "      <td>artist</td>\n",
       "      <td>558</td>\n",
       "      <td>Mer de Glace</td>\n",
       "      <td>1812</td>\n",
       "      <td>Etching and mezzotint on paper</td>\n",
       "      <td>Presented by A. Acland Allen through the Art F...</td>\n",
       "      <td>1812</td>\n",
       "      <td>1925.0</td>\n",
       "      <td>image: 179 x 257 mm</td>\n",
       "      <td>179</td>\n",
       "      <td>257.0</td>\n",
       "      <td>NaN</td>\n",
       "      <td>mm</td>\n",
       "      <td>NaN</td>\n",
       "      <td>NaN</td>\n",
       "      <td>http://www.tate.org.uk/art/images/work/A/A01/A...</td>\n",
       "      <td>http://www.tate.org.uk/art/artworks/turner-mer...</td>\n",
       "    </tr>\n",
       "    <tr>\n",
       "      <td>1008</td>\n",
       "      <td>14712</td>\n",
       "      <td>A01012</td>\n",
       "      <td>Turner, Joseph Mallord William</td>\n",
       "      <td>artist</td>\n",
       "      <td>558</td>\n",
       "      <td>Rivaux Abbey, Yorkshire</td>\n",
       "      <td>1812</td>\n",
       "      <td>Etching and engraving on paper</td>\n",
       "      <td>Presented by A. Acland Allen through the Art F...</td>\n",
       "      <td>1812</td>\n",
       "      <td>1925.0</td>\n",
       "      <td>image: 182 x 265 mm</td>\n",
       "      <td>182</td>\n",
       "      <td>265.0</td>\n",
       "      <td>NaN</td>\n",
       "      <td>mm</td>\n",
       "      <td>NaN</td>\n",
       "      <td>NaN</td>\n",
       "      <td>http://www.tate.org.uk/art/images/work/A/A01/A...</td>\n",
       "      <td>http://www.tate.org.uk/art/artworks/turner-riv...</td>\n",
       "    </tr>\n",
       "    <tr>\n",
       "      <td>1009</td>\n",
       "      <td>14713</td>\n",
       "      <td>A01013</td>\n",
       "      <td>Turner, Joseph Mallord William</td>\n",
       "      <td>artist</td>\n",
       "      <td>558</td>\n",
       "      <td>Rivaux Abbey, engraved by Henry Dawe</td>\n",
       "      <td>1812</td>\n",
       "      <td>Etching and mezzotint on paper</td>\n",
       "      <td>Presented by A. Acland Allen through the Art F...</td>\n",
       "      <td>1812</td>\n",
       "      <td>1925.0</td>\n",
       "      <td>image: 183 x 266 mm</td>\n",
       "      <td>183</td>\n",
       "      <td>266.0</td>\n",
       "      <td>NaN</td>\n",
       "      <td>mm</td>\n",
       "      <td>NaN</td>\n",
       "      <td>NaN</td>\n",
       "      <td>http://www.tate.org.uk/art/images/work/A/A01/A...</td>\n",
       "      <td>http://www.tate.org.uk/art/artworks/turner-riv...</td>\n",
       "    </tr>\n",
       "  </tbody>\n",
       "</table>\n",
       "</div>"
      ],
      "text/plain": [
       "         id accession_number                          artist artistRole  \\\n",
       "1000  14704           A01004  Turner, Joseph Mallord William     artist   \n",
       "1001  14705           A01005  Turner, Joseph Mallord William     artist   \n",
       "1002  14706           A01006  Turner, Joseph Mallord William     artist   \n",
       "1003  14707           A01007  Turner, Joseph Mallord William     artist   \n",
       "1004  14708           A01008  Turner, Joseph Mallord William     artist   \n",
       "1005  14709           A01009  Turner, Joseph Mallord William     artist   \n",
       "1006  14710           A01010  Turner, Joseph Mallord William     artist   \n",
       "1007  14711           A01011  Turner, Joseph Mallord William     artist   \n",
       "1008  14712           A01012  Turner, Joseph Mallord William     artist   \n",
       "1009  14713           A01013  Turner, Joseph Mallord William     artist   \n",
       "\n",
       "      artistId                                              title dateText  \\\n",
       "1000       558                               Hedging and Ditching     1812   \n",
       "1001       558     Hedging and Ditching, engraved by J.C. Easling     1812   \n",
       "1002       558                                          River Wye     1812   \n",
       "1003       558                    River Wye, engraved by W. Annis     1812   \n",
       "1004       558            Chain of Alps from Grenoble to Chamberi     1812   \n",
       "1005       558  Chain of Alps from Grenoble to Chamberi, engra...     1812   \n",
       "1006       558                                       Mer de Glace     1812   \n",
       "1007       558                                       Mer de Glace     1812   \n",
       "1008       558                            Rivaux Abbey, Yorkshire     1812   \n",
       "1009       558               Rivaux Abbey, engraved by Henry Dawe     1812   \n",
       "\n",
       "                              medium  \\\n",
       "1000  Etching and engraving on paper   \n",
       "1001  Etching and mezzotint on paper   \n",
       "1002                  Print on paper   \n",
       "1003  Etching and mezzotint on paper   \n",
       "1004  Etching and engraving on paper   \n",
       "1005  Etching and mezzotint on paper   \n",
       "1006  Etching and engraving on paper   \n",
       "1007  Etching and mezzotint on paper   \n",
       "1008  Etching and engraving on paper   \n",
       "1009  Etching and mezzotint on paper   \n",
       "\n",
       "                                             creditLine  year  \\\n",
       "1000  Presented by A. Acland Allen through the Art F...  1812   \n",
       "1001  Presented by A. Acland Allen through the Art F...  1812   \n",
       "1002  Presented by A. Acland Allen through the Art F...  1812   \n",
       "1003  Presented by A. Acland Allen through the Art F...  1812   \n",
       "1004  Presented by A. Acland Allen through the Art F...  1812   \n",
       "1005  Presented by A. Acland Allen through the Art F...  1812   \n",
       "1006  Presented by A. Acland Allen through the Art F...  1812   \n",
       "1007  Presented by A. Acland Allen through the Art F...  1812   \n",
       "1008  Presented by A. Acland Allen through the Art F...  1812   \n",
       "1009  Presented by A. Acland Allen through the Art F...  1812   \n",
       "\n",
       "      acquisitionYear           dimensions width  height  depth units  \\\n",
       "1000           1925.0  image: 184 x 259 mm   184   259.0    NaN    mm   \n",
       "1001           1925.0  image: 186 x 262 mm   186   262.0    NaN    mm   \n",
       "1002           1925.0  image: 183 x 264 mm   183   264.0    NaN    mm   \n",
       "1003           1925.0  image: 184 x 265 mm   184   265.0    NaN    mm   \n",
       "1004           1925.0  image: 178 x 259 mm   178   259.0    NaN    mm   \n",
       "1005           1925.0  image: 178 x 261 mm   178   261.0    NaN    mm   \n",
       "1006           1925.0  image: 178 x 253 mm   178   253.0    NaN    mm   \n",
       "1007           1925.0  image: 179 x 257 mm   179   257.0    NaN    mm   \n",
       "1008           1925.0  image: 182 x 265 mm   182   265.0    NaN    mm   \n",
       "1009           1925.0  image: 183 x 266 mm   183   266.0    NaN    mm   \n",
       "\n",
       "     inscription thumbnailCopyright  \\\n",
       "1000         NaN                NaN   \n",
       "1001         NaN                NaN   \n",
       "1002         NaN                NaN   \n",
       "1003         NaN                NaN   \n",
       "1004         NaN                NaN   \n",
       "1005         NaN                NaN   \n",
       "1006         NaN                NaN   \n",
       "1007         NaN                NaN   \n",
       "1008         NaN                NaN   \n",
       "1009         NaN                NaN   \n",
       "\n",
       "                                           thumbnailUrl  \\\n",
       "1000  http://www.tate.org.uk/art/images/work/A/A01/A...   \n",
       "1001  http://www.tate.org.uk/art/images/work/A/A01/A...   \n",
       "1002  http://www.tate.org.uk/art/images/work/A/A01/A...   \n",
       "1003  http://www.tate.org.uk/art/images/work/A/A01/A...   \n",
       "1004  http://www.tate.org.uk/art/images/work/A/A01/A...   \n",
       "1005  http://www.tate.org.uk/art/images/work/A/A01/A...   \n",
       "1006  http://www.tate.org.uk/art/images/work/A/A01/A...   \n",
       "1007  http://www.tate.org.uk/art/images/work/A/A01/A...   \n",
       "1008  http://www.tate.org.uk/art/images/work/A/A01/A...   \n",
       "1009  http://www.tate.org.uk/art/images/work/A/A01/A...   \n",
       "\n",
       "                                                    url  \n",
       "1000  http://www.tate.org.uk/art/artworks/turner-hed...  \n",
       "1001  http://www.tate.org.uk/art/artworks/turner-hed...  \n",
       "1002  http://www.tate.org.uk/art/artworks/turner-riv...  \n",
       "1003  http://www.tate.org.uk/art/artworks/turner-riv...  \n",
       "1004  http://www.tate.org.uk/art/artworks/turner-cha...  \n",
       "1005  http://www.tate.org.uk/art/artworks/turner-cha...  \n",
       "1006  http://www.tate.org.uk/art/artworks/turner-mer...  \n",
       "1007  http://www.tate.org.uk/art/artworks/turner-mer...  \n",
       "1008  http://www.tate.org.uk/art/artworks/turner-riv...  \n",
       "1009  http://www.tate.org.uk/art/artworks/turner-riv...  "
      ]
     },
     "execution_count": 57,
     "metadata": {},
     "output_type": "execute_result"
    }
   ],
   "source": [
    "# .filter also works on rows (axis=0)\n",
    "fulldf.filter(axis=0, regex='^100.$') # return rows 1000-1009"
   ]
  },
  {
   "cell_type": "markdown",
   "metadata": {},
   "source": [
    "# Review\n",
    "Useful methods covered"
   ]
  },
  {
   "cell_type": "markdown",
   "metadata": {},
   "source": [
    "#### Investigating\n",
    "* df.dtypes\n",
    "* df.year = df.year.astype(float)\n",
    "* pd.to_numeric(df.height,errors='coerce')\n",
    "#### Aggregating\n",
    "* df.year.min()\n",
    "* df.agg(['min', 'max'])\n",
    "* df.describe()\n",
    "#### Normalising\n",
    "* (col - col.mean())/col.std()\n",
    "* (col - col.min())/(col.max()-col.min())\n",
    "#### Transforming\n",
    "* df.height.transform(lambda x:~)\n",
    "* df.groupby('artist').transform()\n",
    "#### Filtering\n",
    "* df.filter(items=['id', 'artist'])\n",
    "* df.filter(regex='(?i)year')\n",
    "* df.filter(axis=0, like='100', case=False)\n",
    "\n",
    "#### Don't forget to assign values back to dataframe as a new column!"
   ]
  }
 ],
 "metadata": {
  "kernelspec": {
   "display_name": "Python 3",
   "language": "python",
   "name": "python3"
  },
  "language_info": {
   "codemirror_mode": {
    "name": "ipython",
    "version": 3
   },
   "file_extension": ".py",
   "mimetype": "text/x-python",
   "name": "python",
   "nbconvert_exporter": "python",
   "pygments_lexer": "ipython3",
   "version": "3.7.4"
  }
 },
 "nbformat": 4,
 "nbformat_minor": 2
}
