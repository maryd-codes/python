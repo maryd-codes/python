{
 "cells": [
  {
   "cell_type": "markdown",
   "metadata": {},
   "source": [
    "# Exploring Altair"
   ]
  },
  {
   "cell_type": "markdown",
   "metadata": {},
   "source": [
    "Following along with https://towardsdatascience.com/how-to-create-interactive-and-elegant-plot-with-altair-8dd87a890f2a. I've had this tutorial by Khuyen Tran on Medium bookmarked as \"to try\" for a long time and today, I just decided to try it."
   ]
  },
  {
   "cell_type": "markdown",
   "metadata": {},
   "source": [
    "### Thoughts on Altair\n",
    "It's clearly a very pretty data viz library. I really struggled to load the charts in Jupyter Notebook. I did follow the advice in the error message so helpfully provided by the creaters of Altair, but without any luck. I made sure I had altair and vega installed and was on at least version 6 of notebook, also kept calling and uncalling the enabler (which I was convinced I didn't need being on a newer version), but still kept getting the same error message. A lot of the solutions I kept finding only mentioned Jupyter*Lab*; I wasn't really aware there was a difference but I decided to switch to it just in case and what do you know it suddenly works  (without the enabler code).\n",
    "\n",
    "I still don't really know the difference other than the interface in JupyterLab seems cleaner and more compact.\n",
    "\n",
    "\n",
    "### Thoughts on the tutorial\n",
    "It was very much an intro to what Altair can do; I suppose I was hoping it was also an introduction to its syntax. For example, in the cells below you'll see I tried chart1 in two ways: the way the tutorial defined the x and y axes with alt.X() and alt.Y() as the .encode() parameters and the way the documentation defines its initial chart with simply x=\"\" and y=\"\" as the .encode() parameters. I would hope the difference would be covered in materials going more in depth on the syntax.\n",
    "\n",
    "My next step will be to find something that helps me get to grips with understanding the syntax and \"order of operations\". I've been using the Pluralsight platform for about a month now and I do like it despite it being video-based learning (I've found I do much better with text-based). However, they do not have any videos on Altair.\n",
    "\n",
    "Note: I decided to dive into this tutorial as a distraction from learning JavaScript, which so far I've found to be not as intuitive and more fiddly than Python. I've decided to keep going back to JS though because it seems most advanced plotting libraries in Python are built with it. Theoretically then, the more I know about JS, perhaps the more I know how the library works/will react."
   ]
  },
  {
   "cell_type": "markdown",
   "metadata": {},
   "source": [
    "-------------------------------------"
   ]
  },
  {
   "cell_type": "code",
   "execution_count": 1,
   "metadata": {},
   "outputs": [],
   "source": [
    "import altair as alt\n",
    "import pandas as pd\n",
    "\n",
    "from vega_datasets import data as vega_data"
   ]
  },
  {
   "cell_type": "code",
   "execution_count": 2,
   "metadata": {},
   "outputs": [
    {
     "data": {
      "text/html": [
       "<div>\n",
       "<style scoped>\n",
       "    .dataframe tbody tr th:only-of-type {\n",
       "        vertical-align: middle;\n",
       "    }\n",
       "\n",
       "    .dataframe tbody tr th {\n",
       "        vertical-align: top;\n",
       "    }\n",
       "\n",
       "    .dataframe thead th {\n",
       "        text-align: right;\n",
       "    }\n",
       "</style>\n",
       "<table border=\"1\" class=\"dataframe\">\n",
       "  <thead>\n",
       "    <tr style=\"text-align: right;\">\n",
       "      <th></th>\n",
       "      <th>year</th>\n",
       "      <th>country</th>\n",
       "      <th>cluster</th>\n",
       "      <th>pop</th>\n",
       "      <th>life_expect</th>\n",
       "      <th>fertility</th>\n",
       "    </tr>\n",
       "  </thead>\n",
       "  <tbody>\n",
       "    <tr>\n",
       "      <th>0</th>\n",
       "      <td>1955</td>\n",
       "      <td>Afghanistan</td>\n",
       "      <td>0</td>\n",
       "      <td>8891209</td>\n",
       "      <td>30.332</td>\n",
       "      <td>7.7000</td>\n",
       "    </tr>\n",
       "    <tr>\n",
       "      <th>1</th>\n",
       "      <td>1960</td>\n",
       "      <td>Afghanistan</td>\n",
       "      <td>0</td>\n",
       "      <td>9829450</td>\n",
       "      <td>31.997</td>\n",
       "      <td>7.7000</td>\n",
       "    </tr>\n",
       "    <tr>\n",
       "      <th>2</th>\n",
       "      <td>1965</td>\n",
       "      <td>Afghanistan</td>\n",
       "      <td>0</td>\n",
       "      <td>10997885</td>\n",
       "      <td>34.020</td>\n",
       "      <td>7.7000</td>\n",
       "    </tr>\n",
       "    <tr>\n",
       "      <th>3</th>\n",
       "      <td>1970</td>\n",
       "      <td>Afghanistan</td>\n",
       "      <td>0</td>\n",
       "      <td>12430623</td>\n",
       "      <td>36.088</td>\n",
       "      <td>7.7000</td>\n",
       "    </tr>\n",
       "    <tr>\n",
       "      <th>4</th>\n",
       "      <td>1975</td>\n",
       "      <td>Afghanistan</td>\n",
       "      <td>0</td>\n",
       "      <td>14132019</td>\n",
       "      <td>38.438</td>\n",
       "      <td>7.7000</td>\n",
       "    </tr>\n",
       "    <tr>\n",
       "      <th>5</th>\n",
       "      <td>1980</td>\n",
       "      <td>Afghanistan</td>\n",
       "      <td>0</td>\n",
       "      <td>15112149</td>\n",
       "      <td>39.854</td>\n",
       "      <td>7.8000</td>\n",
       "    </tr>\n",
       "    <tr>\n",
       "      <th>6</th>\n",
       "      <td>1985</td>\n",
       "      <td>Afghanistan</td>\n",
       "      <td>0</td>\n",
       "      <td>13796928</td>\n",
       "      <td>40.822</td>\n",
       "      <td>7.9000</td>\n",
       "    </tr>\n",
       "    <tr>\n",
       "      <th>7</th>\n",
       "      <td>1990</td>\n",
       "      <td>Afghanistan</td>\n",
       "      <td>0</td>\n",
       "      <td>14669339</td>\n",
       "      <td>41.674</td>\n",
       "      <td>8.0000</td>\n",
       "    </tr>\n",
       "    <tr>\n",
       "      <th>8</th>\n",
       "      <td>1995</td>\n",
       "      <td>Afghanistan</td>\n",
       "      <td>0</td>\n",
       "      <td>20881480</td>\n",
       "      <td>41.763</td>\n",
       "      <td>8.0000</td>\n",
       "    </tr>\n",
       "    <tr>\n",
       "      <th>9</th>\n",
       "      <td>2000</td>\n",
       "      <td>Afghanistan</td>\n",
       "      <td>0</td>\n",
       "      <td>23898198</td>\n",
       "      <td>42.129</td>\n",
       "      <td>7.4792</td>\n",
       "    </tr>\n",
       "  </tbody>\n",
       "</table>\n",
       "</div>"
      ],
      "text/plain": [
       "   year      country  cluster       pop  life_expect  fertility\n",
       "0  1955  Afghanistan        0   8891209       30.332     7.7000\n",
       "1  1960  Afghanistan        0   9829450       31.997     7.7000\n",
       "2  1965  Afghanistan        0  10997885       34.020     7.7000\n",
       "3  1970  Afghanistan        0  12430623       36.088     7.7000\n",
       "4  1975  Afghanistan        0  14132019       38.438     7.7000\n",
       "5  1980  Afghanistan        0  15112149       39.854     7.8000\n",
       "6  1985  Afghanistan        0  13796928       40.822     7.9000\n",
       "7  1990  Afghanistan        0  14669339       41.674     8.0000\n",
       "8  1995  Afghanistan        0  20881480       41.763     8.0000\n",
       "9  2000  Afghanistan        0  23898198       42.129     7.4792"
      ]
     },
     "execution_count": 2,
     "metadata": {},
     "output_type": "execute_result"
    }
   ],
   "source": [
    "gap = pd.read_json(vega_data.gapminder.url)\n",
    "gap.head(10)"
   ]
  },
  {
   "cell_type": "code",
   "execution_count": 3,
   "metadata": {},
   "outputs": [
    {
     "data": {
      "text/plain": [
       "array([1955, 1960, 1965, 1970, 1975, 1980, 1985, 1990, 1995, 2000, 2005],\n",
       "      dtype=int64)"
      ]
     },
     "execution_count": 3,
     "metadata": {},
     "output_type": "execute_result"
    }
   ],
   "source": [
    "gap.year.unique()"
   ]
  },
  {
   "cell_type": "code",
   "execution_count": 4,
   "metadata": {},
   "outputs": [
    {
     "data": {
      "text/html": [
       "<div>\n",
       "<style scoped>\n",
       "    .dataframe tbody tr th:only-of-type {\n",
       "        vertical-align: middle;\n",
       "    }\n",
       "\n",
       "    .dataframe tbody tr th {\n",
       "        vertical-align: top;\n",
       "    }\n",
       "\n",
       "    .dataframe thead th {\n",
       "        text-align: right;\n",
       "    }\n",
       "</style>\n",
       "<table border=\"1\" class=\"dataframe\">\n",
       "  <thead>\n",
       "    <tr style=\"text-align: right;\">\n",
       "      <th></th>\n",
       "      <th>year</th>\n",
       "      <th>country</th>\n",
       "      <th>cluster</th>\n",
       "      <th>pop</th>\n",
       "      <th>life_expect</th>\n",
       "      <th>fertility</th>\n",
       "    </tr>\n",
       "  </thead>\n",
       "  <tbody>\n",
       "    <tr>\n",
       "      <th>10</th>\n",
       "      <td>2005</td>\n",
       "      <td>Afghanistan</td>\n",
       "      <td>0</td>\n",
       "      <td>29928987</td>\n",
       "      <td>43.828</td>\n",
       "      <td>7.0685</td>\n",
       "    </tr>\n",
       "    <tr>\n",
       "      <th>21</th>\n",
       "      <td>2005</td>\n",
       "      <td>Argentina</td>\n",
       "      <td>3</td>\n",
       "      <td>39537943</td>\n",
       "      <td>75.320</td>\n",
       "      <td>2.2540</td>\n",
       "    </tr>\n",
       "    <tr>\n",
       "      <th>32</th>\n",
       "      <td>2005</td>\n",
       "      <td>Aruba</td>\n",
       "      <td>3</td>\n",
       "      <td>71566</td>\n",
       "      <td>74.239</td>\n",
       "      <td>2.0400</td>\n",
       "    </tr>\n",
       "    <tr>\n",
       "      <th>43</th>\n",
       "      <td>2005</td>\n",
       "      <td>Australia</td>\n",
       "      <td>4</td>\n",
       "      <td>20090437</td>\n",
       "      <td>81.235</td>\n",
       "      <td>1.7880</td>\n",
       "    </tr>\n",
       "    <tr>\n",
       "      <th>54</th>\n",
       "      <td>2005</td>\n",
       "      <td>Austria</td>\n",
       "      <td>1</td>\n",
       "      <td>8184691</td>\n",
       "      <td>79.829</td>\n",
       "      <td>1.4200</td>\n",
       "    </tr>\n",
       "    <tr>\n",
       "      <th>...</th>\n",
       "      <td>...</td>\n",
       "      <td>...</td>\n",
       "      <td>...</td>\n",
       "      <td>...</td>\n",
       "      <td>...</td>\n",
       "      <td>...</td>\n",
       "    </tr>\n",
       "    <tr>\n",
       "      <th>648</th>\n",
       "      <td>2005</td>\n",
       "      <td>Switzerland</td>\n",
       "      <td>1</td>\n",
       "      <td>7489370</td>\n",
       "      <td>81.701</td>\n",
       "      <td>1.4200</td>\n",
       "    </tr>\n",
       "    <tr>\n",
       "      <th>659</th>\n",
       "      <td>2005</td>\n",
       "      <td>Turkey</td>\n",
       "      <td>1</td>\n",
       "      <td>69660559</td>\n",
       "      <td>71.777</td>\n",
       "      <td>2.1430</td>\n",
       "    </tr>\n",
       "    <tr>\n",
       "      <th>670</th>\n",
       "      <td>2005</td>\n",
       "      <td>United Kingdom</td>\n",
       "      <td>1</td>\n",
       "      <td>60441457</td>\n",
       "      <td>79.425</td>\n",
       "      <td>1.8150</td>\n",
       "    </tr>\n",
       "    <tr>\n",
       "      <th>681</th>\n",
       "      <td>2005</td>\n",
       "      <td>United States</td>\n",
       "      <td>3</td>\n",
       "      <td>295734134</td>\n",
       "      <td>78.242</td>\n",
       "      <td>2.0540</td>\n",
       "    </tr>\n",
       "    <tr>\n",
       "      <th>692</th>\n",
       "      <td>2005</td>\n",
       "      <td>Venezuela</td>\n",
       "      <td>3</td>\n",
       "      <td>25375281</td>\n",
       "      <td>73.747</td>\n",
       "      <td>2.5470</td>\n",
       "    </tr>\n",
       "  </tbody>\n",
       "</table>\n",
       "<p>63 rows × 6 columns</p>\n",
       "</div>"
      ],
      "text/plain": [
       "     year         country  cluster        pop  life_expect  fertility\n",
       "10   2005     Afghanistan        0   29928987       43.828     7.0685\n",
       "21   2005       Argentina        3   39537943       75.320     2.2540\n",
       "32   2005           Aruba        3      71566       74.239     2.0400\n",
       "43   2005       Australia        4   20090437       81.235     1.7880\n",
       "54   2005         Austria        1    8184691       79.829     1.4200\n",
       "..    ...             ...      ...        ...          ...        ...\n",
       "648  2005     Switzerland        1    7489370       81.701     1.4200\n",
       "659  2005          Turkey        1   69660559       71.777     2.1430\n",
       "670  2005  United Kingdom        1   60441457       79.425     1.8150\n",
       "681  2005   United States        3  295734134       78.242     2.0540\n",
       "692  2005       Venezuela        3   25375281       73.747     2.5470\n",
       "\n",
       "[63 rows x 6 columns]"
      ]
     },
     "execution_count": 4,
     "metadata": {},
     "output_type": "execute_result"
    }
   ],
   "source": [
    "gap2005 = gap.loc[gap.year==2005]\n",
    "gap2005"
   ]
  },
  {
   "cell_type": "code",
   "execution_count": 22,
   "metadata": {},
   "outputs": [
    {
     "data": {
      "application/vnd.vegalite.v3+json": {
       "$schema": "https://vega.github.io/schema/vega-lite/v3.4.0.json",
       "config": {
        "mark": {
         "tooltip": null
        },
        "view": {
         "height": 300,
         "width": 400
        }
       },
       "data": {
        "name": "data-ba34af65c64e2b3a5a008687b8c69f55"
       },
       "datasets": {
        "data-ba34af65c64e2b3a5a008687b8c69f55": [
         {
          "cluster": 0,
          "country": "Afghanistan",
          "fertility": 7.0685,
          "life_expect": 43.828,
          "pop": 29928987,
          "year": 2005
         },
         {
          "cluster": 3,
          "country": "Argentina",
          "fertility": 2.254,
          "life_expect": 75.32,
          "pop": 39537943,
          "year": 2005
         },
         {
          "cluster": 3,
          "country": "Aruba",
          "fertility": 2.04,
          "life_expect": 74.239,
          "pop": 71566,
          "year": 2005
         },
         {
          "cluster": 4,
          "country": "Australia",
          "fertility": 1.788,
          "life_expect": 81.235,
          "pop": 20090437,
          "year": 2005
         },
         {
          "cluster": 1,
          "country": "Austria",
          "fertility": 1.42,
          "life_expect": 79.829,
          "pop": 8184691,
          "year": 2005
         },
         {
          "cluster": 3,
          "country": "Bahamas",
          "fertility": 2.0221,
          "life_expect": 73.495,
          "pop": 301790,
          "year": 2005
         },
         {
          "cluster": 0,
          "country": "Bangladesh",
          "fertility": 2.826,
          "life_expect": 64.062,
          "pop": 144319628,
          "year": 2005
         },
         {
          "cluster": 3,
          "country": "Barbados",
          "fertility": 1.5,
          "life_expect": 77.296,
          "pop": 278870,
          "year": 2005
         },
         {
          "cluster": 1,
          "country": "Belgium",
          "fertility": 1.646,
          "life_expect": 79.441,
          "pop": 10364388,
          "year": 2005
         },
         {
          "cluster": 3,
          "country": "Bolivia",
          "fertility": 3.5,
          "life_expect": 65.554,
          "pop": 8857870,
          "year": 2005
         },
         {
          "cluster": 3,
          "country": "Brazil",
          "fertility": 2.245,
          "life_expect": 72.39,
          "pop": 186112794,
          "year": 2005
         },
         {
          "cluster": 3,
          "country": "Canada",
          "fertility": 1.5270000000000001,
          "life_expect": 80.653,
          "pop": 32805041,
          "year": 2005
         },
         {
          "cluster": 3,
          "country": "Chile",
          "fertility": 1.944,
          "life_expect": 78.553,
          "pop": 15980912,
          "year": 2005
         },
         {
          "cluster": 4,
          "country": "China",
          "fertility": 1.725,
          "life_expect": 72.961,
          "pop": 1303182268,
          "year": 2005
         },
         {
          "cluster": 3,
          "country": "Colombia",
          "fertility": 2.2205,
          "life_expect": 72.889,
          "pop": 42954279,
          "year": 2005
         },
         {
          "cluster": 3,
          "country": "Costa Rica",
          "fertility": 2.0985,
          "life_expect": 78.782,
          "pop": 4016173,
          "year": 2005
         },
         {
          "cluster": 1,
          "country": "Croatia",
          "fertility": 1.346,
          "life_expect": 75.748,
          "pop": 4495904,
          "year": 2005
         },
         {
          "cluster": 3,
          "country": "Cuba",
          "fertility": 1.49,
          "life_expect": 78.273,
          "pop": 11346670,
          "year": 2005
         },
         {
          "cluster": 3,
          "country": "Dominican Republic",
          "fertility": 2.81,
          "life_expect": 72.235,
          "pop": 9049595,
          "year": 2005
         },
         {
          "cluster": 3,
          "country": "Ecuador",
          "fertility": 2.578,
          "life_expect": 74.994,
          "pop": 13363593,
          "year": 2005
         },
         {
          "cluster": 5,
          "country": "Egypt",
          "fertility": 2.891,
          "life_expect": 71.338,
          "pop": 77505756,
          "year": 2005
         },
         {
          "cluster": 3,
          "country": "El Salvador",
          "fertility": 2.6825,
          "life_expect": 71.878,
          "pop": 6704932,
          "year": 2005
         },
         {
          "cluster": 1,
          "country": "Finland",
          "fertility": 1.8250000000000002,
          "life_expect": 79.313,
          "pop": 5223442,
          "year": 2005
         },
         {
          "cluster": 1,
          "country": "France",
          "fertility": 1.8916,
          "life_expect": 80.657,
          "pop": 60656178,
          "year": 2005
         },
         {
          "cluster": 1,
          "country": "Georgia",
          "fertility": 1.407,
          "life_expect": 70.987,
          "pop": 4677401,
          "year": 2005
         },
         {
          "cluster": 1,
          "country": "Germany",
          "fertility": 1.3599999999999999,
          "life_expect": 79.406,
          "pop": 82431390,
          "year": 2005
         },
         {
          "cluster": 1,
          "country": "Greece",
          "fertility": 1.325,
          "life_expect": 79.483,
          "pop": 10668354,
          "year": 2005
         },
         {
          "cluster": 3,
          "country": "Grenada",
          "fertility": 2.302,
          "life_expect": 68.724,
          "pop": 89502,
          "year": 2005
         },
         {
          "cluster": 3,
          "country": "Haiti",
          "fertility": 3.5445,
          "life_expect": 60.916,
          "pop": 8121622,
          "year": 2005
         },
         {
          "cluster": 4,
          "country": "Hong Kong",
          "fertility": 0.966,
          "life_expect": 82.208,
          "pop": 6898686,
          "year": 2005
         },
         {
          "cluster": 1,
          "country": "Iceland",
          "fertility": 2.052,
          "life_expect": 81.757,
          "pop": 296737,
          "year": 2005
         },
         {
          "cluster": 0,
          "country": "India",
          "fertility": 2.8073,
          "life_expect": 64.698,
          "pop": 1080264388,
          "year": 2005
         },
         {
          "cluster": 4,
          "country": "Indonesia",
          "fertility": 2.182,
          "life_expect": 70.65,
          "pop": 218465000,
          "year": 2005
         },
         {
          "cluster": 5,
          "country": "Iran",
          "fertility": 2.04,
          "life_expect": 70.964,
          "pop": 68017860,
          "year": 2005
         },
         {
          "cluster": 5,
          "country": "Iraq",
          "fertility": 4.264,
          "life_expect": 59.545,
          "pop": 26074906,
          "year": 2005
         },
         {
          "cluster": 1,
          "country": "Ireland",
          "fertility": 1.964,
          "life_expect": 78.885,
          "pop": 4015676,
          "year": 2005
         },
         {
          "cluster": 5,
          "country": "Israel",
          "fertility": 2.75,
          "life_expect": 80.745,
          "pop": 6276883,
          "year": 2005
         },
         {
          "cluster": 1,
          "country": "Italy",
          "fertility": 1.379,
          "life_expect": 80.546,
          "pop": 58103033,
          "year": 2005
         },
         {
          "cluster": 3,
          "country": "Jamaica",
          "fertility": 2.4289,
          "life_expect": 72.567,
          "pop": 2735520,
          "year": 2005
         },
         {
          "cluster": 4,
          "country": "Japan",
          "fertility": 1.27,
          "life_expect": 82.603,
          "pop": 127417244,
          "year": 2005
         },
         {
          "cluster": 2,
          "country": "Kenya",
          "fertility": 4.959,
          "life_expect": 54.11,
          "pop": 33829590,
          "year": 2005
         },
         {
          "cluster": 4,
          "country": "South Korea",
          "fertility": 1.85,
          "life_expect": 67.297,
          "pop": 22912177,
          "year": 2005
         },
         {
          "cluster": 4,
          "country": "North Korea",
          "fertility": 1.21,
          "life_expect": 78.623,
          "pop": 48640671,
          "year": 2005
         },
         {
          "cluster": 5,
          "country": "Lebanon",
          "fertility": 2.209,
          "life_expect": 71.993,
          "pop": 3826018,
          "year": 2005
         },
         {
          "cluster": 3,
          "country": "Mexico",
          "fertility": 2.211,
          "life_expect": 76.195,
          "pop": 106202903,
          "year": 2005
         },
         {
          "cluster": 1,
          "country": "Netherlands",
          "fertility": 1.721,
          "life_expect": 79.762,
          "pop": 16407491,
          "year": 2005
         },
         {
          "cluster": 4,
          "country": "New Zealand",
          "fertility": 1.994,
          "life_expect": 80.204,
          "pop": 4035461,
          "year": 2005
         },
         {
          "cluster": 2,
          "country": "Nigeria",
          "fertility": 5.322,
          "life_expect": 46.859,
          "pop": 128765768,
          "year": 2005
         },
         {
          "cluster": 1,
          "country": "Norway",
          "fertility": 1.8479999999999999,
          "life_expect": 80.196,
          "pop": 4593041,
          "year": 2005
         },
         {
          "cluster": 0,
          "country": "Pakistan",
          "fertility": 3.5211,
          "life_expect": 65.483,
          "pop": 162419946,
          "year": 2005
         },
         {
          "cluster": 3,
          "country": "Peru",
          "fertility": 2.5065,
          "life_expect": 71.421,
          "pop": 27925628,
          "year": 2005
         },
         {
          "cluster": 4,
          "country": "Philippines",
          "fertility": 3.2327,
          "life_expect": 71.688,
          "pop": 87857473,
          "year": 2005
         },
         {
          "cluster": 1,
          "country": "Poland",
          "fertility": 1.227,
          "life_expect": 75.563,
          "pop": 38557984,
          "year": 2005
         },
         {
          "cluster": 1,
          "country": "Portugal",
          "fertility": 1.455,
          "life_expect": 78.098,
          "pop": 10566212,
          "year": 2005
         },
         {
          "cluster": 2,
          "country": "Rwanda",
          "fertility": 5.9169,
          "life_expect": 46.242,
          "pop": 8440820,
          "year": 2005
         },
         {
          "cluster": 5,
          "country": "Saudi Arabia",
          "fertility": 3.352,
          "life_expect": 72.777,
          "pop": 26417599,
          "year": 2005
         },
         {
          "cluster": 2,
          "country": "South Africa",
          "fertility": 2.637,
          "life_expect": 49.339,
          "pop": 44344136,
          "year": 2005
         },
         {
          "cluster": 1,
          "country": "Spain",
          "fertility": 1.409,
          "life_expect": 80.941,
          "pop": 40341462,
          "year": 2005
         },
         {
          "cluster": 1,
          "country": "Switzerland",
          "fertility": 1.42,
          "life_expect": 81.701,
          "pop": 7489370,
          "year": 2005
         },
         {
          "cluster": 1,
          "country": "Turkey",
          "fertility": 2.143,
          "life_expect": 71.777,
          "pop": 69660559,
          "year": 2005
         },
         {
          "cluster": 1,
          "country": "United Kingdom",
          "fertility": 1.815,
          "life_expect": 79.425,
          "pop": 60441457,
          "year": 2005
         },
         {
          "cluster": 3,
          "country": "United States",
          "fertility": 2.054,
          "life_expect": 78.242,
          "pop": 295734134,
          "year": 2005
         },
         {
          "cluster": 3,
          "country": "Venezuela",
          "fertility": 2.547,
          "life_expect": 73.747,
          "pop": 25375281,
          "year": 2005
         }
        ]
       },
       "encoding": {
        "x": {
         "field": "fertility",
         "type": "quantitative"
        },
        "y": {
         "field": "life_expect",
         "type": "quantitative"
        }
       },
       "mark": "point"
      },
      "image/png": "[encoded data removed]",
      "text/plain": [
       "<VegaLite 3 object>\n",
       "\n",
       "If you see this message, it means the renderer has not been properly enabled\n",
       "for the frontend that you are using. For more information, see\n",
       "https://altair-viz.github.io/user_guide/troubleshooting.html\n"
      ]
     },
     "execution_count": 22,
     "metadata": {},
     "output_type": "execute_result"
    }
   ],
   "source": [
    "chart1a = alt.Chart(gap2005).mark_point().encode(\n",
    "    x=\"fertility\",\n",
    "    y=\"life_expect\")\n",
    "\n",
    "chart1a"
   ]
  },
  {
   "cell_type": "code",
   "execution_count": 23,
   "metadata": {},
   "outputs": [
    {
     "data": {
      "application/vnd.vegalite.v3+json": {
       "$schema": "https://vega.github.io/schema/vega-lite/v3.4.0.json",
       "config": {
        "mark": {
         "tooltip": null
        },
        "view": {
         "height": 300,
         "width": 400
        }
       },
       "data": {
        "name": "data-ba34af65c64e2b3a5a008687b8c69f55"
       },
       "datasets": {
        "data-ba34af65c64e2b3a5a008687b8c69f55": [
         {
          "cluster": 0,
          "country": "Afghanistan",
          "fertility": 7.0685,
          "life_expect": 43.828,
          "pop": 29928987,
          "year": 2005
         },
         {
          "cluster": 3,
          "country": "Argentina",
          "fertility": 2.254,
          "life_expect": 75.32,
          "pop": 39537943,
          "year": 2005
         },
         {
          "cluster": 3,
          "country": "Aruba",
          "fertility": 2.04,
          "life_expect": 74.239,
          "pop": 71566,
          "year": 2005
         },
         {
          "cluster": 4,
          "country": "Australia",
          "fertility": 1.788,
          "life_expect": 81.235,
          "pop": 20090437,
          "year": 2005
         },
         {
          "cluster": 1,
          "country": "Austria",
          "fertility": 1.42,
          "life_expect": 79.829,
          "pop": 8184691,
          "year": 2005
         },
         {
          "cluster": 3,
          "country": "Bahamas",
          "fertility": 2.0221,
          "life_expect": 73.495,
          "pop": 301790,
          "year": 2005
         },
         {
          "cluster": 0,
          "country": "Bangladesh",
          "fertility": 2.826,
          "life_expect": 64.062,
          "pop": 144319628,
          "year": 2005
         },
         {
          "cluster": 3,
          "country": "Barbados",
          "fertility": 1.5,
          "life_expect": 77.296,
          "pop": 278870,
          "year": 2005
         },
         {
          "cluster": 1,
          "country": "Belgium",
          "fertility": 1.646,
          "life_expect": 79.441,
          "pop": 10364388,
          "year": 2005
         },
         {
          "cluster": 3,
          "country": "Bolivia",
          "fertility": 3.5,
          "life_expect": 65.554,
          "pop": 8857870,
          "year": 2005
         },
         {
          "cluster": 3,
          "country": "Brazil",
          "fertility": 2.245,
          "life_expect": 72.39,
          "pop": 186112794,
          "year": 2005
         },
         {
          "cluster": 3,
          "country": "Canada",
          "fertility": 1.5270000000000001,
          "life_expect": 80.653,
          "pop": 32805041,
          "year": 2005
         },
         {
          "cluster": 3,
          "country": "Chile",
          "fertility": 1.944,
          "life_expect": 78.553,
          "pop": 15980912,
          "year": 2005
         },
         {
          "cluster": 4,
          "country": "China",
          "fertility": 1.725,
          "life_expect": 72.961,
          "pop": 1303182268,
          "year": 2005
         },
         {
          "cluster": 3,
          "country": "Colombia",
          "fertility": 2.2205,
          "life_expect": 72.889,
          "pop": 42954279,
          "year": 2005
         },
         {
          "cluster": 3,
          "country": "Costa Rica",
          "fertility": 2.0985,
          "life_expect": 78.782,
          "pop": 4016173,
          "year": 2005
         },
         {
          "cluster": 1,
          "country": "Croatia",
          "fertility": 1.346,
          "life_expect": 75.748,
          "pop": 4495904,
          "year": 2005
         },
         {
          "cluster": 3,
          "country": "Cuba",
          "fertility": 1.49,
          "life_expect": 78.273,
          "pop": 11346670,
          "year": 2005
         },
         {
          "cluster": 3,
          "country": "Dominican Republic",
          "fertility": 2.81,
          "life_expect": 72.235,
          "pop": 9049595,
          "year": 2005
         },
         {
          "cluster": 3,
          "country": "Ecuador",
          "fertility": 2.578,
          "life_expect": 74.994,
          "pop": 13363593,
          "year": 2005
         },
         {
          "cluster": 5,
          "country": "Egypt",
          "fertility": 2.891,
          "life_expect": 71.338,
          "pop": 77505756,
          "year": 2005
         },
         {
          "cluster": 3,
          "country": "El Salvador",
          "fertility": 2.6825,
          "life_expect": 71.878,
          "pop": 6704932,
          "year": 2005
         },
         {
          "cluster": 1,
          "country": "Finland",
          "fertility": 1.8250000000000002,
          "life_expect": 79.313,
          "pop": 5223442,
          "year": 2005
         },
         {
          "cluster": 1,
          "country": "France",
          "fertility": 1.8916,
          "life_expect": 80.657,
          "pop": 60656178,
          "year": 2005
         },
         {
          "cluster": 1,
          "country": "Georgia",
          "fertility": 1.407,
          "life_expect": 70.987,
          "pop": 4677401,
          "year": 2005
         },
         {
          "cluster": 1,
          "country": "Germany",
          "fertility": 1.3599999999999999,
          "life_expect": 79.406,
          "pop": 82431390,
          "year": 2005
         },
         {
          "cluster": 1,
          "country": "Greece",
          "fertility": 1.325,
          "life_expect": 79.483,
          "pop": 10668354,
          "year": 2005
         },
         {
          "cluster": 3,
          "country": "Grenada",
          "fertility": 2.302,
          "life_expect": 68.724,
          "pop": 89502,
          "year": 2005
         },
         {
          "cluster": 3,
          "country": "Haiti",
          "fertility": 3.5445,
          "life_expect": 60.916,
          "pop": 8121622,
          "year": 2005
         },
         {
          "cluster": 4,
          "country": "Hong Kong",
          "fertility": 0.966,
          "life_expect": 82.208,
          "pop": 6898686,
          "year": 2005
         },
         {
          "cluster": 1,
          "country": "Iceland",
          "fertility": 2.052,
          "life_expect": 81.757,
          "pop": 296737,
          "year": 2005
         },
         {
          "cluster": 0,
          "country": "India",
          "fertility": 2.8073,
          "life_expect": 64.698,
          "pop": 1080264388,
          "year": 2005
         },
         {
          "cluster": 4,
          "country": "Indonesia",
          "fertility": 2.182,
          "life_expect": 70.65,
          "pop": 218465000,
          "year": 2005
         },
         {
          "cluster": 5,
          "country": "Iran",
          "fertility": 2.04,
          "life_expect": 70.964,
          "pop": 68017860,
          "year": 2005
         },
         {
          "cluster": 5,
          "country": "Iraq",
          "fertility": 4.264,
          "life_expect": 59.545,
          "pop": 26074906,
          "year": 2005
         },
         {
          "cluster": 1,
          "country": "Ireland",
          "fertility": 1.964,
          "life_expect": 78.885,
          "pop": 4015676,
          "year": 2005
         },
         {
          "cluster": 5,
          "country": "Israel",
          "fertility": 2.75,
          "life_expect": 80.745,
          "pop": 6276883,
          "year": 2005
         },
         {
          "cluster": 1,
          "country": "Italy",
          "fertility": 1.379,
          "life_expect": 80.546,
          "pop": 58103033,
          "year": 2005
         },
         {
          "cluster": 3,
          "country": "Jamaica",
          "fertility": 2.4289,
          "life_expect": 72.567,
          "pop": 2735520,
          "year": 2005
         },
         {
          "cluster": 4,
          "country": "Japan",
          "fertility": 1.27,
          "life_expect": 82.603,
          "pop": 127417244,
          "year": 2005
         },
         {
          "cluster": 2,
          "country": "Kenya",
          "fertility": 4.959,
          "life_expect": 54.11,
          "pop": 33829590,
          "year": 2005
         },
         {
          "cluster": 4,
          "country": "South Korea",
          "fertility": 1.85,
          "life_expect": 67.297,
          "pop": 22912177,
          "year": 2005
         },
         {
          "cluster": 4,
          "country": "North Korea",
          "fertility": 1.21,
          "life_expect": 78.623,
          "pop": 48640671,
          "year": 2005
         },
         {
          "cluster": 5,
          "country": "Lebanon",
          "fertility": 2.209,
          "life_expect": 71.993,
          "pop": 3826018,
          "year": 2005
         },
         {
          "cluster": 3,
          "country": "Mexico",
          "fertility": 2.211,
          "life_expect": 76.195,
          "pop": 106202903,
          "year": 2005
         },
         {
          "cluster": 1,
          "country": "Netherlands",
          "fertility": 1.721,
          "life_expect": 79.762,
          "pop": 16407491,
          "year": 2005
         },
         {
          "cluster": 4,
          "country": "New Zealand",
          "fertility": 1.994,
          "life_expect": 80.204,
          "pop": 4035461,
          "year": 2005
         },
         {
          "cluster": 2,
          "country": "Nigeria",
          "fertility": 5.322,
          "life_expect": 46.859,
          "pop": 128765768,
          "year": 2005
         },
         {
          "cluster": 1,
          "country": "Norway",
          "fertility": 1.8479999999999999,
          "life_expect": 80.196,
          "pop": 4593041,
          "year": 2005
         },
         {
          "cluster": 0,
          "country": "Pakistan",
          "fertility": 3.5211,
          "life_expect": 65.483,
          "pop": 162419946,
          "year": 2005
         },
         {
          "cluster": 3,
          "country": "Peru",
          "fertility": 2.5065,
          "life_expect": 71.421,
          "pop": 27925628,
          "year": 2005
         },
         {
          "cluster": 4,
          "country": "Philippines",
          "fertility": 3.2327,
          "life_expect": 71.688,
          "pop": 87857473,
          "year": 2005
         },
         {
          "cluster": 1,
          "country": "Poland",
          "fertility": 1.227,
          "life_expect": 75.563,
          "pop": 38557984,
          "year": 2005
         },
         {
          "cluster": 1,
          "country": "Portugal",
          "fertility": 1.455,
          "life_expect": 78.098,
          "pop": 10566212,
          "year": 2005
         },
         {
          "cluster": 2,
          "country": "Rwanda",
          "fertility": 5.9169,
          "life_expect": 46.242,
          "pop": 8440820,
          "year": 2005
         },
         {
          "cluster": 5,
          "country": "Saudi Arabia",
          "fertility": 3.352,
          "life_expect": 72.777,
          "pop": 26417599,
          "year": 2005
         },
         {
          "cluster": 2,
          "country": "South Africa",
          "fertility": 2.637,
          "life_expect": 49.339,
          "pop": 44344136,
          "year": 2005
         },
         {
          "cluster": 1,
          "country": "Spain",
          "fertility": 1.409,
          "life_expect": 80.941,
          "pop": 40341462,
          "year": 2005
         },
         {
          "cluster": 1,
          "country": "Switzerland",
          "fertility": 1.42,
          "life_expect": 81.701,
          "pop": 7489370,
          "year": 2005
         },
         {
          "cluster": 1,
          "country": "Turkey",
          "fertility": 2.143,
          "life_expect": 71.777,
          "pop": 69660559,
          "year": 2005
         },
         {
          "cluster": 1,
          "country": "United Kingdom",
          "fertility": 1.815,
          "life_expect": 79.425,
          "pop": 60441457,
          "year": 2005
         },
         {
          "cluster": 3,
          "country": "United States",
          "fertility": 2.054,
          "life_expect": 78.242,
          "pop": 295734134,
          "year": 2005
         },
         {
          "cluster": 3,
          "country": "Venezuela",
          "fertility": 2.547,
          "life_expect": 73.747,
          "pop": 25375281,
          "year": 2005
         }
        ]
       },
       "encoding": {
        "x": {
         "field": "fertility",
         "type": "quantitative"
        },
        "y": {
         "field": "life_expect",
         "type": "quantitative"
        }
       },
       "mark": "point"
      },
      "image/png": "[encoded data removed]",
      "text/plain": [
       "<VegaLite 3 object>\n",
       "\n",
       "If you see this message, it means the renderer has not been properly enabled\n",
       "for the frontend that you are using. For more information, see\n",
       "https://altair-viz.github.io/user_guide/troubleshooting.html\n"
      ]
     },
     "execution_count": 23,
     "metadata": {},
     "output_type": "execute_result"
    }
   ],
   "source": [
    "chart1b = alt.Chart(gap2005).mark_point().encode(\n",
    "    alt.X(\"fertility\"),\n",
    "    alt.Y(\"life_expect\")\n",
    ")\n",
    "\n",
    "chart1b"
   ]
  },
  {
   "cell_type": "code",
   "execution_count": 9,
   "metadata": {},
   "outputs": [
    {
     "data": {
      "application/vnd.vegalite.v3+json": {
       "$schema": "https://vega.github.io/schema/vega-lite/v3.4.0.json",
       "config": {
        "mark": {
         "tooltip": null
        },
        "view": {
         "height": 300,
         "width": 400
        }
       },
       "data": {
        "name": "data-ba34af65c64e2b3a5a008687b8c69f55"
       },
       "datasets": {
        "data-ba34af65c64e2b3a5a008687b8c69f55": [
         {
          "cluster": 0,
          "country": "Afghanistan",
          "fertility": 7.0685,
          "life_expect": 43.828,
          "pop": 29928987,
          "year": 2005
         },
         {
          "cluster": 3,
          "country": "Argentina",
          "fertility": 2.254,
          "life_expect": 75.32,
          "pop": 39537943,
          "year": 2005
         },
         {
          "cluster": 3,
          "country": "Aruba",
          "fertility": 2.04,
          "life_expect": 74.239,
          "pop": 71566,
          "year": 2005
         },
         {
          "cluster": 4,
          "country": "Australia",
          "fertility": 1.788,
          "life_expect": 81.235,
          "pop": 20090437,
          "year": 2005
         },
         {
          "cluster": 1,
          "country": "Austria",
          "fertility": 1.42,
          "life_expect": 79.829,
          "pop": 8184691,
          "year": 2005
         },
         {
          "cluster": 3,
          "country": "Bahamas",
          "fertility": 2.0221,
          "life_expect": 73.495,
          "pop": 301790,
          "year": 2005
         },
         {
          "cluster": 0,
          "country": "Bangladesh",
          "fertility": 2.826,
          "life_expect": 64.062,
          "pop": 144319628,
          "year": 2005
         },
         {
          "cluster": 3,
          "country": "Barbados",
          "fertility": 1.5,
          "life_expect": 77.296,
          "pop": 278870,
          "year": 2005
         },
         {
          "cluster": 1,
          "country": "Belgium",
          "fertility": 1.646,
          "life_expect": 79.441,
          "pop": 10364388,
          "year": 2005
         },
         {
          "cluster": 3,
          "country": "Bolivia",
          "fertility": 3.5,
          "life_expect": 65.554,
          "pop": 8857870,
          "year": 2005
         },
         {
          "cluster": 3,
          "country": "Brazil",
          "fertility": 2.245,
          "life_expect": 72.39,
          "pop": 186112794,
          "year": 2005
         },
         {
          "cluster": 3,
          "country": "Canada",
          "fertility": 1.5270000000000001,
          "life_expect": 80.653,
          "pop": 32805041,
          "year": 2005
         },
         {
          "cluster": 3,
          "country": "Chile",
          "fertility": 1.944,
          "life_expect": 78.553,
          "pop": 15980912,
          "year": 2005
         },
         {
          "cluster": 4,
          "country": "China",
          "fertility": 1.725,
          "life_expect": 72.961,
          "pop": 1303182268,
          "year": 2005
         },
         {
          "cluster": 3,
          "country": "Colombia",
          "fertility": 2.2205,
          "life_expect": 72.889,
          "pop": 42954279,
          "year": 2005
         },
         {
          "cluster": 3,
          "country": "Costa Rica",
          "fertility": 2.0985,
          "life_expect": 78.782,
          "pop": 4016173,
          "year": 2005
         },
         {
          "cluster": 1,
          "country": "Croatia",
          "fertility": 1.346,
          "life_expect": 75.748,
          "pop": 4495904,
          "year": 2005
         },
         {
          "cluster": 3,
          "country": "Cuba",
          "fertility": 1.49,
          "life_expect": 78.273,
          "pop": 11346670,
          "year": 2005
         },
         {
          "cluster": 3,
          "country": "Dominican Republic",
          "fertility": 2.81,
          "life_expect": 72.235,
          "pop": 9049595,
          "year": 2005
         },
         {
          "cluster": 3,
          "country": "Ecuador",
          "fertility": 2.578,
          "life_expect": 74.994,
          "pop": 13363593,
          "year": 2005
         },
         {
          "cluster": 5,
          "country": "Egypt",
          "fertility": 2.891,
          "life_expect": 71.338,
          "pop": 77505756,
          "year": 2005
         },
         {
          "cluster": 3,
          "country": "El Salvador",
          "fertility": 2.6825,
          "life_expect": 71.878,
          "pop": 6704932,
          "year": 2005
         },
         {
          "cluster": 1,
          "country": "Finland",
          "fertility": 1.8250000000000002,
          "life_expect": 79.313,
          "pop": 5223442,
          "year": 2005
         },
         {
          "cluster": 1,
          "country": "France",
          "fertility": 1.8916,
          "life_expect": 80.657,
          "pop": 60656178,
          "year": 2005
         },
         {
          "cluster": 1,
          "country": "Georgia",
          "fertility": 1.407,
          "life_expect": 70.987,
          "pop": 4677401,
          "year": 2005
         },
         {
          "cluster": 1,
          "country": "Germany",
          "fertility": 1.3599999999999999,
          "life_expect": 79.406,
          "pop": 82431390,
          "year": 2005
         },
         {
          "cluster": 1,
          "country": "Greece",
          "fertility": 1.325,
          "life_expect": 79.483,
          "pop": 10668354,
          "year": 2005
         },
         {
          "cluster": 3,
          "country": "Grenada",
          "fertility": 2.302,
          "life_expect": 68.724,
          "pop": 89502,
          "year": 2005
         },
         {
          "cluster": 3,
          "country": "Haiti",
          "fertility": 3.5445,
          "life_expect": 60.916,
          "pop": 8121622,
          "year": 2005
         },
         {
          "cluster": 4,
          "country": "Hong Kong",
          "fertility": 0.966,
          "life_expect": 82.208,
          "pop": 6898686,
          "year": 2005
         },
         {
          "cluster": 1,
          "country": "Iceland",
          "fertility": 2.052,
          "life_expect": 81.757,
          "pop": 296737,
          "year": 2005
         },
         {
          "cluster": 0,
          "country": "India",
          "fertility": 2.8073,
          "life_expect": 64.698,
          "pop": 1080264388,
          "year": 2005
         },
         {
          "cluster": 4,
          "country": "Indonesia",
          "fertility": 2.182,
          "life_expect": 70.65,
          "pop": 218465000,
          "year": 2005
         },
         {
          "cluster": 5,
          "country": "Iran",
          "fertility": 2.04,
          "life_expect": 70.964,
          "pop": 68017860,
          "year": 2005
         },
         {
          "cluster": 5,
          "country": "Iraq",
          "fertility": 4.264,
          "life_expect": 59.545,
          "pop": 26074906,
          "year": 2005
         },
         {
          "cluster": 1,
          "country": "Ireland",
          "fertility": 1.964,
          "life_expect": 78.885,
          "pop": 4015676,
          "year": 2005
         },
         {
          "cluster": 5,
          "country": "Israel",
          "fertility": 2.75,
          "life_expect": 80.745,
          "pop": 6276883,
          "year": 2005
         },
         {
          "cluster": 1,
          "country": "Italy",
          "fertility": 1.379,
          "life_expect": 80.546,
          "pop": 58103033,
          "year": 2005
         },
         {
          "cluster": 3,
          "country": "Jamaica",
          "fertility": 2.4289,
          "life_expect": 72.567,
          "pop": 2735520,
          "year": 2005
         },
         {
          "cluster": 4,
          "country": "Japan",
          "fertility": 1.27,
          "life_expect": 82.603,
          "pop": 127417244,
          "year": 2005
         },
         {
          "cluster": 2,
          "country": "Kenya",
          "fertility": 4.959,
          "life_expect": 54.11,
          "pop": 33829590,
          "year": 2005
         },
         {
          "cluster": 4,
          "country": "South Korea",
          "fertility": 1.85,
          "life_expect": 67.297,
          "pop": 22912177,
          "year": 2005
         },
         {
          "cluster": 4,
          "country": "North Korea",
          "fertility": 1.21,
          "life_expect": 78.623,
          "pop": 48640671,
          "year": 2005
         },
         {
          "cluster": 5,
          "country": "Lebanon",
          "fertility": 2.209,
          "life_expect": 71.993,
          "pop": 3826018,
          "year": 2005
         },
         {
          "cluster": 3,
          "country": "Mexico",
          "fertility": 2.211,
          "life_expect": 76.195,
          "pop": 106202903,
          "year": 2005
         },
         {
          "cluster": 1,
          "country": "Netherlands",
          "fertility": 1.721,
          "life_expect": 79.762,
          "pop": 16407491,
          "year": 2005
         },
         {
          "cluster": 4,
          "country": "New Zealand",
          "fertility": 1.994,
          "life_expect": 80.204,
          "pop": 4035461,
          "year": 2005
         },
         {
          "cluster": 2,
          "country": "Nigeria",
          "fertility": 5.322,
          "life_expect": 46.859,
          "pop": 128765768,
          "year": 2005
         },
         {
          "cluster": 1,
          "country": "Norway",
          "fertility": 1.8479999999999999,
          "life_expect": 80.196,
          "pop": 4593041,
          "year": 2005
         },
         {
          "cluster": 0,
          "country": "Pakistan",
          "fertility": 3.5211,
          "life_expect": 65.483,
          "pop": 162419946,
          "year": 2005
         },
         {
          "cluster": 3,
          "country": "Peru",
          "fertility": 2.5065,
          "life_expect": 71.421,
          "pop": 27925628,
          "year": 2005
         },
         {
          "cluster": 4,
          "country": "Philippines",
          "fertility": 3.2327,
          "life_expect": 71.688,
          "pop": 87857473,
          "year": 2005
         },
         {
          "cluster": 1,
          "country": "Poland",
          "fertility": 1.227,
          "life_expect": 75.563,
          "pop": 38557984,
          "year": 2005
         },
         {
          "cluster": 1,
          "country": "Portugal",
          "fertility": 1.455,
          "life_expect": 78.098,
          "pop": 10566212,
          "year": 2005
         },
         {
          "cluster": 2,
          "country": "Rwanda",
          "fertility": 5.9169,
          "life_expect": 46.242,
          "pop": 8440820,
          "year": 2005
         },
         {
          "cluster": 5,
          "country": "Saudi Arabia",
          "fertility": 3.352,
          "life_expect": 72.777,
          "pop": 26417599,
          "year": 2005
         },
         {
          "cluster": 2,
          "country": "South Africa",
          "fertility": 2.637,
          "life_expect": 49.339,
          "pop": 44344136,
          "year": 2005
         },
         {
          "cluster": 1,
          "country": "Spain",
          "fertility": 1.409,
          "life_expect": 80.941,
          "pop": 40341462,
          "year": 2005
         },
         {
          "cluster": 1,
          "country": "Switzerland",
          "fertility": 1.42,
          "life_expect": 81.701,
          "pop": 7489370,
          "year": 2005
         },
         {
          "cluster": 1,
          "country": "Turkey",
          "fertility": 2.143,
          "life_expect": 71.777,
          "pop": 69660559,
          "year": 2005
         },
         {
          "cluster": 1,
          "country": "United Kingdom",
          "fertility": 1.815,
          "life_expect": 79.425,
          "pop": 60441457,
          "year": 2005
         },
         {
          "cluster": 3,
          "country": "United States",
          "fertility": 2.054,
          "life_expect": 78.242,
          "pop": 295734134,
          "year": 2005
         },
         {
          "cluster": 3,
          "country": "Venezuela",
          "fertility": 2.547,
          "life_expect": 73.747,
          "pop": 25375281,
          "year": 2005
         }
        ]
       },
       "encoding": {
        "x": {
         "field": "fertility",
         "scale": {
          "zero": false
         },
         "type": "quantitative"
        },
        "y": {
         "field": "life_expect",
         "scale": {
          "zero": false
         },
         "type": "quantitative"
        }
       },
       "mark": "point"
      },
      "image/png": "[encoded data removed]",
      "text/plain": [
       "<VegaLite 3 object>\n",
       "\n",
       "If you see this message, it means the renderer has not been properly enabled\n",
       "for the frontend that you are using. For more information, see\n",
       "https://altair-viz.github.io/user_guide/troubleshooting.html\n"
      ]
     },
     "execution_count": 9,
     "metadata": {},
     "output_type": "execute_result"
    }
   ],
   "source": [
    "# adjust scale\n",
    "alt.Chart(gap2005).mark_point().encode(\n",
    "    alt.X(\"fertility\", scale=alt.Scale(zero=False)),\n",
    "    alt.Y(\"life_expect\", scale=alt.Scale(zero=False))\n",
    ")"
   ]
  },
  {
   "cell_type": "code",
   "execution_count": 13,
   "metadata": {},
   "outputs": [
    {
     "data": {
      "application/vnd.vegalite.v3+json": {
       "$schema": "https://vega.github.io/schema/vega-lite/v3.4.0.json",
       "config": {
        "mark": {
         "tooltip": null
        },
        "view": {
         "height": 300,
         "width": 400
        }
       },
       "data": {
        "name": "data-ba34af65c64e2b3a5a008687b8c69f55"
       },
       "datasets": {
        "data-ba34af65c64e2b3a5a008687b8c69f55": [
         {
          "cluster": 0,
          "country": "Afghanistan",
          "fertility": 7.0685,
          "life_expect": 43.828,
          "pop": 29928987,
          "year": 2005
         },
         {
          "cluster": 3,
          "country": "Argentina",
          "fertility": 2.254,
          "life_expect": 75.32,
          "pop": 39537943,
          "year": 2005
         },
         {
          "cluster": 3,
          "country": "Aruba",
          "fertility": 2.04,
          "life_expect": 74.239,
          "pop": 71566,
          "year": 2005
         },
         {
          "cluster": 4,
          "country": "Australia",
          "fertility": 1.788,
          "life_expect": 81.235,
          "pop": 20090437,
          "year": 2005
         },
         {
          "cluster": 1,
          "country": "Austria",
          "fertility": 1.42,
          "life_expect": 79.829,
          "pop": 8184691,
          "year": 2005
         },
         {
          "cluster": 3,
          "country": "Bahamas",
          "fertility": 2.0221,
          "life_expect": 73.495,
          "pop": 301790,
          "year": 2005
         },
         {
          "cluster": 0,
          "country": "Bangladesh",
          "fertility": 2.826,
          "life_expect": 64.062,
          "pop": 144319628,
          "year": 2005
         },
         {
          "cluster": 3,
          "country": "Barbados",
          "fertility": 1.5,
          "life_expect": 77.296,
          "pop": 278870,
          "year": 2005
         },
         {
          "cluster": 1,
          "country": "Belgium",
          "fertility": 1.646,
          "life_expect": 79.441,
          "pop": 10364388,
          "year": 2005
         },
         {
          "cluster": 3,
          "country": "Bolivia",
          "fertility": 3.5,
          "life_expect": 65.554,
          "pop": 8857870,
          "year": 2005
         },
         {
          "cluster": 3,
          "country": "Brazil",
          "fertility": 2.245,
          "life_expect": 72.39,
          "pop": 186112794,
          "year": 2005
         },
         {
          "cluster": 3,
          "country": "Canada",
          "fertility": 1.5270000000000001,
          "life_expect": 80.653,
          "pop": 32805041,
          "year": 2005
         },
         {
          "cluster": 3,
          "country": "Chile",
          "fertility": 1.944,
          "life_expect": 78.553,
          "pop": 15980912,
          "year": 2005
         },
         {
          "cluster": 4,
          "country": "China",
          "fertility": 1.725,
          "life_expect": 72.961,
          "pop": 1303182268,
          "year": 2005
         },
         {
          "cluster": 3,
          "country": "Colombia",
          "fertility": 2.2205,
          "life_expect": 72.889,
          "pop": 42954279,
          "year": 2005
         },
         {
          "cluster": 3,
          "country": "Costa Rica",
          "fertility": 2.0985,
          "life_expect": 78.782,
          "pop": 4016173,
          "year": 2005
         },
         {
          "cluster": 1,
          "country": "Croatia",
          "fertility": 1.346,
          "life_expect": 75.748,
          "pop": 4495904,
          "year": 2005
         },
         {
          "cluster": 3,
          "country": "Cuba",
          "fertility": 1.49,
          "life_expect": 78.273,
          "pop": 11346670,
          "year": 2005
         },
         {
          "cluster": 3,
          "country": "Dominican Republic",
          "fertility": 2.81,
          "life_expect": 72.235,
          "pop": 9049595,
          "year": 2005
         },
         {
          "cluster": 3,
          "country": "Ecuador",
          "fertility": 2.578,
          "life_expect": 74.994,
          "pop": 13363593,
          "year": 2005
         },
         {
          "cluster": 5,
          "country": "Egypt",
          "fertility": 2.891,
          "life_expect": 71.338,
          "pop": 77505756,
          "year": 2005
         },
         {
          "cluster": 3,
          "country": "El Salvador",
          "fertility": 2.6825,
          "life_expect": 71.878,
          "pop": 6704932,
          "year": 2005
         },
         {
          "cluster": 1,
          "country": "Finland",
          "fertility": 1.8250000000000002,
          "life_expect": 79.313,
          "pop": 5223442,
          "year": 2005
         },
         {
          "cluster": 1,
          "country": "France",
          "fertility": 1.8916,
          "life_expect": 80.657,
          "pop": 60656178,
          "year": 2005
         },
         {
          "cluster": 1,
          "country": "Georgia",
          "fertility": 1.407,
          "life_expect": 70.987,
          "pop": 4677401,
          "year": 2005
         },
         {
          "cluster": 1,
          "country": "Germany",
          "fertility": 1.3599999999999999,
          "life_expect": 79.406,
          "pop": 82431390,
          "year": 2005
         },
         {
          "cluster": 1,
          "country": "Greece",
          "fertility": 1.325,
          "life_expect": 79.483,
          "pop": 10668354,
          "year": 2005
         },
         {
          "cluster": 3,
          "country": "Grenada",
          "fertility": 2.302,
          "life_expect": 68.724,
          "pop": 89502,
          "year": 2005
         },
         {
          "cluster": 3,
          "country": "Haiti",
          "fertility": 3.5445,
          "life_expect": 60.916,
          "pop": 8121622,
          "year": 2005
         },
         {
          "cluster": 4,
          "country": "Hong Kong",
          "fertility": 0.966,
          "life_expect": 82.208,
          "pop": 6898686,
          "year": 2005
         },
         {
          "cluster": 1,
          "country": "Iceland",
          "fertility": 2.052,
          "life_expect": 81.757,
          "pop": 296737,
          "year": 2005
         },
         {
          "cluster": 0,
          "country": "India",
          "fertility": 2.8073,
          "life_expect": 64.698,
          "pop": 1080264388,
          "year": 2005
         },
         {
          "cluster": 4,
          "country": "Indonesia",
          "fertility": 2.182,
          "life_expect": 70.65,
          "pop": 218465000,
          "year": 2005
         },
         {
          "cluster": 5,
          "country": "Iran",
          "fertility": 2.04,
          "life_expect": 70.964,
          "pop": 68017860,
          "year": 2005
         },
         {
          "cluster": 5,
          "country": "Iraq",
          "fertility": 4.264,
          "life_expect": 59.545,
          "pop": 26074906,
          "year": 2005
         },
         {
          "cluster": 1,
          "country": "Ireland",
          "fertility": 1.964,
          "life_expect": 78.885,
          "pop": 4015676,
          "year": 2005
         },
         {
          "cluster": 5,
          "country": "Israel",
          "fertility": 2.75,
          "life_expect": 80.745,
          "pop": 6276883,
          "year": 2005
         },
         {
          "cluster": 1,
          "country": "Italy",
          "fertility": 1.379,
          "life_expect": 80.546,
          "pop": 58103033,
          "year": 2005
         },
         {
          "cluster": 3,
          "country": "Jamaica",
          "fertility": 2.4289,
          "life_expect": 72.567,
          "pop": 2735520,
          "year": 2005
         },
         {
          "cluster": 4,
          "country": "Japan",
          "fertility": 1.27,
          "life_expect": 82.603,
          "pop": 127417244,
          "year": 2005
         },
         {
          "cluster": 2,
          "country": "Kenya",
          "fertility": 4.959,
          "life_expect": 54.11,
          "pop": 33829590,
          "year": 2005
         },
         {
          "cluster": 4,
          "country": "South Korea",
          "fertility": 1.85,
          "life_expect": 67.297,
          "pop": 22912177,
          "year": 2005
         },
         {
          "cluster": 4,
          "country": "North Korea",
          "fertility": 1.21,
          "life_expect": 78.623,
          "pop": 48640671,
          "year": 2005
         },
         {
          "cluster": 5,
          "country": "Lebanon",
          "fertility": 2.209,
          "life_expect": 71.993,
          "pop": 3826018,
          "year": 2005
         },
         {
          "cluster": 3,
          "country": "Mexico",
          "fertility": 2.211,
          "life_expect": 76.195,
          "pop": 106202903,
          "year": 2005
         },
         {
          "cluster": 1,
          "country": "Netherlands",
          "fertility": 1.721,
          "life_expect": 79.762,
          "pop": 16407491,
          "year": 2005
         },
         {
          "cluster": 4,
          "country": "New Zealand",
          "fertility": 1.994,
          "life_expect": 80.204,
          "pop": 4035461,
          "year": 2005
         },
         {
          "cluster": 2,
          "country": "Nigeria",
          "fertility": 5.322,
          "life_expect": 46.859,
          "pop": 128765768,
          "year": 2005
         },
         {
          "cluster": 1,
          "country": "Norway",
          "fertility": 1.8479999999999999,
          "life_expect": 80.196,
          "pop": 4593041,
          "year": 2005
         },
         {
          "cluster": 0,
          "country": "Pakistan",
          "fertility": 3.5211,
          "life_expect": 65.483,
          "pop": 162419946,
          "year": 2005
         },
         {
          "cluster": 3,
          "country": "Peru",
          "fertility": 2.5065,
          "life_expect": 71.421,
          "pop": 27925628,
          "year": 2005
         },
         {
          "cluster": 4,
          "country": "Philippines",
          "fertility": 3.2327,
          "life_expect": 71.688,
          "pop": 87857473,
          "year": 2005
         },
         {
          "cluster": 1,
          "country": "Poland",
          "fertility": 1.227,
          "life_expect": 75.563,
          "pop": 38557984,
          "year": 2005
         },
         {
          "cluster": 1,
          "country": "Portugal",
          "fertility": 1.455,
          "life_expect": 78.098,
          "pop": 10566212,
          "year": 2005
         },
         {
          "cluster": 2,
          "country": "Rwanda",
          "fertility": 5.9169,
          "life_expect": 46.242,
          "pop": 8440820,
          "year": 2005
         },
         {
          "cluster": 5,
          "country": "Saudi Arabia",
          "fertility": 3.352,
          "life_expect": 72.777,
          "pop": 26417599,
          "year": 2005
         },
         {
          "cluster": 2,
          "country": "South Africa",
          "fertility": 2.637,
          "life_expect": 49.339,
          "pop": 44344136,
          "year": 2005
         },
         {
          "cluster": 1,
          "country": "Spain",
          "fertility": 1.409,
          "life_expect": 80.941,
          "pop": 40341462,
          "year": 2005
         },
         {
          "cluster": 1,
          "country": "Switzerland",
          "fertility": 1.42,
          "life_expect": 81.701,
          "pop": 7489370,
          "year": 2005
         },
         {
          "cluster": 1,
          "country": "Turkey",
          "fertility": 2.143,
          "life_expect": 71.777,
          "pop": 69660559,
          "year": 2005
         },
         {
          "cluster": 1,
          "country": "United Kingdom",
          "fertility": 1.815,
          "life_expect": 79.425,
          "pop": 60441457,
          "year": 2005
         },
         {
          "cluster": 3,
          "country": "United States",
          "fertility": 2.054,
          "life_expect": 78.242,
          "pop": 295734134,
          "year": 2005
         },
         {
          "cluster": 3,
          "country": "Venezuela",
          "fertility": 2.547,
          "life_expect": 73.747,
          "pop": 25375281,
          "year": 2005
         }
        ]
       },
       "encoding": {
        "size": {
         "field": "pop",
         "type": "quantitative"
        },
        "x": {
         "field": "fertility",
         "scale": {
          "zero": false
         },
         "type": "quantitative"
        },
        "y": {
         "field": "life_expect",
         "scale": {
          "zero": false
         },
         "type": "quantitative"
        }
       },
       "mark": "point"
      },
      "image/png": "[encoded data removed]",
      "text/plain": [
       "<VegaLite 3 object>\n",
       "\n",
       "If you see this message, it means the renderer has not been properly enabled\n",
       "for the frontend that you are using. For more information, see\n",
       "https://altair-viz.github.io/user_guide/troubleshooting.html\n"
      ]
     },
     "execution_count": 13,
     "metadata": {},
     "output_type": "execute_result"
    }
   ],
   "source": [
    "# add size dimension\n",
    "alt.Chart(gap2005).mark_point().encode(\n",
    "    alt.X(\"fertility\", scale=alt.Scale(zero=False)),\n",
    "    alt.Y(\"life_expect\", scale=alt.Scale(zero=False)),\n",
    "    alt.Size(\"pop\")\n",
    ")"
   ]
  },
  {
   "cell_type": "code",
   "execution_count": 16,
   "metadata": {},
   "outputs": [
    {
     "data": {
      "application/vnd.vegalite.v3+json": {
       "$schema": "https://vega.github.io/schema/vega-lite/v3.4.0.json",
       "config": {
        "mark": {
         "tooltip": null
        },
        "view": {
         "height": 300,
         "width": 400
        }
       },
       "data": {
        "name": "data-ba34af65c64e2b3a5a008687b8c69f55"
       },
       "datasets": {
        "data-ba34af65c64e2b3a5a008687b8c69f55": [
         {
          "cluster": 0,
          "country": "Afghanistan",
          "fertility": 7.0685,
          "life_expect": 43.828,
          "pop": 29928987,
          "year": 2005
         },
         {
          "cluster": 3,
          "country": "Argentina",
          "fertility": 2.254,
          "life_expect": 75.32,
          "pop": 39537943,
          "year": 2005
         },
         {
          "cluster": 3,
          "country": "Aruba",
          "fertility": 2.04,
          "life_expect": 74.239,
          "pop": 71566,
          "year": 2005
         },
         {
          "cluster": 4,
          "country": "Australia",
          "fertility": 1.788,
          "life_expect": 81.235,
          "pop": 20090437,
          "year": 2005
         },
         {
          "cluster": 1,
          "country": "Austria",
          "fertility": 1.42,
          "life_expect": 79.829,
          "pop": 8184691,
          "year": 2005
         },
         {
          "cluster": 3,
          "country": "Bahamas",
          "fertility": 2.0221,
          "life_expect": 73.495,
          "pop": 301790,
          "year": 2005
         },
         {
          "cluster": 0,
          "country": "Bangladesh",
          "fertility": 2.826,
          "life_expect": 64.062,
          "pop": 144319628,
          "year": 2005
         },
         {
          "cluster": 3,
          "country": "Barbados",
          "fertility": 1.5,
          "life_expect": 77.296,
          "pop": 278870,
          "year": 2005
         },
         {
          "cluster": 1,
          "country": "Belgium",
          "fertility": 1.646,
          "life_expect": 79.441,
          "pop": 10364388,
          "year": 2005
         },
         {
          "cluster": 3,
          "country": "Bolivia",
          "fertility": 3.5,
          "life_expect": 65.554,
          "pop": 8857870,
          "year": 2005
         },
         {
          "cluster": 3,
          "country": "Brazil",
          "fertility": 2.245,
          "life_expect": 72.39,
          "pop": 186112794,
          "year": 2005
         },
         {
          "cluster": 3,
          "country": "Canada",
          "fertility": 1.5270000000000001,
          "life_expect": 80.653,
          "pop": 32805041,
          "year": 2005
         },
         {
          "cluster": 3,
          "country": "Chile",
          "fertility": 1.944,
          "life_expect": 78.553,
          "pop": 15980912,
          "year": 2005
         },
         {
          "cluster": 4,
          "country": "China",
          "fertility": 1.725,
          "life_expect": 72.961,
          "pop": 1303182268,
          "year": 2005
         },
         {
          "cluster": 3,
          "country": "Colombia",
          "fertility": 2.2205,
          "life_expect": 72.889,
          "pop": 42954279,
          "year": 2005
         },
         {
          "cluster": 3,
          "country": "Costa Rica",
          "fertility": 2.0985,
          "life_expect": 78.782,
          "pop": 4016173,
          "year": 2005
         },
         {
          "cluster": 1,
          "country": "Croatia",
          "fertility": 1.346,
          "life_expect": 75.748,
          "pop": 4495904,
          "year": 2005
         },
         {
          "cluster": 3,
          "country": "Cuba",
          "fertility": 1.49,
          "life_expect": 78.273,
          "pop": 11346670,
          "year": 2005
         },
         {
          "cluster": 3,
          "country": "Dominican Republic",
          "fertility": 2.81,
          "life_expect": 72.235,
          "pop": 9049595,
          "year": 2005
         },
         {
          "cluster": 3,
          "country": "Ecuador",
          "fertility": 2.578,
          "life_expect": 74.994,
          "pop": 13363593,
          "year": 2005
         },
         {
          "cluster": 5,
          "country": "Egypt",
          "fertility": 2.891,
          "life_expect": 71.338,
          "pop": 77505756,
          "year": 2005
         },
         {
          "cluster": 3,
          "country": "El Salvador",
          "fertility": 2.6825,
          "life_expect": 71.878,
          "pop": 6704932,
          "year": 2005
         },
         {
          "cluster": 1,
          "country": "Finland",
          "fertility": 1.8250000000000002,
          "life_expect": 79.313,
          "pop": 5223442,
          "year": 2005
         },
         {
          "cluster": 1,
          "country": "France",
          "fertility": 1.8916,
          "life_expect": 80.657,
          "pop": 60656178,
          "year": 2005
         },
         {
          "cluster": 1,
          "country": "Georgia",
          "fertility": 1.407,
          "life_expect": 70.987,
          "pop": 4677401,
          "year": 2005
         },
         {
          "cluster": 1,
          "country": "Germany",
          "fertility": 1.3599999999999999,
          "life_expect": 79.406,
          "pop": 82431390,
          "year": 2005
         },
         {
          "cluster": 1,
          "country": "Greece",
          "fertility": 1.325,
          "life_expect": 79.483,
          "pop": 10668354,
          "year": 2005
         },
         {
          "cluster": 3,
          "country": "Grenada",
          "fertility": 2.302,
          "life_expect": 68.724,
          "pop": 89502,
          "year": 2005
         },
         {
          "cluster": 3,
          "country": "Haiti",
          "fertility": 3.5445,
          "life_expect": 60.916,
          "pop": 8121622,
          "year": 2005
         },
         {
          "cluster": 4,
          "country": "Hong Kong",
          "fertility": 0.966,
          "life_expect": 82.208,
          "pop": 6898686,
          "year": 2005
         },
         {
          "cluster": 1,
          "country": "Iceland",
          "fertility": 2.052,
          "life_expect": 81.757,
          "pop": 296737,
          "year": 2005
         },
         {
          "cluster": 0,
          "country": "India",
          "fertility": 2.8073,
          "life_expect": 64.698,
          "pop": 1080264388,
          "year": 2005
         },
         {
          "cluster": 4,
          "country": "Indonesia",
          "fertility": 2.182,
          "life_expect": 70.65,
          "pop": 218465000,
          "year": 2005
         },
         {
          "cluster": 5,
          "country": "Iran",
          "fertility": 2.04,
          "life_expect": 70.964,
          "pop": 68017860,
          "year": 2005
         },
         {
          "cluster": 5,
          "country": "Iraq",
          "fertility": 4.264,
          "life_expect": 59.545,
          "pop": 26074906,
          "year": 2005
         },
         {
          "cluster": 1,
          "country": "Ireland",
          "fertility": 1.964,
          "life_expect": 78.885,
          "pop": 4015676,
          "year": 2005
         },
         {
          "cluster": 5,
          "country": "Israel",
          "fertility": 2.75,
          "life_expect": 80.745,
          "pop": 6276883,
          "year": 2005
         },
         {
          "cluster": 1,
          "country": "Italy",
          "fertility": 1.379,
          "life_expect": 80.546,
          "pop": 58103033,
          "year": 2005
         },
         {
          "cluster": 3,
          "country": "Jamaica",
          "fertility": 2.4289,
          "life_expect": 72.567,
          "pop": 2735520,
          "year": 2005
         },
         {
          "cluster": 4,
          "country": "Japan",
          "fertility": 1.27,
          "life_expect": 82.603,
          "pop": 127417244,
          "year": 2005
         },
         {
          "cluster": 2,
          "country": "Kenya",
          "fertility": 4.959,
          "life_expect": 54.11,
          "pop": 33829590,
          "year": 2005
         },
         {
          "cluster": 4,
          "country": "South Korea",
          "fertility": 1.85,
          "life_expect": 67.297,
          "pop": 22912177,
          "year": 2005
         },
         {
          "cluster": 4,
          "country": "North Korea",
          "fertility": 1.21,
          "life_expect": 78.623,
          "pop": 48640671,
          "year": 2005
         },
         {
          "cluster": 5,
          "country": "Lebanon",
          "fertility": 2.209,
          "life_expect": 71.993,
          "pop": 3826018,
          "year": 2005
         },
         {
          "cluster": 3,
          "country": "Mexico",
          "fertility": 2.211,
          "life_expect": 76.195,
          "pop": 106202903,
          "year": 2005
         },
         {
          "cluster": 1,
          "country": "Netherlands",
          "fertility": 1.721,
          "life_expect": 79.762,
          "pop": 16407491,
          "year": 2005
         },
         {
          "cluster": 4,
          "country": "New Zealand",
          "fertility": 1.994,
          "life_expect": 80.204,
          "pop": 4035461,
          "year": 2005
         },
         {
          "cluster": 2,
          "country": "Nigeria",
          "fertility": 5.322,
          "life_expect": 46.859,
          "pop": 128765768,
          "year": 2005
         },
         {
          "cluster": 1,
          "country": "Norway",
          "fertility": 1.8479999999999999,
          "life_expect": 80.196,
          "pop": 4593041,
          "year": 2005
         },
         {
          "cluster": 0,
          "country": "Pakistan",
          "fertility": 3.5211,
          "life_expect": 65.483,
          "pop": 162419946,
          "year": 2005
         },
         {
          "cluster": 3,
          "country": "Peru",
          "fertility": 2.5065,
          "life_expect": 71.421,
          "pop": 27925628,
          "year": 2005
         },
         {
          "cluster": 4,
          "country": "Philippines",
          "fertility": 3.2327,
          "life_expect": 71.688,
          "pop": 87857473,
          "year": 2005
         },
         {
          "cluster": 1,
          "country": "Poland",
          "fertility": 1.227,
          "life_expect": 75.563,
          "pop": 38557984,
          "year": 2005
         },
         {
          "cluster": 1,
          "country": "Portugal",
          "fertility": 1.455,
          "life_expect": 78.098,
          "pop": 10566212,
          "year": 2005
         },
         {
          "cluster": 2,
          "country": "Rwanda",
          "fertility": 5.9169,
          "life_expect": 46.242,
          "pop": 8440820,
          "year": 2005
         },
         {
          "cluster": 5,
          "country": "Saudi Arabia",
          "fertility": 3.352,
          "life_expect": 72.777,
          "pop": 26417599,
          "year": 2005
         },
         {
          "cluster": 2,
          "country": "South Africa",
          "fertility": 2.637,
          "life_expect": 49.339,
          "pop": 44344136,
          "year": 2005
         },
         {
          "cluster": 1,
          "country": "Spain",
          "fertility": 1.409,
          "life_expect": 80.941,
          "pop": 40341462,
          "year": 2005
         },
         {
          "cluster": 1,
          "country": "Switzerland",
          "fertility": 1.42,
          "life_expect": 81.701,
          "pop": 7489370,
          "year": 2005
         },
         {
          "cluster": 1,
          "country": "Turkey",
          "fertility": 2.143,
          "life_expect": 71.777,
          "pop": 69660559,
          "year": 2005
         },
         {
          "cluster": 1,
          "country": "United Kingdom",
          "fertility": 1.815,
          "life_expect": 79.425,
          "pop": 60441457,
          "year": 2005
         },
         {
          "cluster": 3,
          "country": "United States",
          "fertility": 2.054,
          "life_expect": 78.242,
          "pop": 295734134,
          "year": 2005
         },
         {
          "cluster": 3,
          "country": "Venezuela",
          "fertility": 2.547,
          "life_expect": 73.747,
          "pop": 25375281,
          "year": 2005
         }
        ]
       },
       "encoding": {
        "color": {
         "field": "cluster",
         "type": "nominal"
        },
        "opacity": {
         "value": 0.5
        },
        "size": {
         "field": "pop",
         "type": "quantitative"
        },
        "x": {
         "field": "fertility",
         "scale": {
          "zero": false
         },
         "type": "quantitative"
        },
        "y": {
         "field": "life_expect",
         "scale": {
          "zero": false
         },
         "type": "quantitative"
        }
       },
       "mark": {
        "filled": true,
        "type": "point"
       }
      },
      "image/png": "[encoded data removed]",
      "text/plain": [
       "<VegaLite 3 object>\n",
       "\n",
       "If you see this message, it means the renderer has not been properly enabled\n",
       "for the frontend that you are using. For more information, see\n",
       "https://altair-viz.github.io/user_guide/troubleshooting.html\n"
      ]
     },
     "execution_count": 16,
     "metadata": {},
     "output_type": "execute_result"
    }
   ],
   "source": [
    "# add color dimension\n",
    "# also specify data type\n",
    "### \"column.N\" = nominal aka categories\n",
    "### \"column.Q\" = quantitative aka numerical data\n",
    "### \"column.O\" = ordinal\n",
    "### \"column.T\" = temporal\n",
    "\n",
    "alt.Chart(gap2005).mark_point(filled=True).encode(\n",
    "    alt.X(\"fertility:Q\", scale=alt.Scale(zero=False)),\n",
    "    alt.Y(\"life_expect:Q\", scale=alt.Scale(zero=False)),\n",
    "    alt.Size(\"pop:Q\"),\n",
    "    alt.Color(\"cluster:N\"),\n",
    "    alt.OpacityValue(0.5)\n",
    ")"
   ]
  },
  {
   "cell_type": "code",
   "execution_count": 18,
   "metadata": {},
   "outputs": [
    {
     "data": {
      "application/vnd.vegalite.v3+json": {
       "$schema": "https://vega.github.io/schema/vega-lite/v3.4.0.json",
       "config": {
        "mark": {
         "tooltip": null
        },
        "view": {
         "height": 300,
         "width": 400
        }
       },
       "data": {
        "name": "data-ba34af65c64e2b3a5a008687b8c69f55"
       },
       "datasets": {
        "data-ba34af65c64e2b3a5a008687b8c69f55": [
         {
          "cluster": 0,
          "country": "Afghanistan",
          "fertility": 7.0685,
          "life_expect": 43.828,
          "pop": 29928987,
          "year": 2005
         },
         {
          "cluster": 3,
          "country": "Argentina",
          "fertility": 2.254,
          "life_expect": 75.32,
          "pop": 39537943,
          "year": 2005
         },
         {
          "cluster": 3,
          "country": "Aruba",
          "fertility": 2.04,
          "life_expect": 74.239,
          "pop": 71566,
          "year": 2005
         },
         {
          "cluster": 4,
          "country": "Australia",
          "fertility": 1.788,
          "life_expect": 81.235,
          "pop": 20090437,
          "year": 2005
         },
         {
          "cluster": 1,
          "country": "Austria",
          "fertility": 1.42,
          "life_expect": 79.829,
          "pop": 8184691,
          "year": 2005
         },
         {
          "cluster": 3,
          "country": "Bahamas",
          "fertility": 2.0221,
          "life_expect": 73.495,
          "pop": 301790,
          "year": 2005
         },
         {
          "cluster": 0,
          "country": "Bangladesh",
          "fertility": 2.826,
          "life_expect": 64.062,
          "pop": 144319628,
          "year": 2005
         },
         {
          "cluster": 3,
          "country": "Barbados",
          "fertility": 1.5,
          "life_expect": 77.296,
          "pop": 278870,
          "year": 2005
         },
         {
          "cluster": 1,
          "country": "Belgium",
          "fertility": 1.646,
          "life_expect": 79.441,
          "pop": 10364388,
          "year": 2005
         },
         {
          "cluster": 3,
          "country": "Bolivia",
          "fertility": 3.5,
          "life_expect": 65.554,
          "pop": 8857870,
          "year": 2005
         },
         {
          "cluster": 3,
          "country": "Brazil",
          "fertility": 2.245,
          "life_expect": 72.39,
          "pop": 186112794,
          "year": 2005
         },
         {
          "cluster": 3,
          "country": "Canada",
          "fertility": 1.5270000000000001,
          "life_expect": 80.653,
          "pop": 32805041,
          "year": 2005
         },
         {
          "cluster": 3,
          "country": "Chile",
          "fertility": 1.944,
          "life_expect": 78.553,
          "pop": 15980912,
          "year": 2005
         },
         {
          "cluster": 4,
          "country": "China",
          "fertility": 1.725,
          "life_expect": 72.961,
          "pop": 1303182268,
          "year": 2005
         },
         {
          "cluster": 3,
          "country": "Colombia",
          "fertility": 2.2205,
          "life_expect": 72.889,
          "pop": 42954279,
          "year": 2005
         },
         {
          "cluster": 3,
          "country": "Costa Rica",
          "fertility": 2.0985,
          "life_expect": 78.782,
          "pop": 4016173,
          "year": 2005
         },
         {
          "cluster": 1,
          "country": "Croatia",
          "fertility": 1.346,
          "life_expect": 75.748,
          "pop": 4495904,
          "year": 2005
         },
         {
          "cluster": 3,
          "country": "Cuba",
          "fertility": 1.49,
          "life_expect": 78.273,
          "pop": 11346670,
          "year": 2005
         },
         {
          "cluster": 3,
          "country": "Dominican Republic",
          "fertility": 2.81,
          "life_expect": 72.235,
          "pop": 9049595,
          "year": 2005
         },
         {
          "cluster": 3,
          "country": "Ecuador",
          "fertility": 2.578,
          "life_expect": 74.994,
          "pop": 13363593,
          "year": 2005
         },
         {
          "cluster": 5,
          "country": "Egypt",
          "fertility": 2.891,
          "life_expect": 71.338,
          "pop": 77505756,
          "year": 2005
         },
         {
          "cluster": 3,
          "country": "El Salvador",
          "fertility": 2.6825,
          "life_expect": 71.878,
          "pop": 6704932,
          "year": 2005
         },
         {
          "cluster": 1,
          "country": "Finland",
          "fertility": 1.8250000000000002,
          "life_expect": 79.313,
          "pop": 5223442,
          "year": 2005
         },
         {
          "cluster": 1,
          "country": "France",
          "fertility": 1.8916,
          "life_expect": 80.657,
          "pop": 60656178,
          "year": 2005
         },
         {
          "cluster": 1,
          "country": "Georgia",
          "fertility": 1.407,
          "life_expect": 70.987,
          "pop": 4677401,
          "year": 2005
         },
         {
          "cluster": 1,
          "country": "Germany",
          "fertility": 1.3599999999999999,
          "life_expect": 79.406,
          "pop": 82431390,
          "year": 2005
         },
         {
          "cluster": 1,
          "country": "Greece",
          "fertility": 1.325,
          "life_expect": 79.483,
          "pop": 10668354,
          "year": 2005
         },
         {
          "cluster": 3,
          "country": "Grenada",
          "fertility": 2.302,
          "life_expect": 68.724,
          "pop": 89502,
          "year": 2005
         },
         {
          "cluster": 3,
          "country": "Haiti",
          "fertility": 3.5445,
          "life_expect": 60.916,
          "pop": 8121622,
          "year": 2005
         },
         {
          "cluster": 4,
          "country": "Hong Kong",
          "fertility": 0.966,
          "life_expect": 82.208,
          "pop": 6898686,
          "year": 2005
         },
         {
          "cluster": 1,
          "country": "Iceland",
          "fertility": 2.052,
          "life_expect": 81.757,
          "pop": 296737,
          "year": 2005
         },
         {
          "cluster": 0,
          "country": "India",
          "fertility": 2.8073,
          "life_expect": 64.698,
          "pop": 1080264388,
          "year": 2005
         },
         {
          "cluster": 4,
          "country": "Indonesia",
          "fertility": 2.182,
          "life_expect": 70.65,
          "pop": 218465000,
          "year": 2005
         },
         {
          "cluster": 5,
          "country": "Iran",
          "fertility": 2.04,
          "life_expect": 70.964,
          "pop": 68017860,
          "year": 2005
         },
         {
          "cluster": 5,
          "country": "Iraq",
          "fertility": 4.264,
          "life_expect": 59.545,
          "pop": 26074906,
          "year": 2005
         },
         {
          "cluster": 1,
          "country": "Ireland",
          "fertility": 1.964,
          "life_expect": 78.885,
          "pop": 4015676,
          "year": 2005
         },
         {
          "cluster": 5,
          "country": "Israel",
          "fertility": 2.75,
          "life_expect": 80.745,
          "pop": 6276883,
          "year": 2005
         },
         {
          "cluster": 1,
          "country": "Italy",
          "fertility": 1.379,
          "life_expect": 80.546,
          "pop": 58103033,
          "year": 2005
         },
         {
          "cluster": 3,
          "country": "Jamaica",
          "fertility": 2.4289,
          "life_expect": 72.567,
          "pop": 2735520,
          "year": 2005
         },
         {
          "cluster": 4,
          "country": "Japan",
          "fertility": 1.27,
          "life_expect": 82.603,
          "pop": 127417244,
          "year": 2005
         },
         {
          "cluster": 2,
          "country": "Kenya",
          "fertility": 4.959,
          "life_expect": 54.11,
          "pop": 33829590,
          "year": 2005
         },
         {
          "cluster": 4,
          "country": "South Korea",
          "fertility": 1.85,
          "life_expect": 67.297,
          "pop": 22912177,
          "year": 2005
         },
         {
          "cluster": 4,
          "country": "North Korea",
          "fertility": 1.21,
          "life_expect": 78.623,
          "pop": 48640671,
          "year": 2005
         },
         {
          "cluster": 5,
          "country": "Lebanon",
          "fertility": 2.209,
          "life_expect": 71.993,
          "pop": 3826018,
          "year": 2005
         },
         {
          "cluster": 3,
          "country": "Mexico",
          "fertility": 2.211,
          "life_expect": 76.195,
          "pop": 106202903,
          "year": 2005
         },
         {
          "cluster": 1,
          "country": "Netherlands",
          "fertility": 1.721,
          "life_expect": 79.762,
          "pop": 16407491,
          "year": 2005
         },
         {
          "cluster": 4,
          "country": "New Zealand",
          "fertility": 1.994,
          "life_expect": 80.204,
          "pop": 4035461,
          "year": 2005
         },
         {
          "cluster": 2,
          "country": "Nigeria",
          "fertility": 5.322,
          "life_expect": 46.859,
          "pop": 128765768,
          "year": 2005
         },
         {
          "cluster": 1,
          "country": "Norway",
          "fertility": 1.8479999999999999,
          "life_expect": 80.196,
          "pop": 4593041,
          "year": 2005
         },
         {
          "cluster": 0,
          "country": "Pakistan",
          "fertility": 3.5211,
          "life_expect": 65.483,
          "pop": 162419946,
          "year": 2005
         },
         {
          "cluster": 3,
          "country": "Peru",
          "fertility": 2.5065,
          "life_expect": 71.421,
          "pop": 27925628,
          "year": 2005
         },
         {
          "cluster": 4,
          "country": "Philippines",
          "fertility": 3.2327,
          "life_expect": 71.688,
          "pop": 87857473,
          "year": 2005
         },
         {
          "cluster": 1,
          "country": "Poland",
          "fertility": 1.227,
          "life_expect": 75.563,
          "pop": 38557984,
          "year": 2005
         },
         {
          "cluster": 1,
          "country": "Portugal",
          "fertility": 1.455,
          "life_expect": 78.098,
          "pop": 10566212,
          "year": 2005
         },
         {
          "cluster": 2,
          "country": "Rwanda",
          "fertility": 5.9169,
          "life_expect": 46.242,
          "pop": 8440820,
          "year": 2005
         },
         {
          "cluster": 5,
          "country": "Saudi Arabia",
          "fertility": 3.352,
          "life_expect": 72.777,
          "pop": 26417599,
          "year": 2005
         },
         {
          "cluster": 2,
          "country": "South Africa",
          "fertility": 2.637,
          "life_expect": 49.339,
          "pop": 44344136,
          "year": 2005
         },
         {
          "cluster": 1,
          "country": "Spain",
          "fertility": 1.409,
          "life_expect": 80.941,
          "pop": 40341462,
          "year": 2005
         },
         {
          "cluster": 1,
          "country": "Switzerland",
          "fertility": 1.42,
          "life_expect": 81.701,
          "pop": 7489370,
          "year": 2005
         },
         {
          "cluster": 1,
          "country": "Turkey",
          "fertility": 2.143,
          "life_expect": 71.777,
          "pop": 69660559,
          "year": 2005
         },
         {
          "cluster": 1,
          "country": "United Kingdom",
          "fertility": 1.815,
          "life_expect": 79.425,
          "pop": 60441457,
          "year": 2005
         },
         {
          "cluster": 3,
          "country": "United States",
          "fertility": 2.054,
          "life_expect": 78.242,
          "pop": 295734134,
          "year": 2005
         },
         {
          "cluster": 3,
          "country": "Venezuela",
          "fertility": 2.547,
          "life_expect": 73.747,
          "pop": 25375281,
          "year": 2005
         }
        ]
       },
       "encoding": {
        "color": {
         "field": "cluster",
         "type": "nominal"
        },
        "opacity": {
         "value": 0.5
        },
        "order": {
         "field": "pop",
         "sort": "descending",
         "type": "quantitative"
        },
        "size": {
         "field": "pop",
         "type": "quantitative"
        },
        "tooltip": [
         {
          "field": "country",
          "type": "nominal"
         },
         {
          "field": "fertility",
          "type": "quantitative"
         },
         {
          "field": "life_expect",
          "type": "quantitative"
         }
        ],
        "x": {
         "field": "fertility",
         "scale": {
          "zero": false
         },
         "type": "quantitative"
        },
        "y": {
         "field": "life_expect",
         "scale": {
          "zero": false
         },
         "type": "quantitative"
        }
       },
       "mark": {
        "filled": true,
        "type": "point"
       }
      },
      "image/png": "[encoded data removed]",
      "text/plain": [
       "<VegaLite 3 object>\n",
       "\n",
       "If you see this message, it means the renderer has not been properly enabled\n",
       "for the frontend that you are using. For more information, see\n",
       "https://altair-viz.github.io/user_guide/troubleshooting.html\n"
      ]
     },
     "execution_count": 18,
     "metadata": {},
     "output_type": "execute_result"
    }
   ],
   "source": [
    "# adding tooltips on hover\n",
    "alt.Chart(gap2005).mark_point(filled=True).encode(\n",
    "    alt.X('fertility:Q', scale=alt.Scale(zero=False)),\n",
    "    alt.Y('life_expect:Q', scale=alt.Scale(zero=False)),\n",
    "    alt.Size('pop:Q'),\n",
    "    alt.Color('cluster:N'),\n",
    "    alt.OpacityValue(0.5),\n",
    "    alt.Order('pop:Q', sort='descending'),\n",
    "    tooltip = [alt.Tooltip('country:N'),\n",
    "               alt.Tooltip('fertility:Q'),\n",
    "               alt.Tooltip('life_expect:Q')]\n",
    ")"
   ]
  },
  {
   "cell_type": "markdown",
   "metadata": {},
   "source": [
    "# Adding interactivity"
   ]
  },
  {
   "cell_type": "markdown",
   "metadata": {},
   "source": [
    "### Select single point\n",
    "alt.selection_single() enables us to click one point to highlight it.\n",
    "Also use alt.condition() bc we want other points to be greyed out."
   ]
  },
  {
   "cell_type": "code",
   "execution_count": 19,
   "metadata": {},
   "outputs": [
    {
     "data": {
      "application/vnd.vegalite.v3+json": {
       "$schema": "https://vega.github.io/schema/vega-lite/v3.4.0.json",
       "config": {
        "mark": {
         "tooltip": null
        },
        "view": {
         "height": 300,
         "width": 400
        }
       },
       "data": {
        "name": "data-ba34af65c64e2b3a5a008687b8c69f55"
       },
       "datasets": {
        "data-ba34af65c64e2b3a5a008687b8c69f55": [
         {
          "cluster": 0,
          "country": "Afghanistan",
          "fertility": 7.0685,
          "life_expect": 43.828,
          "pop": 29928987,
          "year": 2005
         },
         {
          "cluster": 3,
          "country": "Argentina",
          "fertility": 2.254,
          "life_expect": 75.32,
          "pop": 39537943,
          "year": 2005
         },
         {
          "cluster": 3,
          "country": "Aruba",
          "fertility": 2.04,
          "life_expect": 74.239,
          "pop": 71566,
          "year": 2005
         },
         {
          "cluster": 4,
          "country": "Australia",
          "fertility": 1.788,
          "life_expect": 81.235,
          "pop": 20090437,
          "year": 2005
         },
         {
          "cluster": 1,
          "country": "Austria",
          "fertility": 1.42,
          "life_expect": 79.829,
          "pop": 8184691,
          "year": 2005
         },
         {
          "cluster": 3,
          "country": "Bahamas",
          "fertility": 2.0221,
          "life_expect": 73.495,
          "pop": 301790,
          "year": 2005
         },
         {
          "cluster": 0,
          "country": "Bangladesh",
          "fertility": 2.826,
          "life_expect": 64.062,
          "pop": 144319628,
          "year": 2005
         },
         {
          "cluster": 3,
          "country": "Barbados",
          "fertility": 1.5,
          "life_expect": 77.296,
          "pop": 278870,
          "year": 2005
         },
         {
          "cluster": 1,
          "country": "Belgium",
          "fertility": 1.646,
          "life_expect": 79.441,
          "pop": 10364388,
          "year": 2005
         },
         {
          "cluster": 3,
          "country": "Bolivia",
          "fertility": 3.5,
          "life_expect": 65.554,
          "pop": 8857870,
          "year": 2005
         },
         {
          "cluster": 3,
          "country": "Brazil",
          "fertility": 2.245,
          "life_expect": 72.39,
          "pop": 186112794,
          "year": 2005
         },
         {
          "cluster": 3,
          "country": "Canada",
          "fertility": 1.5270000000000001,
          "life_expect": 80.653,
          "pop": 32805041,
          "year": 2005
         },
         {
          "cluster": 3,
          "country": "Chile",
          "fertility": 1.944,
          "life_expect": 78.553,
          "pop": 15980912,
          "year": 2005
         },
         {
          "cluster": 4,
          "country": "China",
          "fertility": 1.725,
          "life_expect": 72.961,
          "pop": 1303182268,
          "year": 2005
         },
         {
          "cluster": 3,
          "country": "Colombia",
          "fertility": 2.2205,
          "life_expect": 72.889,
          "pop": 42954279,
          "year": 2005
         },
         {
          "cluster": 3,
          "country": "Costa Rica",
          "fertility": 2.0985,
          "life_expect": 78.782,
          "pop": 4016173,
          "year": 2005
         },
         {
          "cluster": 1,
          "country": "Croatia",
          "fertility": 1.346,
          "life_expect": 75.748,
          "pop": 4495904,
          "year": 2005
         },
         {
          "cluster": 3,
          "country": "Cuba",
          "fertility": 1.49,
          "life_expect": 78.273,
          "pop": 11346670,
          "year": 2005
         },
         {
          "cluster": 3,
          "country": "Dominican Republic",
          "fertility": 2.81,
          "life_expect": 72.235,
          "pop": 9049595,
          "year": 2005
         },
         {
          "cluster": 3,
          "country": "Ecuador",
          "fertility": 2.578,
          "life_expect": 74.994,
          "pop": 13363593,
          "year": 2005
         },
         {
          "cluster": 5,
          "country": "Egypt",
          "fertility": 2.891,
          "life_expect": 71.338,
          "pop": 77505756,
          "year": 2005
         },
         {
          "cluster": 3,
          "country": "El Salvador",
          "fertility": 2.6825,
          "life_expect": 71.878,
          "pop": 6704932,
          "year": 2005
         },
         {
          "cluster": 1,
          "country": "Finland",
          "fertility": 1.8250000000000002,
          "life_expect": 79.313,
          "pop": 5223442,
          "year": 2005
         },
         {
          "cluster": 1,
          "country": "France",
          "fertility": 1.8916,
          "life_expect": 80.657,
          "pop": 60656178,
          "year": 2005
         },
         {
          "cluster": 1,
          "country": "Georgia",
          "fertility": 1.407,
          "life_expect": 70.987,
          "pop": 4677401,
          "year": 2005
         },
         {
          "cluster": 1,
          "country": "Germany",
          "fertility": 1.3599999999999999,
          "life_expect": 79.406,
          "pop": 82431390,
          "year": 2005
         },
         {
          "cluster": 1,
          "country": "Greece",
          "fertility": 1.325,
          "life_expect": 79.483,
          "pop": 10668354,
          "year": 2005
         },
         {
          "cluster": 3,
          "country": "Grenada",
          "fertility": 2.302,
          "life_expect": 68.724,
          "pop": 89502,
          "year": 2005
         },
         {
          "cluster": 3,
          "country": "Haiti",
          "fertility": 3.5445,
          "life_expect": 60.916,
          "pop": 8121622,
          "year": 2005
         },
         {
          "cluster": 4,
          "country": "Hong Kong",
          "fertility": 0.966,
          "life_expect": 82.208,
          "pop": 6898686,
          "year": 2005
         },
         {
          "cluster": 1,
          "country": "Iceland",
          "fertility": 2.052,
          "life_expect": 81.757,
          "pop": 296737,
          "year": 2005
         },
         {
          "cluster": 0,
          "country": "India",
          "fertility": 2.8073,
          "life_expect": 64.698,
          "pop": 1080264388,
          "year": 2005
         },
         {
          "cluster": 4,
          "country": "Indonesia",
          "fertility": 2.182,
          "life_expect": 70.65,
          "pop": 218465000,
          "year": 2005
         },
         {
          "cluster": 5,
          "country": "Iran",
          "fertility": 2.04,
          "life_expect": 70.964,
          "pop": 68017860,
          "year": 2005
         },
         {
          "cluster": 5,
          "country": "Iraq",
          "fertility": 4.264,
          "life_expect": 59.545,
          "pop": 26074906,
          "year": 2005
         },
         {
          "cluster": 1,
          "country": "Ireland",
          "fertility": 1.964,
          "life_expect": 78.885,
          "pop": 4015676,
          "year": 2005
         },
         {
          "cluster": 5,
          "country": "Israel",
          "fertility": 2.75,
          "life_expect": 80.745,
          "pop": 6276883,
          "year": 2005
         },
         {
          "cluster": 1,
          "country": "Italy",
          "fertility": 1.379,
          "life_expect": 80.546,
          "pop": 58103033,
          "year": 2005
         },
         {
          "cluster": 3,
          "country": "Jamaica",
          "fertility": 2.4289,
          "life_expect": 72.567,
          "pop": 2735520,
          "year": 2005
         },
         {
          "cluster": 4,
          "country": "Japan",
          "fertility": 1.27,
          "life_expect": 82.603,
          "pop": 127417244,
          "year": 2005
         },
         {
          "cluster": 2,
          "country": "Kenya",
          "fertility": 4.959,
          "life_expect": 54.11,
          "pop": 33829590,
          "year": 2005
         },
         {
          "cluster": 4,
          "country": "South Korea",
          "fertility": 1.85,
          "life_expect": 67.297,
          "pop": 22912177,
          "year": 2005
         },
         {
          "cluster": 4,
          "country": "North Korea",
          "fertility": 1.21,
          "life_expect": 78.623,
          "pop": 48640671,
          "year": 2005
         },
         {
          "cluster": 5,
          "country": "Lebanon",
          "fertility": 2.209,
          "life_expect": 71.993,
          "pop": 3826018,
          "year": 2005
         },
         {
          "cluster": 3,
          "country": "Mexico",
          "fertility": 2.211,
          "life_expect": 76.195,
          "pop": 106202903,
          "year": 2005
         },
         {
          "cluster": 1,
          "country": "Netherlands",
          "fertility": 1.721,
          "life_expect": 79.762,
          "pop": 16407491,
          "year": 2005
         },
         {
          "cluster": 4,
          "country": "New Zealand",
          "fertility": 1.994,
          "life_expect": 80.204,
          "pop": 4035461,
          "year": 2005
         },
         {
          "cluster": 2,
          "country": "Nigeria",
          "fertility": 5.322,
          "life_expect": 46.859,
          "pop": 128765768,
          "year": 2005
         },
         {
          "cluster": 1,
          "country": "Norway",
          "fertility": 1.8479999999999999,
          "life_expect": 80.196,
          "pop": 4593041,
          "year": 2005
         },
         {
          "cluster": 0,
          "country": "Pakistan",
          "fertility": 3.5211,
          "life_expect": 65.483,
          "pop": 162419946,
          "year": 2005
         },
         {
          "cluster": 3,
          "country": "Peru",
          "fertility": 2.5065,
          "life_expect": 71.421,
          "pop": 27925628,
          "year": 2005
         },
         {
          "cluster": 4,
          "country": "Philippines",
          "fertility": 3.2327,
          "life_expect": 71.688,
          "pop": 87857473,
          "year": 2005
         },
         {
          "cluster": 1,
          "country": "Poland",
          "fertility": 1.227,
          "life_expect": 75.563,
          "pop": 38557984,
          "year": 2005
         },
         {
          "cluster": 1,
          "country": "Portugal",
          "fertility": 1.455,
          "life_expect": 78.098,
          "pop": 10566212,
          "year": 2005
         },
         {
          "cluster": 2,
          "country": "Rwanda",
          "fertility": 5.9169,
          "life_expect": 46.242,
          "pop": 8440820,
          "year": 2005
         },
         {
          "cluster": 5,
          "country": "Saudi Arabia",
          "fertility": 3.352,
          "life_expect": 72.777,
          "pop": 26417599,
          "year": 2005
         },
         {
          "cluster": 2,
          "country": "South Africa",
          "fertility": 2.637,
          "life_expect": 49.339,
          "pop": 44344136,
          "year": 2005
         },
         {
          "cluster": 1,
          "country": "Spain",
          "fertility": 1.409,
          "life_expect": 80.941,
          "pop": 40341462,
          "year": 2005
         },
         {
          "cluster": 1,
          "country": "Switzerland",
          "fertility": 1.42,
          "life_expect": 81.701,
          "pop": 7489370,
          "year": 2005
         },
         {
          "cluster": 1,
          "country": "Turkey",
          "fertility": 2.143,
          "life_expect": 71.777,
          "pop": 69660559,
          "year": 2005
         },
         {
          "cluster": 1,
          "country": "United Kingdom",
          "fertility": 1.815,
          "life_expect": 79.425,
          "pop": 60441457,
          "year": 2005
         },
         {
          "cluster": 3,
          "country": "United States",
          "fertility": 2.054,
          "life_expect": 78.242,
          "pop": 295734134,
          "year": 2005
         },
         {
          "cluster": 3,
          "country": "Venezuela",
          "fertility": 2.547,
          "life_expect": 73.747,
          "pop": 25375281,
          "year": 2005
         }
        ]
       },
       "encoding": {
        "color": {
         "condition": {
          "field": "cluster",
          "selection": "selector001",
          "type": "nominal"
         },
         "value": "grey"
        },
        "order": {
         "field": "pop",
         "sort": "descending",
         "type": "quantitative"
        },
        "size": {
         "field": "pop",
         "type": "quantitative"
        },
        "tooltip": [
         {
          "field": "country",
          "type": "nominal"
         },
         {
          "field": "fertility",
          "type": "quantitative"
         },
         {
          "field": "life_expect",
          "type": "quantitative"
         }
        ],
        "x": {
         "field": "fertility",
         "scale": {
          "zero": false
         },
         "type": "quantitative"
        },
        "y": {
         "field": "life_expect",
         "scale": {
          "zero": false
         },
         "type": "quantitative"
        }
       },
       "mark": {
        "filled": true,
        "type": "point"
       },
       "selection": {
        "selector001": {
         "type": "single"
        }
       }
      },
      "image/png": "[encoded data removed]",
      "text/plain": [
       "<VegaLite 3 object>\n",
       "\n",
       "If you see this message, it means the renderer has not been properly enabled\n",
       "for the frontend that you are using. For more information, see\n",
       "https://altair-viz.github.io/user_guide/troubleshooting.html\n"
      ]
     },
     "execution_count": 19,
     "metadata": {},
     "output_type": "execute_result"
    }
   ],
   "source": [
    "selection = alt.selection_single();\n",
    "alt.Chart(gap2005).mark_point(filled=True).encode(\n",
    "    alt.X('fertility:Q', scale=alt.Scale(zero=False)),\n",
    "    alt.Y('life_expect:Q', scale=alt.Scale(zero=False)),\n",
    "    alt.Size('pop:Q'),\n",
    "    alt.Order('pop:Q', sort='descending'),\n",
    "    tooltip = [alt.Tooltip('country:N'),\n",
    "               alt.Tooltip('fertility:Q'),\n",
    "               alt.Tooltip('life_expect:Q')],\n",
    "    color=alt.condition(selection, 'cluster:N', alt.value('grey'))\n",
    ").add_selection(selection)"
   ]
  },
  {
   "cell_type": "markdown",
   "metadata": {},
   "source": [
    "### Selecting multiple points\n",
    "Use alt.selection_multi() or alt.selection_interval()"
   ]
  },
  {
   "cell_type": "code",
   "execution_count": 20,
   "metadata": {},
   "outputs": [],
   "source": [
    "def plot(selection):\n",
    "    return alt.Chart(gap2005).mark_point(filled=True).encode(\n",
    "    alt.X('fertility:Q', scale=alt.Scale(zero=False)),\n",
    "    alt.Y('life_expect:Q', scale=alt.Scale(zero=False)),\n",
    "    alt.Size('pop:Q'),\n",
    "    alt.Order('pop:Q', sort='descending'),\n",
    "    tooltip = [alt.Tooltip('country:N'),\n",
    "               alt.Tooltip('fertility:Q'),\n",
    "               alt.Tooltip('life_expect:Q')],\n",
    "    color=alt.condition(selection, 'cluster:N', alt.value('grey'))\n",
    ").add_selection(selection)"
   ]
  },
  {
   "cell_type": "code",
   "execution_count": 21,
   "metadata": {},
   "outputs": [
    {
     "data": {
      "application/vnd.vegalite.v3+json": {
       "$schema": "https://vega.github.io/schema/vega-lite/v3.4.0.json",
       "config": {
        "mark": {
         "tooltip": null
        },
        "view": {
         "height": 300,
         "width": 400
        }
       },
       "data": {
        "name": "data-ba34af65c64e2b3a5a008687b8c69f55"
       },
       "datasets": {
        "data-ba34af65c64e2b3a5a008687b8c69f55": [
         {
          "cluster": 0,
          "country": "Afghanistan",
          "fertility": 7.0685,
          "life_expect": 43.828,
          "pop": 29928987,
          "year": 2005
         },
         {
          "cluster": 3,
          "country": "Argentina",
          "fertility": 2.254,
          "life_expect": 75.32,
          "pop": 39537943,
          "year": 2005
         },
         {
          "cluster": 3,
          "country": "Aruba",
          "fertility": 2.04,
          "life_expect": 74.239,
          "pop": 71566,
          "year": 2005
         },
         {
          "cluster": 4,
          "country": "Australia",
          "fertility": 1.788,
          "life_expect": 81.235,
          "pop": 20090437,
          "year": 2005
         },
         {
          "cluster": 1,
          "country": "Austria",
          "fertility": 1.42,
          "life_expect": 79.829,
          "pop": 8184691,
          "year": 2005
         },
         {
          "cluster": 3,
          "country": "Bahamas",
          "fertility": 2.0221,
          "life_expect": 73.495,
          "pop": 301790,
          "year": 2005
         },
         {
          "cluster": 0,
          "country": "Bangladesh",
          "fertility": 2.826,
          "life_expect": 64.062,
          "pop": 144319628,
          "year": 2005
         },
         {
          "cluster": 3,
          "country": "Barbados",
          "fertility": 1.5,
          "life_expect": 77.296,
          "pop": 278870,
          "year": 2005
         },
         {
          "cluster": 1,
          "country": "Belgium",
          "fertility": 1.646,
          "life_expect": 79.441,
          "pop": 10364388,
          "year": 2005
         },
         {
          "cluster": 3,
          "country": "Bolivia",
          "fertility": 3.5,
          "life_expect": 65.554,
          "pop": 8857870,
          "year": 2005
         },
         {
          "cluster": 3,
          "country": "Brazil",
          "fertility": 2.245,
          "life_expect": 72.39,
          "pop": 186112794,
          "year": 2005
         },
         {
          "cluster": 3,
          "country": "Canada",
          "fertility": 1.5270000000000001,
          "life_expect": 80.653,
          "pop": 32805041,
          "year": 2005
         },
         {
          "cluster": 3,
          "country": "Chile",
          "fertility": 1.944,
          "life_expect": 78.553,
          "pop": 15980912,
          "year": 2005
         },
         {
          "cluster": 4,
          "country": "China",
          "fertility": 1.725,
          "life_expect": 72.961,
          "pop": 1303182268,
          "year": 2005
         },
         {
          "cluster": 3,
          "country": "Colombia",
          "fertility": 2.2205,
          "life_expect": 72.889,
          "pop": 42954279,
          "year": 2005
         },
         {
          "cluster": 3,
          "country": "Costa Rica",
          "fertility": 2.0985,
          "life_expect": 78.782,
          "pop": 4016173,
          "year": 2005
         },
         {
          "cluster": 1,
          "country": "Croatia",
          "fertility": 1.346,
          "life_expect": 75.748,
          "pop": 4495904,
          "year": 2005
         },
         {
          "cluster": 3,
          "country": "Cuba",
          "fertility": 1.49,
          "life_expect": 78.273,
          "pop": 11346670,
          "year": 2005
         },
         {
          "cluster": 3,
          "country": "Dominican Republic",
          "fertility": 2.81,
          "life_expect": 72.235,
          "pop": 9049595,
          "year": 2005
         },
         {
          "cluster": 3,
          "country": "Ecuador",
          "fertility": 2.578,
          "life_expect": 74.994,
          "pop": 13363593,
          "year": 2005
         },
         {
          "cluster": 5,
          "country": "Egypt",
          "fertility": 2.891,
          "life_expect": 71.338,
          "pop": 77505756,
          "year": 2005
         },
         {
          "cluster": 3,
          "country": "El Salvador",
          "fertility": 2.6825,
          "life_expect": 71.878,
          "pop": 6704932,
          "year": 2005
         },
         {
          "cluster": 1,
          "country": "Finland",
          "fertility": 1.8250000000000002,
          "life_expect": 79.313,
          "pop": 5223442,
          "year": 2005
         },
         {
          "cluster": 1,
          "country": "France",
          "fertility": 1.8916,
          "life_expect": 80.657,
          "pop": 60656178,
          "year": 2005
         },
         {
          "cluster": 1,
          "country": "Georgia",
          "fertility": 1.407,
          "life_expect": 70.987,
          "pop": 4677401,
          "year": 2005
         },
         {
          "cluster": 1,
          "country": "Germany",
          "fertility": 1.3599999999999999,
          "life_expect": 79.406,
          "pop": 82431390,
          "year": 2005
         },
         {
          "cluster": 1,
          "country": "Greece",
          "fertility": 1.325,
          "life_expect": 79.483,
          "pop": 10668354,
          "year": 2005
         },
         {
          "cluster": 3,
          "country": "Grenada",
          "fertility": 2.302,
          "life_expect": 68.724,
          "pop": 89502,
          "year": 2005
         },
         {
          "cluster": 3,
          "country": "Haiti",
          "fertility": 3.5445,
          "life_expect": 60.916,
          "pop": 8121622,
          "year": 2005
         },
         {
          "cluster": 4,
          "country": "Hong Kong",
          "fertility": 0.966,
          "life_expect": 82.208,
          "pop": 6898686,
          "year": 2005
         },
         {
          "cluster": 1,
          "country": "Iceland",
          "fertility": 2.052,
          "life_expect": 81.757,
          "pop": 296737,
          "year": 2005
         },
         {
          "cluster": 0,
          "country": "India",
          "fertility": 2.8073,
          "life_expect": 64.698,
          "pop": 1080264388,
          "year": 2005
         },
         {
          "cluster": 4,
          "country": "Indonesia",
          "fertility": 2.182,
          "life_expect": 70.65,
          "pop": 218465000,
          "year": 2005
         },
         {
          "cluster": 5,
          "country": "Iran",
          "fertility": 2.04,
          "life_expect": 70.964,
          "pop": 68017860,
          "year": 2005
         },
         {
          "cluster": 5,
          "country": "Iraq",
          "fertility": 4.264,
          "life_expect": 59.545,
          "pop": 26074906,
          "year": 2005
         },
         {
          "cluster": 1,
          "country": "Ireland",
          "fertility": 1.964,
          "life_expect": 78.885,
          "pop": 4015676,
          "year": 2005
         },
         {
          "cluster": 5,
          "country": "Israel",
          "fertility": 2.75,
          "life_expect": 80.745,
          "pop": 6276883,
          "year": 2005
         },
         {
          "cluster": 1,
          "country": "Italy",
          "fertility": 1.379,
          "life_expect": 80.546,
          "pop": 58103033,
          "year": 2005
         },
         {
          "cluster": 3,
          "country": "Jamaica",
          "fertility": 2.4289,
          "life_expect": 72.567,
          "pop": 2735520,
          "year": 2005
         },
         {
          "cluster": 4,
          "country": "Japan",
          "fertility": 1.27,
          "life_expect": 82.603,
          "pop": 127417244,
          "year": 2005
         },
         {
          "cluster": 2,
          "country": "Kenya",
          "fertility": 4.959,
          "life_expect": 54.11,
          "pop": 33829590,
          "year": 2005
         },
         {
          "cluster": 4,
          "country": "South Korea",
          "fertility": 1.85,
          "life_expect": 67.297,
          "pop": 22912177,
          "year": 2005
         },
         {
          "cluster": 4,
          "country": "North Korea",
          "fertility": 1.21,
          "life_expect": 78.623,
          "pop": 48640671,
          "year": 2005
         },
         {
          "cluster": 5,
          "country": "Lebanon",
          "fertility": 2.209,
          "life_expect": 71.993,
          "pop": 3826018,
          "year": 2005
         },
         {
          "cluster": 3,
          "country": "Mexico",
          "fertility": 2.211,
          "life_expect": 76.195,
          "pop": 106202903,
          "year": 2005
         },
         {
          "cluster": 1,
          "country": "Netherlands",
          "fertility": 1.721,
          "life_expect": 79.762,
          "pop": 16407491,
          "year": 2005
         },
         {
          "cluster": 4,
          "country": "New Zealand",
          "fertility": 1.994,
          "life_expect": 80.204,
          "pop": 4035461,
          "year": 2005
         },
         {
          "cluster": 2,
          "country": "Nigeria",
          "fertility": 5.322,
          "life_expect": 46.859,
          "pop": 128765768,
          "year": 2005
         },
         {
          "cluster": 1,
          "country": "Norway",
          "fertility": 1.8479999999999999,
          "life_expect": 80.196,
          "pop": 4593041,
          "year": 2005
         },
         {
          "cluster": 0,
          "country": "Pakistan",
          "fertility": 3.5211,
          "life_expect": 65.483,
          "pop": 162419946,
          "year": 2005
         },
         {
          "cluster": 3,
          "country": "Peru",
          "fertility": 2.5065,
          "life_expect": 71.421,
          "pop": 27925628,
          "year": 2005
         },
         {
          "cluster": 4,
          "country": "Philippines",
          "fertility": 3.2327,
          "life_expect": 71.688,
          "pop": 87857473,
          "year": 2005
         },
         {
          "cluster": 1,
          "country": "Poland",
          "fertility": 1.227,
          "life_expect": 75.563,
          "pop": 38557984,
          "year": 2005
         },
         {
          "cluster": 1,
          "country": "Portugal",
          "fertility": 1.455,
          "life_expect": 78.098,
          "pop": 10566212,
          "year": 2005
         },
         {
          "cluster": 2,
          "country": "Rwanda",
          "fertility": 5.9169,
          "life_expect": 46.242,
          "pop": 8440820,
          "year": 2005
         },
         {
          "cluster": 5,
          "country": "Saudi Arabia",
          "fertility": 3.352,
          "life_expect": 72.777,
          "pop": 26417599,
          "year": 2005
         },
         {
          "cluster": 2,
          "country": "South Africa",
          "fertility": 2.637,
          "life_expect": 49.339,
          "pop": 44344136,
          "year": 2005
         },
         {
          "cluster": 1,
          "country": "Spain",
          "fertility": 1.409,
          "life_expect": 80.941,
          "pop": 40341462,
          "year": 2005
         },
         {
          "cluster": 1,
          "country": "Switzerland",
          "fertility": 1.42,
          "life_expect": 81.701,
          "pop": 7489370,
          "year": 2005
         },
         {
          "cluster": 1,
          "country": "Turkey",
          "fertility": 2.143,
          "life_expect": 71.777,
          "pop": 69660559,
          "year": 2005
         },
         {
          "cluster": 1,
          "country": "United Kingdom",
          "fertility": 1.815,
          "life_expect": 79.425,
          "pop": 60441457,
          "year": 2005
         },
         {
          "cluster": 3,
          "country": "United States",
          "fertility": 2.054,
          "life_expect": 78.242,
          "pop": 295734134,
          "year": 2005
         },
         {
          "cluster": 3,
          "country": "Venezuela",
          "fertility": 2.547,
          "life_expect": 73.747,
          "pop": 25375281,
          "year": 2005
         }
        ]
       },
       "hconcat": [
        {
         "encoding": {
          "color": {
           "condition": {
            "field": "cluster",
            "selection": "selector002",
            "type": "nominal"
           },
           "value": "grey"
          },
          "order": {
           "field": "pop",
           "sort": "descending",
           "type": "quantitative"
          },
          "size": {
           "field": "pop",
           "type": "quantitative"
          },
          "tooltip": [
           {
            "field": "country",
            "type": "nominal"
           },
           {
            "field": "fertility",
            "type": "quantitative"
           },
           {
            "field": "life_expect",
            "type": "quantitative"
           }
          ],
          "x": {
           "field": "fertility",
           "scale": {
            "zero": false
           },
           "type": "quantitative"
          },
          "y": {
           "field": "life_expect",
           "scale": {
            "zero": false
           },
           "type": "quantitative"
          }
         },
         "mark": {
          "filled": true,
          "type": "point"
         },
         "selection": {
          "selector002": {
           "type": "single"
          }
         },
         "title": "Single (Click)"
        },
        {
         "encoding": {
          "color": {
           "condition": {
            "field": "cluster",
            "selection": "selector003",
            "type": "nominal"
           },
           "value": "grey"
          },
          "order": {
           "field": "pop",
           "sort": "descending",
           "type": "quantitative"
          },
          "size": {
           "field": "pop",
           "type": "quantitative"
          },
          "tooltip": [
           {
            "field": "country",
            "type": "nominal"
           },
           {
            "field": "fertility",
            "type": "quantitative"
           },
           {
            "field": "life_expect",
            "type": "quantitative"
           }
          ],
          "x": {
           "field": "fertility",
           "scale": {
            "zero": false
           },
           "type": "quantitative"
          },
          "y": {
           "field": "life_expect",
           "scale": {
            "zero": false
           },
           "type": "quantitative"
          }
         },
         "mark": {
          "filled": true,
          "type": "point"
         },
         "selection": {
          "selector003": {
           "type": "multi"
          }
         },
         "title": "Multi (Shift-Click)"
        },
        {
         "encoding": {
          "color": {
           "condition": {
            "field": "cluster",
            "selection": "selector004",
            "type": "nominal"
           },
           "value": "grey"
          },
          "order": {
           "field": "pop",
           "sort": "descending",
           "type": "quantitative"
          },
          "size": {
           "field": "pop",
           "type": "quantitative"
          },
          "tooltip": [
           {
            "field": "country",
            "type": "nominal"
           },
           {
            "field": "fertility",
            "type": "quantitative"
           },
           {
            "field": "life_expect",
            "type": "quantitative"
           }
          ],
          "x": {
           "field": "fertility",
           "scale": {
            "zero": false
           },
           "type": "quantitative"
          },
          "y": {
           "field": "life_expect",
           "scale": {
            "zero": false
           },
           "type": "quantitative"
          }
         },
         "mark": {
          "filled": true,
          "type": "point"
         },
         "selection": {
          "selector004": {
           "type": "interval"
          }
         },
         "title": "Interval (Drag)"
        }
       ]
      },
      "image/png": "[encoded data removed]",
      "text/plain": [
       "<VegaLite 3 object>\n",
       "\n",
       "If you see this message, it means the renderer has not been properly enabled\n",
       "for the frontend that you are using. For more information, see\n",
       "https://altair-viz.github.io/user_guide/troubleshooting.html\n"
      ]
     },
     "execution_count": 21,
     "metadata": {},
     "output_type": "execute_result"
    }
   ],
   "source": [
    "alt.hconcat(\n",
    "  plot(alt.selection_single()).properties(title='Single (Click)'),\n",
    "  plot(alt.selection_multi()).properties(title='Multi (Shift-Click)'),\n",
    "  plot(alt.selection_interval()).properties(title='Interval (Drag)')\n",
    ")"
   ]
  },
  {
   "cell_type": "code",
   "execution_count": null,
   "metadata": {},
   "outputs": [],
   "source": []
  }
 ],
 "metadata": {
  "kernelspec": {
   "display_name": "Python 3",
   "language": "python",
   "name": "python3"
  },
  "language_info": {
   "codemirror_mode": {
    "name": "ipython",
    "version": 3
   },
   "file_extension": ".py",
   "mimetype": "text/x-python",
   "name": "python",
   "nbconvert_exporter": "python",
   "pygments_lexer": "ipython3",
   "version": "3.7.4"
  }
 },
 "nbformat": 4,
 "nbformat_minor": 4
}
